{
 "cells": [
  {
   "cell_type": "code",
   "execution_count": 618,
   "metadata": {
    "ExecuteTime": {
     "end_time": "2021-06-06T14:35:52.658339Z",
     "start_time": "2021-06-06T14:35:52.652775Z"
    }
   },
   "outputs": [],
   "source": [
    "import torch\n",
    "import pandas as pd\n",
    "import os \n",
    "import glob\n",
    "import json\n",
    "import numpy as np\n",
    "import copy\n",
    "import re\n",
    "import random\n",
    "import pickle\n",
    "from collections import defaultdict, OrderedDict"
   ]
  },
  {
   "cell_type": "code",
   "execution_count": 2,
   "metadata": {
    "ExecuteTime": {
     "end_time": "2021-06-03T12:32:24.907328Z",
     "start_time": "2021-06-03T12:32:24.554525Z"
    }
   },
   "outputs": [],
   "source": [
    "import stanza\n",
    "from tqdm.notebook import tqdm"
   ]
  },
  {
   "cell_type": "markdown",
   "metadata": {},
   "source": [
    "## Load the Korea Herald Dataset\n",
    "- Store the dataset in `df`\n",
    "- Copy `df` into two different versions:\n",
    "- `df_month` and `df_topic`\n",
    "- `df_month` is used to reduce the time frame into months **(i.e. 2017-07-23 17:24:31 -> 2017-07-01)**.\n",
    "- `df_topic` is used to group articles by the assigned topics."
   ]
  },
  {
   "cell_type": "code",
   "execution_count": 524,
   "metadata": {
    "ExecuteTime": {
     "end_time": "2021-06-06T13:38:35.229193Z",
     "start_time": "2021-06-06T13:38:34.162672Z"
    }
   },
   "outputs": [],
   "source": [
    "PATH=\"./data\"\n",
    "df_temp = []\n",
    "if os.path.exists(PATH):\n",
    "    for file in glob.glob(os.path.join(PATH, \"*.json\")):\n",
    "        with open(file, \"r\") as f:\n",
    "            data=json.load(f)\n",
    "            df_temp.append(pd.DataFrame.from_dict(data))\n",
    "\n",
    "df = pd.concat(df_temp, ignore_index=True)"
   ]
  },
  {
   "cell_type": "code",
   "execution_count": 540,
   "metadata": {
    "ExecuteTime": {
     "end_time": "2021-06-06T13:51:49.432435Z",
     "start_time": "2021-06-06T13:51:49.419786Z"
    }
   },
   "outputs": [
    {
     "data": {
      "text/html": [
       "<div>\n",
       "<style scoped>\n",
       "    .dataframe tbody tr th:only-of-type {\n",
       "        vertical-align: middle;\n",
       "    }\n",
       "\n",
       "    .dataframe tbody tr th {\n",
       "        vertical-align: top;\n",
       "    }\n",
       "\n",
       "    .dataframe thead th {\n",
       "        text-align: right;\n",
       "    }\n",
       "</style>\n",
       "<table border=\"1\" class=\"dataframe\">\n",
       "  <thead>\n",
       "    <tr style=\"text-align: right;\">\n",
       "      <th></th>\n",
       "      <th>title</th>\n",
       "      <th>author</th>\n",
       "      <th>time</th>\n",
       "      <th>description</th>\n",
       "      <th>body</th>\n",
       "      <th>section</th>\n",
       "    </tr>\n",
       "  </thead>\n",
       "  <tbody>\n",
       "    <tr>\n",
       "      <th>0</th>\n",
       "      <td>A snapshot of multiculturalism in South Korea</td>\n",
       "      <td>Lee Sun-young</td>\n",
       "      <td>2018-01-01 17:07:00</td>\n",
       "      <td>With birthrates persistently low and the senio...</td>\n",
       "      <td>With birthrates persistently low and the senio...</td>\n",
       "      <td>Social affairs</td>\n",
       "    </tr>\n",
       "    <tr>\n",
       "      <th>1</th>\n",
       "      <td>[Weekender] Korea’s dynamic 2017</td>\n",
       "      <td>Choi He-suk</td>\n",
       "      <td>2018-01-01 13:22:00</td>\n",
       "      <td>From North Korea’s nuclear weapons program nea...</td>\n",
       "      <td>From North Korea’s nuclear weapons program nea...</td>\n",
       "      <td>Social affairs</td>\n",
       "    </tr>\n",
       "    <tr>\n",
       "      <th>2</th>\n",
       "      <td>People's Party members support Ahn's push for ...</td>\n",
       "      <td>Yonhap</td>\n",
       "      <td>2017-12-31 16:18:00</td>\n",
       "      <td>The leader of the center-left People's Party g...</td>\n",
       "      <td>The leader of the center-left People's Party g...</td>\n",
       "      <td>Politics</td>\n",
       "    </tr>\n",
       "    <tr>\n",
       "      <th>3</th>\n",
       "      <td>[Newsmaker] Panamanian vessel probed over susp...</td>\n",
       "      <td>Yonhap</td>\n",
       "      <td>2017-12-31 14:55:00</td>\n",
       "      <td>PYEONGTAEK  -- South Korea has seized and insp...</td>\n",
       "      <td>PYEONGTAEK  -- South Korea has seized and insp...</td>\n",
       "      <td>North Korea</td>\n",
       "    </tr>\n",
       "    <tr>\n",
       "      <th>4</th>\n",
       "      <td>Hong Kong ship crew questioned in S. Korea for...</td>\n",
       "      <td>AFP</td>\n",
       "      <td>2017-12-30 15:44:00</td>\n",
       "      <td>The crew of a Hong Kong-registered ship have b...</td>\n",
       "      <td>The crew of a Hong Kong-registered ship have b...</td>\n",
       "      <td>North Korea</td>\n",
       "    </tr>\n",
       "  </tbody>\n",
       "</table>\n",
       "</div>"
      ],
      "text/plain": [
       "                                               title         author  \\\n",
       "0      A snapshot of multiculturalism in South Korea  Lee Sun-young   \n",
       "1                   [Weekender] Korea’s dynamic 2017    Choi He-suk   \n",
       "2  People's Party members support Ahn's push for ...         Yonhap   \n",
       "3  [Newsmaker] Panamanian vessel probed over susp...         Yonhap   \n",
       "4  Hong Kong ship crew questioned in S. Korea for...            AFP   \n",
       "\n",
       "                  time                                        description  \\\n",
       "0  2018-01-01 17:07:00  With birthrates persistently low and the senio...   \n",
       "1  2018-01-01 13:22:00  From North Korea’s nuclear weapons program nea...   \n",
       "2  2017-12-31 16:18:00  The leader of the center-left People's Party g...   \n",
       "3  2017-12-31 14:55:00  PYEONGTAEK  -- South Korea has seized and insp...   \n",
       "4  2017-12-30 15:44:00  The crew of a Hong Kong-registered ship have b...   \n",
       "\n",
       "                                                body         section  \n",
       "0  With birthrates persistently low and the senio...  Social affairs  \n",
       "1  From North Korea’s nuclear weapons program nea...  Social affairs  \n",
       "2  The leader of the center-left People's Party g...        Politics  \n",
       "3  PYEONGTAEK  -- South Korea has seized and insp...     North Korea  \n",
       "4  The crew of a Hong Kong-registered ship have b...     North Korea  "
      ]
     },
     "execution_count": 540,
     "metadata": {},
     "output_type": "execute_result"
    }
   ],
   "source": [
    "df.head(5)"
   ]
  },
  {
   "cell_type": "code",
   "execution_count": 537,
   "metadata": {
    "ExecuteTime": {
     "end_time": "2021-06-06T13:51:19.722437Z",
     "start_time": "2021-06-06T13:51:19.714079Z"
    }
   },
   "outputs": [],
   "source": [
    "df_month = copy.deepcopy(df)  # Used to generalize time frame to \"months\" instead of hours and days.\n",
    "df_topic = copy.deepcopy(df)  # Used to append topic column after running BERTopic"
   ]
  },
  {
   "cell_type": "markdown",
   "metadata": {},
   "source": [
    "## Replacing datetime in `time` from the dataset\n",
    "- To group the data instances in `df_month` by months.\n",
    "- This allows us to effectively visualize `topic_model.visualize_topics_over_time(topics_over_time)`"
   ]
  },
  {
   "cell_type": "code",
   "execution_count": 539,
   "metadata": {
    "ExecuteTime": {
     "end_time": "2021-06-06T13:51:47.614110Z",
     "start_time": "2021-06-06T13:51:42.198623Z"
    }
   },
   "outputs": [
    {
     "data": {
      "application/vnd.jupyter.widget-view+json": {
       "model_id": "b04395a5185d4bba9bf433b29aef4a27",
       "version_major": 2,
       "version_minor": 0
      },
      "text/plain": [
       "  0%|          | 0/23769 [00:00<?, ?it/s]"
      ]
     },
     "metadata": {},
     "output_type": "display_data"
    },
    {
     "data": {
      "text/html": [
       "<div>\n",
       "<style scoped>\n",
       "    .dataframe tbody tr th:only-of-type {\n",
       "        vertical-align: middle;\n",
       "    }\n",
       "\n",
       "    .dataframe tbody tr th {\n",
       "        vertical-align: top;\n",
       "    }\n",
       "\n",
       "    .dataframe thead th {\n",
       "        text-align: right;\n",
       "    }\n",
       "</style>\n",
       "<table border=\"1\" class=\"dataframe\">\n",
       "  <thead>\n",
       "    <tr style=\"text-align: right;\">\n",
       "      <th></th>\n",
       "      <th>title</th>\n",
       "      <th>author</th>\n",
       "      <th>time</th>\n",
       "      <th>description</th>\n",
       "      <th>body</th>\n",
       "      <th>section</th>\n",
       "    </tr>\n",
       "  </thead>\n",
       "  <tbody>\n",
       "    <tr>\n",
       "      <th>0</th>\n",
       "      <td>A snapshot of multiculturalism in South Korea</td>\n",
       "      <td>Lee Sun-young</td>\n",
       "      <td>2018-01-01</td>\n",
       "      <td>With birthrates persistently low and the senio...</td>\n",
       "      <td>With birthrates persistently low and the senio...</td>\n",
       "      <td>Social affairs</td>\n",
       "    </tr>\n",
       "    <tr>\n",
       "      <th>1</th>\n",
       "      <td>[Weekender] Korea’s dynamic 2017</td>\n",
       "      <td>Choi He-suk</td>\n",
       "      <td>2018-01-01</td>\n",
       "      <td>From North Korea’s nuclear weapons program nea...</td>\n",
       "      <td>From North Korea’s nuclear weapons program nea...</td>\n",
       "      <td>Social affairs</td>\n",
       "    </tr>\n",
       "    <tr>\n",
       "      <th>2</th>\n",
       "      <td>People's Party members support Ahn's push for ...</td>\n",
       "      <td>Yonhap</td>\n",
       "      <td>2017-12-01</td>\n",
       "      <td>The leader of the center-left People's Party g...</td>\n",
       "      <td>The leader of the center-left People's Party g...</td>\n",
       "      <td>Politics</td>\n",
       "    </tr>\n",
       "    <tr>\n",
       "      <th>3</th>\n",
       "      <td>[Newsmaker] Panamanian vessel probed over susp...</td>\n",
       "      <td>Yonhap</td>\n",
       "      <td>2017-12-01</td>\n",
       "      <td>PYEONGTAEK  -- South Korea has seized and insp...</td>\n",
       "      <td>PYEONGTAEK  -- South Korea has seized and insp...</td>\n",
       "      <td>North Korea</td>\n",
       "    </tr>\n",
       "    <tr>\n",
       "      <th>4</th>\n",
       "      <td>Hong Kong ship crew questioned in S. Korea for...</td>\n",
       "      <td>AFP</td>\n",
       "      <td>2017-12-01</td>\n",
       "      <td>The crew of a Hong Kong-registered ship have b...</td>\n",
       "      <td>The crew of a Hong Kong-registered ship have b...</td>\n",
       "      <td>North Korea</td>\n",
       "    </tr>\n",
       "  </tbody>\n",
       "</table>\n",
       "</div>"
      ],
      "text/plain": [
       "                                               title         author  \\\n",
       "0      A snapshot of multiculturalism in South Korea  Lee Sun-young   \n",
       "1                   [Weekender] Korea’s dynamic 2017    Choi He-suk   \n",
       "2  People's Party members support Ahn's push for ...         Yonhap   \n",
       "3  [Newsmaker] Panamanian vessel probed over susp...         Yonhap   \n",
       "4  Hong Kong ship crew questioned in S. Korea for...            AFP   \n",
       "\n",
       "         time                                        description  \\\n",
       "0  2018-01-01  With birthrates persistently low and the senio...   \n",
       "1  2018-01-01  From North Korea’s nuclear weapons program nea...   \n",
       "2  2017-12-01  The leader of the center-left People's Party g...   \n",
       "3  2017-12-01  PYEONGTAEK  -- South Korea has seized and insp...   \n",
       "4  2017-12-01  The crew of a Hong Kong-registered ship have b...   \n",
       "\n",
       "                                                body         section  \n",
       "0  With birthrates persistently low and the senio...  Social affairs  \n",
       "1  From North Korea’s nuclear weapons program nea...  Social affairs  \n",
       "2  The leader of the center-left People's Party g...        Politics  \n",
       "3  PYEONGTAEK  -- South Korea has seized and insp...     North Korea  \n",
       "4  The crew of a Hong Kong-registered ship have b...     North Korea  "
      ]
     },
     "execution_count": 539,
     "metadata": {},
     "output_type": "execute_result"
    }
   ],
   "source": [
    "pattern = re.compile(r\"(\\d{4})-(\\d{2})-(\\d{2}) (\\d{2}):(\\d{2}):(\\d{2})\")\n",
    "for i, row in tqdm(df.iterrows(), total=df_month.shape[0]):\n",
    "    parsed_datetime = list(pattern.findall(df.iloc[i][\" time\"])[0])[:3]\n",
    "    parsed_datetime[2] = \"01\"\n",
    "    df_month.iloc[i][\" time\"] = \"-\".join(parsed_datetime)\n",
    "df_month.head(5)"
   ]
  },
  {
   "cell_type": "markdown",
   "metadata": {},
   "source": [
    "## Using [BERTopic](https://maartengr.github.io/BERTopic/tutorial/algorithm/algorithm.html) for topic modeling & clustering\n",
    "- BERTopic utilizes Sentence-BERT to create document embeddings.\n",
    "- We use it to:\n",
    "    1. Clustering articles according to their topic.\n",
    "    2. Identify events per time frame.\n",
    "    3. Calculate intra-topic pairwise document similarity and sort by time to discvoer **On-Issue** articles.\n",
    "    4. Discover **Related-Issue** articles that are not **On-Issue** articles."
   ]
  },
  {
   "cell_type": "code",
   "execution_count": 10,
   "metadata": {
    "ExecuteTime": {
     "end_time": "2021-06-03T12:47:59.048241Z",
     "start_time": "2021-06-03T12:47:46.728305Z"
    }
   },
   "outputs": [],
   "source": [
    "from bertopic import BERTopic"
   ]
  },
  {
   "cell_type": "code",
   "execution_count": 11,
   "metadata": {
    "ExecuteTime": {
     "end_time": "2021-06-03T12:51:14.977903Z",
     "start_time": "2021-06-03T12:48:39.698687Z"
    },
    "scrolled": true
   },
   "outputs": [
    {
     "name": "stdout",
     "output_type": "stream",
     "text": [
      "Model already exists. Loading model from ./bertopic_khearld_model.pth ...\n"
     ]
    }
   ],
   "source": [
    "# Korea herald\n",
    "model_path = \"./bertopic_khearld_model.pth\"\n",
    "if not os.path.exists(model_path):\n",
    "    '''\n",
    "    BERTopic()\n",
    "    \n",
    "    - set `calculate_probabilities` to True to return the `probabilities`\n",
    "    - set `nr_topics` to `auto` for automatic topic reduction with similarity over 0.9\n",
    "    '''\n",
    "    topic_model = BERTopic(calculate_probabilities=True)# BERTopic(calculate_probabilities=True, nr_topics=\"auto\")\n",
    "    topics, topic_prob = topic_model.fit_transform(body)\n",
    "    topic_model.save(model_path)\n",
    "else:\n",
    "    print(\"Model already exists. Loading model from {} ...\".format(model_path))\n",
    "    topic_model = BERTopic.load(model_path)\n",
    "    topics, topic_prob= topic_model.transform(df[\" body\"])"
   ]
  },
  {
   "cell_type": "code",
   "execution_count": 12,
   "metadata": {
    "ExecuteTime": {
     "end_time": "2021-06-03T12:51:14.984471Z",
     "start_time": "2021-06-03T12:51:14.979486Z"
    }
   },
   "outputs": [
    {
     "name": "stdout",
     "output_type": "stream",
     "text": [
      "topics (len):  23769\n",
      "[ -1  -1  -1 ...  -1  -1 228]\n",
      "topic_prob (shape):  (23769, 267)\n"
     ]
    }
   ],
   "source": [
    "print(\"topics (len): \", len(topics))\n",
    "print(topics)\n",
    "print(\"topic_prob (shape): \", topic_prob.shape)"
   ]
  },
  {
   "cell_type": "markdown",
   "metadata": {},
   "source": [
    "## Create `df_topic` to group_by `topic`\n",
    "- Assign the topics from BERTopic to every article"
   ]
  },
  {
   "cell_type": "code",
   "execution_count": 590,
   "metadata": {
    "ExecuteTime": {
     "end_time": "2021-06-06T14:12:12.783283Z",
     "start_time": "2021-06-06T14:12:12.769620Z"
    },
    "scrolled": true
   },
   "outputs": [
    {
     "data": {
      "text/html": [
       "<div>\n",
       "<style scoped>\n",
       "    .dataframe tbody tr th:only-of-type {\n",
       "        vertical-align: middle;\n",
       "    }\n",
       "\n",
       "    .dataframe tbody tr th {\n",
       "        vertical-align: top;\n",
       "    }\n",
       "\n",
       "    .dataframe thead th {\n",
       "        text-align: right;\n",
       "    }\n",
       "</style>\n",
       "<table border=\"1\" class=\"dataframe\">\n",
       "  <thead>\n",
       "    <tr style=\"text-align: right;\">\n",
       "      <th></th>\n",
       "      <th>title</th>\n",
       "      <th>author</th>\n",
       "      <th>time</th>\n",
       "      <th>description</th>\n",
       "      <th>body</th>\n",
       "      <th>section</th>\n",
       "      <th>topic</th>\n",
       "    </tr>\n",
       "  </thead>\n",
       "  <tbody>\n",
       "    <tr>\n",
       "      <th>7751</th>\n",
       "      <td>Ex-US Secretary of State Kerry joins Carnegie ...</td>\n",
       "      <td>KH디지털2</td>\n",
       "      <td>2017-03-03 09:47:00</td>\n",
       "      <td>Former US Secretary of State John Kerry has jo...</td>\n",
       "      <td>Former US Secretary of State John Kerry has jo...</td>\n",
       "      <td>International</td>\n",
       "      <td>22</td>\n",
       "    </tr>\n",
       "    <tr>\n",
       "      <th>10340</th>\n",
       "      <td>Kerry has no plans to meet with N. Korean FM: ...</td>\n",
       "      <td>KH디지털2</td>\n",
       "      <td>2015-08-05 09:32:00</td>\n",
       "      <td>U.S. Secretary of State John Kerry has no plan...</td>\n",
       "      <td>U.S. Secretary of State John Kerry has no plan...</td>\n",
       "      <td>North Korea</td>\n",
       "      <td>22</td>\n",
       "    </tr>\n",
       "    <tr>\n",
       "      <th>11824</th>\n",
       "      <td>Kerry's remark about THAAD meant 'internal U.S...</td>\n",
       "      <td>KH디지털2</td>\n",
       "      <td>2015-05-21 09:52:00</td>\n",
       "      <td>U.S. Secretary of State John Kerry was referri...</td>\n",
       "      <td>U.S. Secretary of State John Kerry was referri...</td>\n",
       "      <td>Defense</td>\n",
       "      <td>22</td>\n",
       "    </tr>\n",
       "    <tr>\n",
       "      <th>11864</th>\n",
       "      <td>Kerry thanks lawmaker for helping U.S. ambassa...</td>\n",
       "      <td>KH디지털2</td>\n",
       "      <td>2015-05-19 17:28:00</td>\n",
       "      <td>U.S. Secretary of State John Kerry has thanked...</td>\n",
       "      <td>U.S. Secretary of State John Kerry has thanked...</td>\n",
       "      <td>Politics</td>\n",
       "      <td>22</td>\n",
       "    </tr>\n",
       "    <tr>\n",
       "      <th>11900</th>\n",
       "      <td>Park meets with Kerry on N. Korea</td>\n",
       "      <td>KH디지털2</td>\n",
       "      <td>2015-05-18 10:52:00</td>\n",
       "      <td>President Park Geun-hye met with U.S. Secretar...</td>\n",
       "      <td>President Park Geun-hye met with U.S. Secretar...</td>\n",
       "      <td>International</td>\n",
       "      <td>22</td>\n",
       "    </tr>\n",
       "  </tbody>\n",
       "</table>\n",
       "</div>"
      ],
      "text/plain": [
       "                                                   title  author  \\\n",
       "7751   Ex-US Secretary of State Kerry joins Carnegie ...  KH디지털2   \n",
       "10340  Kerry has no plans to meet with N. Korean FM: ...  KH디지털2   \n",
       "11824  Kerry's remark about THAAD meant 'internal U.S...  KH디지털2   \n",
       "11864  Kerry thanks lawmaker for helping U.S. ambassa...  KH디지털2   \n",
       "11900                  Park meets with Kerry on N. Korea  KH디지털2   \n",
       "\n",
       "                      time                                        description  \\\n",
       "7751   2017-03-03 09:47:00  Former US Secretary of State John Kerry has jo...   \n",
       "10340  2015-08-05 09:32:00  U.S. Secretary of State John Kerry has no plan...   \n",
       "11824  2015-05-21 09:52:00  U.S. Secretary of State John Kerry was referri...   \n",
       "11864  2015-05-19 17:28:00  U.S. Secretary of State John Kerry has thanked...   \n",
       "11900  2015-05-18 10:52:00  President Park Geun-hye met with U.S. Secretar...   \n",
       "\n",
       "                                                    body        section  topic  \n",
       "7751   Former US Secretary of State John Kerry has jo...  International     22  \n",
       "10340  U.S. Secretary of State John Kerry has no plan...    North Korea     22  \n",
       "11824  U.S. Secretary of State John Kerry was referri...        Defense     22  \n",
       "11864  U.S. Secretary of State John Kerry has thanked...       Politics     22  \n",
       "11900  President Park Geun-hye met with U.S. Secretar...  International     22  "
      ]
     },
     "execution_count": 590,
     "metadata": {},
     "output_type": "execute_result"
    }
   ],
   "source": [
    "df_topic[\"topic\"] = topics\n",
    "group_df = df_topic.groupby(\"topic\")\n",
    "group_df.get_group(22).head(5)"
   ]
  },
  {
   "cell_type": "code",
   "execution_count": 559,
   "metadata": {
    "ExecuteTime": {
     "end_time": "2021-06-06T13:52:25.620895Z",
     "start_time": "2021-06-06T13:52:25.614853Z"
    }
   },
   "outputs": [
    {
     "name": "stdout",
     "output_type": "stream",
     "text": [
      "Number of article pairs: 2162\n",
      "[ Topic_idx : 210 ]\n",
      ">> TOPIC INFO >> [('sanctions', 0.0177671787659192), ('coal', 0.012351948965624646), ('entities', 0.0066345724897857415), ('unsc', 0.006430243703105032), ('oil', 0.005954842057650002), ('imports', 0.00583182142390142), ('treasury', 0.004771416630785954), ('currency', 0.004246924392019113), ('iron', 0.0040253793251685595), ('blacklisted', 0.0038836375205140265)]\n"
     ]
    }
   ],
   "source": [
    "# Randomly sample some topic_idx\n",
    "topic_idx = random.sample(list(topic_idx_on_issue.keys()), 1)[0]\n",
    "print(\"Number of article pairs: {}\".format(len(topic_idx_on_issue[topic_idx])))\n",
    "print(\"[ Topic_idx : {} ]\".format(topic_idx))\n",
    "print(\">> TOPIC INFO >> {}\".format(topic_model.get_topic(topic_idx)), end=\"\\n\")"
   ]
  },
  {
   "cell_type": "markdown",
   "metadata": {},
   "source": [
    "# On-Issue & Related-Issue Event Extraction\n",
    "This part explains the extraction of On-Issue and Related-Issue events\n",
    "\n",
    "1. Using `SentenceTransformer`, we generate the Seed article embedding (`seed_embedding`) and the intra-topic article embeddings (`doc_embeddings`).\n",
    "2. Using the document vectors, we calculate cosine similarity for every `doc_embedding` against the `seed_embedding` to see its relevance.\n",
    "3. After filtering doc_embeddings that have cosine similarity < 0.9, we sort them by time and select the closest one.\n",
    "4. After Step 3, we have `on_issue_df`, a collection of **On-Issue articles**\n",
    "5. Using `on_issue_df`, we select `related_issue_df`, which are a collection of articles that are NOT On-Issue. We treat these articles as the **Related-Issue articles**."
   ]
  },
  {
   "cell_type": "code",
   "execution_count": 608,
   "metadata": {
    "ExecuteTime": {
     "end_time": "2021-06-06T14:20:32.826687Z",
     "start_time": "2021-06-06T14:20:26.401665Z"
    }
   },
   "outputs": [],
   "source": [
    "from sentence_transformers import SentenceTransformer, util\n",
    "from summarizer import TransformerSummarizer\n",
    "from transformers import BertTokenizer\n",
    "\n",
    "tokenizer = BertTokenizer.from_pretrained(\"bert-base-uncased\")\n",
    "sentence_model = SentenceTransformer(\"distilbert-base-nli-mean-tokens\")\n",
    "summarizer_model = TransformerSummarizer(transformer_type=\"XLNet\",transformer_model_key=\"xlnet-base-cased\")"
   ]
  },
  {
   "cell_type": "markdown",
   "metadata": {},
   "source": [
    "### Construct new dataframe for topic based on similarity score > 0.90 (Seed Article)"
   ]
  },
  {
   "cell_type": "code",
   "execution_count": 502,
   "metadata": {
    "ExecuteTime": {
     "end_time": "2021-06-06T13:28:11.141229Z",
     "start_time": "2021-06-06T13:28:11.131391Z"
    }
   },
   "outputs": [],
   "source": [
    "def on_issue_select(seed_idx, group_df, sentence_model):\n",
    "    '''\n",
    "    Greedily chooses On-Issue events given a seed article after constructing a cosine-similarity based graph\n",
    "    \n",
    "    Args:\n",
    "    \n",
    "    seed_idx - seed document index from the given topic (i.e., Issue)\n",
    "    group_df- contains info about the docs and seed doc within the same topic\n",
    "    sentence_model - Sentence encoder model (e.g., SentenceTransformer(\"distilbert-base-nli-mean-tokens\"))\n",
    "    \n",
    "    Return:\n",
    "    \n",
    "    onissue_list : pd.DataFrame\n",
    "    \n",
    "    '''\n",
    "    # Termination criteria\n",
    "    if group_df.shape[0] < 1:\n",
    "        return None\n",
    "    \n",
    "    else:\n",
    "        topic_idx2doc = dict(group_df[\" body\"])\n",
    "        doc_idx, docs = zip(*topic_idx2doc.items())\n",
    "        key2idx = dict(zip(list(range(len(doc_idx))), doc_idx))  # `key2idx` is Dict[key: document_idx]\n",
    "        idx2key = {v: k for k, v in key2idx.items()}\n",
    "\n",
    "        doc_embeddings = torch.from_numpy(sentence_model.encode(docs))\n",
    "        seed_embedding = doc_embeddings[idx2key[seed_idx]].unsqueeze(0)\n",
    "        cos_sim = util.pytorch_cos_sim(seed_embedding, doc_embeddings)\n",
    "\n",
    "        sim_doc_idx = []\n",
    "        for i, sim_score in enumerate(cos_sim[0]):\n",
    "            if sim_score.item() > 0.9 and sim_score.item() < 0.98:  # Prevent same articles from being included\n",
    "                sim_doc_idx.append(key2idx[i])\n",
    "        if len(sim_doc_idx) < 1:  # No document with cosine similiarity > 0.9, then terminate\n",
    "            return None\n",
    "        group_df_seed = group_df.loc[sim_doc_idx]\n",
    "        group_df_seed.sort_values(by=[\" time\"], inplace=True)  # Sort by time\n",
    "        next_seed_doc = group_df_seed.iloc[0] # Greedily select the \"closest\" article in time\n",
    "        next_seed_idx = group_df_seed.index[0]\n",
    "\n",
    "        # Remove documents that are earlier in time\n",
    "        next_group_df = group_df[group_df[\" time\"] >= group_df.loc[next_seed_idx][\" time\"]]\n",
    "        next_events = on_issue_select(next_seed_idx, next_group_df, sentence_model)\n",
    "        \n",
    "    onissue_list = []\n",
    "    onissue_list.append(next_seed_doc)  # The next event selected\n",
    "    if next_events is not None:\n",
    "        onissue_list.extend(next_events)\n",
    "    \n",
    "    return onissue_list"
   ]
  },
  {
   "cell_type": "code",
   "execution_count": 511,
   "metadata": {
    "ExecuteTime": {
     "end_time": "2021-06-06T13:28:52.675919Z",
     "start_time": "2021-06-06T13:28:52.670825Z"
    }
   },
   "outputs": [],
   "source": [
    "def related_issue_select(on_issue_df, group_df, sentence_model):\n",
    "    '''\n",
    "    Choose Related-Issue articles based on On-Issue articles from the same topic.\n",
    "    \n",
    "    Args:\n",
    "    \n",
    "    on_issue_df - On-Issue articles retrieved by `on_issue_select()` method.\n",
    "    group_df- contains info about the docs and seed doc within the same topic.\n",
    "    sentence_model - Sentence encoder model (e.g., SentenceTransformer(\"distilbert-base-nli-mean-tokens\")).\n",
    "    \n",
    "    Return:\n",
    "    \n",
    "    related_issue_df : pd.DataFrame\n",
    "    \n",
    "    '''\n",
    "    on_issue_idx = list(on_issue_df.index)\n",
    "    rel_issue_idx = [rel_idx for rel_idx in group_df.index if rel_idx not in on_issue_idx]\n",
    "    related_issue_df = group_df.loc[rel_issue_idx]\n",
    "    \n",
    "    return related_issue_df"
   ]
  },
  {
   "cell_type": "code",
   "execution_count": 653,
   "metadata": {
    "ExecuteTime": {
     "end_time": "2021-06-06T14:46:26.720282Z",
     "start_time": "2021-06-06T14:46:26.701776Z"
    }
   },
   "outputs": [],
   "source": [
    "def select_seed(topic_model, topic_idx, group_df, summarizer, tokenizer):\n",
    "    '''\n",
    "    Select seeds based on the following criteria:\n",
    "    1. Choose the top-3 most similar documents to the given Issue (ie., topic from BERTopic).\n",
    "    (By choosing the documents with the most top-10 terms for the chosen topic.)\n",
    "    2. Summarize the documents using XLNet summarizer to reduce time complexity.\n",
    "    3. Choose the article with the earliest (i.e., least) date (heuristic to ensure that there are subsequent articles coming along).\n",
    "    '''\n",
    "    idx2overlap = {}\n",
    "    for i, row in group_df.iterrows():\n",
    "        overlap = 0\n",
    "        topic_terms, c_tfidf = map(list, zip(*topic_model.get_topic(topic_idx)))\n",
    "        summ_doc = summarizer(row[\" body\"], min_length=60).lower()  # Summarize the body\n",
    "        summ_doc_tok = tokenizer.tokenize(summ_doc)  # Tokenize the temrs to match the terms from BERTopic\n",
    "        overlap = len([term for term in topic_terms if term in summ_doc_tok])\n",
    "        idx2overlap[i] = overlap\n",
    "    idx2overlap_sorted = OrderedDict(sorted(idx2overlap.items(), key=lambda item: item[1], reverse=True))\n",
    "    candidate_seeds, _ = map(list, zip(*list(idx2overlap_sorted.items())[:3]))\n",
    "    candidate_docs = group_df.loc[candidate_seeds]\n",
    "    candidate_docs.sort_values(by=[\" time\"], inplace=True)\n",
    "\n",
    "    return candidate_docs.iloc[0]"
   ]
  },
  {
   "cell_type": "code",
   "execution_count": 661,
   "metadata": {
    "ExecuteTime": {
     "end_time": "2021-06-06T14:47:41.488813Z",
     "start_time": "2021-06-06T14:47:36.114368Z"
    }
   },
   "outputs": [
    {
     "data": {
      "text/plain": [
       "11905"
      ]
     },
     "execution_count": 661,
     "metadata": {},
     "output_type": "execute_result"
    }
   ],
   "source": [
    "# Example of `select_seed()`\n",
    "seed_sample = select_seed(topic_model, 22, group_df.get_group(22), summarizer_model, tokenizer)\n",
    "seed_sample.name"
   ]
  },
  {
   "cell_type": "code",
   "execution_count": 662,
   "metadata": {
    "ExecuteTime": {
     "end_time": "2021-06-06T14:48:33.740484Z",
     "start_time": "2021-06-06T14:48:33.734489Z"
    }
   },
   "outputs": [],
   "source": [
    "def generate_issue_df(topic_idx, group_df, sentence_model):\n",
    "    '''\n",
    "    Args\n",
    "    \n",
    "    topic_idx - Topic index from the List of topics from BERTopic() for each article\n",
    "    group_df - using pandas.DataFrame for dataset that has been grouped by `topics`\n",
    "    issue_type - Decides if issue_type is either `onissue` or `relissue`\n",
    "    '''\n",
    "    # Group articles by topic\n",
    "    group_df_sample = group_df.get_group(topic_idx)\n",
    "    group_df_sample.sort_values(by=[\" time\"], inplace=True)  # Sort by time (Greedy search according to minimum time distance)\n",
    "    \n",
    "    seed_doc = select_seed(topic_model, topic_idx, group_df_sample, summarizer_model, tokenizer)\n",
    "    seed_idx = seed_doc.name\n",
    "    \n",
    "    on_issue_docs = on_issue_select(seed_idx, group_df_sample, sentence_model)\n",
    "    on_issue_df = pd.DataFrame(on_issue_docs)\n",
    "    related_issue_docs = related_issue_select(on_issue_df, group_df_sample, sentence_model)\n",
    "    related_issue_df = related_issue_docs\n",
    "        \n",
    "    return on_issue_df, related_issue_df"
   ]
  },
  {
   "cell_type": "markdown",
   "metadata": {},
   "source": [
    "- Try to generate **On-Issue** and **Related-Issue** articles from topic-grouped DataFrames"
   ]
  },
  {
   "cell_type": "code",
   "execution_count": 663,
   "metadata": {
    "ExecuteTime": {
     "end_time": "2021-06-06T14:48:44.143298Z",
     "start_time": "2021-06-06T14:48:38.200297Z"
    },
    "scrolled": true
   },
   "outputs": [
    {
     "data": {
      "application/vnd.jupyter.widget-view+json": {
       "model_id": "86ec6c406b584f10adaa49be71f86bec",
       "version_major": 2,
       "version_minor": 0
      },
      "text/plain": [
       "  0%|          | 0/13016 [00:00<?, ?it/s]"
      ]
     },
     "metadata": {},
     "output_type": "display_data"
    },
    {
     "name": "stderr",
     "output_type": "stream",
     "text": [
      "<ipython-input-662-d485a22cb91a>:11: SettingWithCopyWarning:\n",
      "\n",
      "\n",
      "A value is trying to be set on a copy of a slice from a DataFrame\n",
      "\n",
      "See the caveats in the documentation: https://pandas.pydata.org/pandas-docs/stable/user_guide/indexing.html#returning-a-view-versus-a-copy\n",
      "\n"
     ]
    }
   ],
   "source": [
    "for topic_idx in tqdm(topics[topics != -1]):\n",
    "    topic_idx = 22\n",
    "\n",
    "    # Generate On-Issue and Related-Issue articles\n",
    "    on_issue_df, related_issue_df = generate_issue_df(topic_idx, group_df, sentence_model)\n",
    "    \n",
    "    break"
   ]
  },
  {
   "cell_type": "code",
   "execution_count": 664,
   "metadata": {
    "ExecuteTime": {
     "end_time": "2021-06-06T14:48:44.153616Z",
     "start_time": "2021-06-06T14:48:44.144793Z"
    },
    "scrolled": false
   },
   "outputs": [
    {
     "data": {
      "text/html": [
       "<div>\n",
       "<style scoped>\n",
       "    .dataframe tbody tr th:only-of-type {\n",
       "        vertical-align: middle;\n",
       "    }\n",
       "\n",
       "    .dataframe tbody tr th {\n",
       "        vertical-align: top;\n",
       "    }\n",
       "\n",
       "    .dataframe thead th {\n",
       "        text-align: right;\n",
       "    }\n",
       "</style>\n",
       "<table border=\"1\" class=\"dataframe\">\n",
       "  <thead>\n",
       "    <tr style=\"text-align: right;\">\n",
       "      <th></th>\n",
       "      <th>title</th>\n",
       "      <th>author</th>\n",
       "      <th>time</th>\n",
       "      <th>description</th>\n",
       "      <th>body</th>\n",
       "      <th>section</th>\n",
       "      <th>topic</th>\n",
       "    </tr>\n",
       "  </thead>\n",
       "  <tbody>\n",
       "    <tr>\n",
       "      <th>12019</th>\n",
       "      <td>Kerry to visit S. Korea next week: source</td>\n",
       "      <td>배지숙</td>\n",
       "      <td>2015-05-11 21:30:00</td>\n",
       "      <td>U.S. Secretary of State John Kerry will visit ...</td>\n",
       "      <td>U.S. Secretary of State John Kerry will visit ...</td>\n",
       "      <td>North Korea</td>\n",
       "      <td>22</td>\n",
       "    </tr>\n",
       "    <tr>\n",
       "      <th>11998</th>\n",
       "      <td>N. Korea's missile test to be on agenda for Yu...</td>\n",
       "      <td>KH디지털2</td>\n",
       "      <td>2015-05-12 17:10:00</td>\n",
       "      <td>South Korean Foreign Minister Yun Byung-se and...</td>\n",
       "      <td>South Korean Foreign Minister Yun Byung-se and...</td>\n",
       "      <td>International</td>\n",
       "      <td>22</td>\n",
       "    </tr>\n",
       "    <tr>\n",
       "      <th>11917</th>\n",
       "      <td>Kerry due in Seoul for talks on N. Korea, alli...</td>\n",
       "      <td>KH디지털2</td>\n",
       "      <td>2015-05-17 10:49:00</td>\n",
       "      <td>U.S. Secretary of State John Kerry is schedule...</td>\n",
       "      <td>U.S. Secretary of State John Kerry is schedule...</td>\n",
       "      <td>North Korea</td>\n",
       "      <td>22</td>\n",
       "    </tr>\n",
       "    <tr>\n",
       "      <th>11915</th>\n",
       "      <td>Kerry in South Korea to talk security, cyber i...</td>\n",
       "      <td>김연세</td>\n",
       "      <td>2015-05-17 18:43:00</td>\n",
       "      <td>U.S. Secretary of State John Kerry is in South...</td>\n",
       "      <td>U.S. Secretary of State John Kerry is in South...</td>\n",
       "      <td>Foreign Policy</td>\n",
       "      <td>22</td>\n",
       "    </tr>\n",
       "    <tr>\n",
       "      <th>11900</th>\n",
       "      <td>Park meets with Kerry on N. Korea</td>\n",
       "      <td>KH디지털2</td>\n",
       "      <td>2015-05-18 10:52:00</td>\n",
       "      <td>President Park Geun-hye met with U.S. Secretar...</td>\n",
       "      <td>President Park Geun-hye met with U.S. Secretar...</td>\n",
       "      <td>International</td>\n",
       "      <td>22</td>\n",
       "    </tr>\n",
       "    <tr>\n",
       "      <th>19149</th>\n",
       "      <td>Kerry discusses N.K. nuclear test with Russian FM</td>\n",
       "      <td>KH디지털2</td>\n",
       "      <td>2016-01-12 09:31:00</td>\n",
       "      <td>U.S. Secretary of State John Kerry spoke by ph...</td>\n",
       "      <td>U.S. Secretary of State John Kerry spoke by ph...</td>\n",
       "      <td>North Korea</td>\n",
       "      <td>22</td>\n",
       "    </tr>\n",
       "  </tbody>\n",
       "</table>\n",
       "</div>"
      ],
      "text/plain": [
       "                                                   title  author  \\\n",
       "12019          Kerry to visit S. Korea next week: source     배지숙   \n",
       "11998  N. Korea's missile test to be on agenda for Yu...  KH디지털2   \n",
       "11917  Kerry due in Seoul for talks on N. Korea, alli...  KH디지털2   \n",
       "11915  Kerry in South Korea to talk security, cyber i...     김연세   \n",
       "11900                  Park meets with Kerry on N. Korea  KH디지털2   \n",
       "19149  Kerry discusses N.K. nuclear test with Russian FM  KH디지털2   \n",
       "\n",
       "                      time                                        description  \\\n",
       "12019  2015-05-11 21:30:00  U.S. Secretary of State John Kerry will visit ...   \n",
       "11998  2015-05-12 17:10:00  South Korean Foreign Minister Yun Byung-se and...   \n",
       "11917  2015-05-17 10:49:00  U.S. Secretary of State John Kerry is schedule...   \n",
       "11915  2015-05-17 18:43:00  U.S. Secretary of State John Kerry is in South...   \n",
       "11900  2015-05-18 10:52:00  President Park Geun-hye met with U.S. Secretar...   \n",
       "19149  2016-01-12 09:31:00  U.S. Secretary of State John Kerry spoke by ph...   \n",
       "\n",
       "                                                    body         section  \\\n",
       "12019  U.S. Secretary of State John Kerry will visit ...     North Korea   \n",
       "11998  South Korean Foreign Minister Yun Byung-se and...   International   \n",
       "11917  U.S. Secretary of State John Kerry is schedule...     North Korea   \n",
       "11915  U.S. Secretary of State John Kerry is in South...  Foreign Policy   \n",
       "11900  President Park Geun-hye met with U.S. Secretar...   International   \n",
       "19149  U.S. Secretary of State John Kerry spoke by ph...     North Korea   \n",
       "\n",
       "       topic  \n",
       "12019     22  \n",
       "11998     22  \n",
       "11917     22  \n",
       "11915     22  \n",
       "11900     22  \n",
       "19149     22  "
      ]
     },
     "execution_count": 664,
     "metadata": {},
     "output_type": "execute_result"
    }
   ],
   "source": [
    "on_issue_df"
   ]
  },
  {
   "cell_type": "code",
   "execution_count": 665,
   "metadata": {
    "ExecuteTime": {
     "end_time": "2021-06-06T14:48:49.261962Z",
     "start_time": "2021-06-06T14:48:49.224449Z"
    },
    "scrolled": true
   },
   "outputs": [
    {
     "data": {
      "text/html": [
       "<div>\n",
       "<style scoped>\n",
       "    .dataframe tbody tr th:only-of-type {\n",
       "        vertical-align: middle;\n",
       "    }\n",
       "\n",
       "    .dataframe tbody tr th {\n",
       "        vertical-align: top;\n",
       "    }\n",
       "\n",
       "    .dataframe thead th {\n",
       "        text-align: right;\n",
       "    }\n",
       "</style>\n",
       "<table border=\"1\" class=\"dataframe\">\n",
       "  <thead>\n",
       "    <tr style=\"text-align: right;\">\n",
       "      <th></th>\n",
       "      <th>title</th>\n",
       "      <th>author</th>\n",
       "      <th>time</th>\n",
       "      <th>description</th>\n",
       "      <th>body</th>\n",
       "      <th>section</th>\n",
       "      <th>topic</th>\n",
       "    </tr>\n",
       "  </thead>\n",
       "  <tbody>\n",
       "    <tr>\n",
       "      <th>14594</th>\n",
       "      <td>Kerry heads to India seeking economic gains</td>\n",
       "      <td>최희석</td>\n",
       "      <td>2015-01-10 14:51:00</td>\n",
       "      <td>U.S. Secretary of State John Kerry left late F...</td>\n",
       "      <td>U.S. Secretary of State John Kerry left late F...</td>\n",
       "      <td>International</td>\n",
       "      <td>22</td>\n",
       "    </tr>\n",
       "    <tr>\n",
       "      <th>12014</th>\n",
       "      <td>Kerry to visit S. Korea next week</td>\n",
       "      <td>KH디지털2</td>\n",
       "      <td>2015-05-12 09:45:00</td>\n",
       "      <td>U.S. Secretary of State John Kerry will visit ...</td>\n",
       "      <td>U.S. Secretary of State John Kerry will visit ...</td>\n",
       "      <td>International</td>\n",
       "      <td>22</td>\n",
       "    </tr>\n",
       "    <tr>\n",
       "      <th>11905</th>\n",
       "      <td>N.K. missile test unacceptable: Kerry</td>\n",
       "      <td>Shin Hyon-hee</td>\n",
       "      <td>2015-05-17 20:40:00</td>\n",
       "      <td>U.S. Secretary of State John Kerry on Saturday...</td>\n",
       "      <td>U.S. Secretary of State John Kerry on Saturday...</td>\n",
       "      <td>North Korea</td>\n",
       "      <td>22</td>\n",
       "    </tr>\n",
       "    <tr>\n",
       "      <th>11904</th>\n",
       "      <td>Yun, Kerry reaffirm strong alliance against N....</td>\n",
       "      <td>KH디지털2</td>\n",
       "      <td>2015-05-18 09:21:00</td>\n",
       "      <td>Foreign Minister Yun Byung-se and U.S. Secreta...</td>\n",
       "      <td>Foreign Minister Yun Byung-se and U.S. Secreta...</td>\n",
       "      <td>Foreign Policy</td>\n",
       "      <td>22</td>\n",
       "    </tr>\n",
       "    <tr>\n",
       "      <th>11864</th>\n",
       "      <td>Kerry thanks lawmaker for helping U.S. ambassa...</td>\n",
       "      <td>KH디지털2</td>\n",
       "      <td>2015-05-19 17:28:00</td>\n",
       "      <td>U.S. Secretary of State John Kerry has thanked...</td>\n",
       "      <td>U.S. Secretary of State John Kerry has thanked...</td>\n",
       "      <td>Politics</td>\n",
       "      <td>22</td>\n",
       "    </tr>\n",
       "    <tr>\n",
       "      <th>11824</th>\n",
       "      <td>Kerry's remark about THAAD meant 'internal U.S...</td>\n",
       "      <td>KH디지털2</td>\n",
       "      <td>2015-05-21 09:52:00</td>\n",
       "      <td>U.S. Secretary of State John Kerry was referri...</td>\n",
       "      <td>U.S. Secretary of State John Kerry was referri...</td>\n",
       "      <td>Defense</td>\n",
       "      <td>22</td>\n",
       "    </tr>\n",
       "    <tr>\n",
       "      <th>10340</th>\n",
       "      <td>Kerry has no plans to meet with N. Korean FM: ...</td>\n",
       "      <td>KH디지털2</td>\n",
       "      <td>2015-08-05 09:32:00</td>\n",
       "      <td>U.S. Secretary of State John Kerry has no plan...</td>\n",
       "      <td>U.S. Secretary of State John Kerry has no plan...</td>\n",
       "      <td>North Korea</td>\n",
       "      <td>22</td>\n",
       "    </tr>\n",
       "    <tr>\n",
       "      <th>19056</th>\n",
       "      <td>Kerry to visit China for talks on N. Korea</td>\n",
       "      <td>Cho Chung-un</td>\n",
       "      <td>2016-01-16 10:44:00</td>\n",
       "      <td>U.S. Secretary of State John Kerry will visit ...</td>\n",
       "      <td>U.S. Secretary of State John Kerry will visit ...</td>\n",
       "      <td></td>\n",
       "      <td>22</td>\n",
       "    </tr>\n",
       "    <tr>\n",
       "      <th>18902</th>\n",
       "      <td>FM Yun, Kerry reaffirm strong response to N. K...</td>\n",
       "      <td>이우영</td>\n",
       "      <td>2016-01-24 20:38:00</td>\n",
       "      <td>SEOUL (Yonhap) – South Korean Foreign Minister...</td>\n",
       "      <td>SEOUL (Yonhap) – South Korean Foreign Minister...</td>\n",
       "      <td></td>\n",
       "      <td>22</td>\n",
       "    </tr>\n",
       "    <tr>\n",
       "      <th>18866</th>\n",
       "      <td>Kerry: N.K. leader 'questionable in terms of j...</td>\n",
       "      <td>KH디지털2</td>\n",
       "      <td>2016-01-26 09:16:00</td>\n",
       "      <td>U.S. Secretary of State John Kerry said Monday...</td>\n",
       "      <td>U.S. Secretary of State John Kerry said Monday...</td>\n",
       "      <td>North Korea</td>\n",
       "      <td>22</td>\n",
       "    </tr>\n",
       "    <tr>\n",
       "      <th>18769</th>\n",
       "      <td>FM Yun, Kerry agree on closer coordination ove...</td>\n",
       "      <td>최희석</td>\n",
       "      <td>2016-01-29 15:34:00</td>\n",
       "      <td>South Korea and the U.S. agreed Friday to coop...</td>\n",
       "      <td>South Korea and the U.S. agreed Friday to coop...</td>\n",
       "      <td>North Korea</td>\n",
       "      <td>22</td>\n",
       "    </tr>\n",
       "    <tr>\n",
       "      <th>18762</th>\n",
       "      <td>FM Yun, Kerry agree on closer coordination ove...</td>\n",
       "      <td>KH디지털2</td>\n",
       "      <td>2016-01-29 16:34:00</td>\n",
       "      <td>South Korea and the U.S. agreed Friday to coop...</td>\n",
       "      <td>South Korea and the U.S. agreed Friday to coop...</td>\n",
       "      <td>North Korea</td>\n",
       "      <td>22</td>\n",
       "    </tr>\n",
       "    <tr>\n",
       "      <th>17830</th>\n",
       "      <td>Kerry: U.S., Russia to meet Saturday on Syria ...</td>\n",
       "      <td>Shin Hyon-hee</td>\n",
       "      <td>2016-03-12 16:43:00</td>\n",
       "      <td>KING KHALID MILITARY CITY, Saudi Arabia (AFP) ...</td>\n",
       "      <td>KING KHALID MILITARY CITY, Saudi Arabia (AFP) ...</td>\n",
       "      <td></td>\n",
       "      <td>22</td>\n",
       "    </tr>\n",
       "    <tr>\n",
       "      <th>22645</th>\n",
       "      <td>Response to NK nuclear test key focus of trila...</td>\n",
       "      <td>두루미</td>\n",
       "      <td>2016-09-16 10:38:00</td>\n",
       "      <td>WASHINGTON -- How to respond to North Korea's ...</td>\n",
       "      <td>WASHINGTON -- How to respond to North Korea's ...</td>\n",
       "      <td>Diplomatic Circuit</td>\n",
       "      <td>22</td>\n",
       "    </tr>\n",
       "    <tr>\n",
       "      <th>21866</th>\n",
       "      <td>Top US, Chinese diplomats hold talks in New York</td>\n",
       "      <td>KH디지털2</td>\n",
       "      <td>2016-11-02 11:51:00</td>\n",
       "      <td>US National Security Adviser Susan Rice and Se...</td>\n",
       "      <td>US National Security Adviser Susan Rice and Se...</td>\n",
       "      <td>International</td>\n",
       "      <td>22</td>\n",
       "    </tr>\n",
       "    <tr>\n",
       "      <th>21110</th>\n",
       "      <td>FM Yun, Kerry reaffirm strong alliance amid un...</td>\n",
       "      <td>김윤미</td>\n",
       "      <td>2016-12-17 14:52:00</td>\n",
       "      <td>South Korean Foreign Minister Yun Byung-se and...</td>\n",
       "      <td>South Korean Foreign Minister Yun Byung-se and...</td>\n",
       "      <td></td>\n",
       "      <td>22</td>\n",
       "    </tr>\n",
       "    <tr>\n",
       "      <th>7751</th>\n",
       "      <td>Ex-US Secretary of State Kerry joins Carnegie ...</td>\n",
       "      <td>KH디지털2</td>\n",
       "      <td>2017-03-03 09:47:00</td>\n",
       "      <td>Former US Secretary of State John Kerry has jo...</td>\n",
       "      <td>Former US Secretary of State John Kerry has jo...</td>\n",
       "      <td>International</td>\n",
       "      <td>22</td>\n",
       "    </tr>\n",
       "  </tbody>\n",
       "</table>\n",
       "</div>"
      ],
      "text/plain": [
       "                                                   title         author  \\\n",
       "14594        Kerry heads to India seeking economic gains            최희석   \n",
       "12014                  Kerry to visit S. Korea next week         KH디지털2   \n",
       "11905              N.K. missile test unacceptable: Kerry  Shin Hyon-hee   \n",
       "11904  Yun, Kerry reaffirm strong alliance against N....         KH디지털2   \n",
       "11864  Kerry thanks lawmaker for helping U.S. ambassa...         KH디지털2   \n",
       "11824  Kerry's remark about THAAD meant 'internal U.S...         KH디지털2   \n",
       "10340  Kerry has no plans to meet with N. Korean FM: ...         KH디지털2   \n",
       "19056         Kerry to visit China for talks on N. Korea   Cho Chung-un   \n",
       "18902  FM Yun, Kerry reaffirm strong response to N. K...            이우영   \n",
       "18866  Kerry: N.K. leader 'questionable in terms of j...         KH디지털2   \n",
       "18769  FM Yun, Kerry agree on closer coordination ove...            최희석   \n",
       "18762  FM Yun, Kerry agree on closer coordination ove...         KH디지털2   \n",
       "17830  Kerry: U.S., Russia to meet Saturday on Syria ...  Shin Hyon-hee   \n",
       "22645  Response to NK nuclear test key focus of trila...            두루미   \n",
       "21866   Top US, Chinese diplomats hold talks in New York         KH디지털2   \n",
       "21110  FM Yun, Kerry reaffirm strong alliance amid un...            김윤미   \n",
       "7751   Ex-US Secretary of State Kerry joins Carnegie ...         KH디지털2   \n",
       "\n",
       "                      time                                        description  \\\n",
       "14594  2015-01-10 14:51:00  U.S. Secretary of State John Kerry left late F...   \n",
       "12014  2015-05-12 09:45:00  U.S. Secretary of State John Kerry will visit ...   \n",
       "11905  2015-05-17 20:40:00  U.S. Secretary of State John Kerry on Saturday...   \n",
       "11904  2015-05-18 09:21:00  Foreign Minister Yun Byung-se and U.S. Secreta...   \n",
       "11864  2015-05-19 17:28:00  U.S. Secretary of State John Kerry has thanked...   \n",
       "11824  2015-05-21 09:52:00  U.S. Secretary of State John Kerry was referri...   \n",
       "10340  2015-08-05 09:32:00  U.S. Secretary of State John Kerry has no plan...   \n",
       "19056  2016-01-16 10:44:00  U.S. Secretary of State John Kerry will visit ...   \n",
       "18902  2016-01-24 20:38:00  SEOUL (Yonhap) – South Korean Foreign Minister...   \n",
       "18866  2016-01-26 09:16:00  U.S. Secretary of State John Kerry said Monday...   \n",
       "18769  2016-01-29 15:34:00  South Korea and the U.S. agreed Friday to coop...   \n",
       "18762  2016-01-29 16:34:00  South Korea and the U.S. agreed Friday to coop...   \n",
       "17830  2016-03-12 16:43:00  KING KHALID MILITARY CITY, Saudi Arabia (AFP) ...   \n",
       "22645  2016-09-16 10:38:00  WASHINGTON -- How to respond to North Korea's ...   \n",
       "21866  2016-11-02 11:51:00  US National Security Adviser Susan Rice and Se...   \n",
       "21110  2016-12-17 14:52:00  South Korean Foreign Minister Yun Byung-se and...   \n",
       "7751   2017-03-03 09:47:00  Former US Secretary of State John Kerry has jo...   \n",
       "\n",
       "                                                    body             section  \\\n",
       "14594  U.S. Secretary of State John Kerry left late F...       International   \n",
       "12014  U.S. Secretary of State John Kerry will visit ...       International   \n",
       "11905  U.S. Secretary of State John Kerry on Saturday...         North Korea   \n",
       "11904  Foreign Minister Yun Byung-se and U.S. Secreta...      Foreign Policy   \n",
       "11864  U.S. Secretary of State John Kerry has thanked...            Politics   \n",
       "11824  U.S. Secretary of State John Kerry was referri...             Defense   \n",
       "10340  U.S. Secretary of State John Kerry has no plan...         North Korea   \n",
       "19056  U.S. Secretary of State John Kerry will visit ...                       \n",
       "18902  SEOUL (Yonhap) – South Korean Foreign Minister...                       \n",
       "18866  U.S. Secretary of State John Kerry said Monday...         North Korea   \n",
       "18769  South Korea and the U.S. agreed Friday to coop...         North Korea   \n",
       "18762  South Korea and the U.S. agreed Friday to coop...         North Korea   \n",
       "17830  KING KHALID MILITARY CITY, Saudi Arabia (AFP) ...                       \n",
       "22645  WASHINGTON -- How to respond to North Korea's ...  Diplomatic Circuit   \n",
       "21866  US National Security Adviser Susan Rice and Se...       International   \n",
       "21110  South Korean Foreign Minister Yun Byung-se and...                       \n",
       "7751   Former US Secretary of State John Kerry has jo...       International   \n",
       "\n",
       "       topic  \n",
       "14594     22  \n",
       "12014     22  \n",
       "11905     22  \n",
       "11904     22  \n",
       "11864     22  \n",
       "11824     22  \n",
       "10340     22  \n",
       "19056     22  \n",
       "18902     22  \n",
       "18866     22  \n",
       "18769     22  \n",
       "18762     22  \n",
       "17830     22  \n",
       "22645     22  \n",
       "21866     22  \n",
       "21110     22  \n",
       "7751      22  "
      ]
     },
     "execution_count": 665,
     "metadata": {},
     "output_type": "execute_result"
    }
   ],
   "source": [
    "related_issue_df"
   ]
  },
  {
   "cell_type": "code",
   "execution_count": 518,
   "metadata": {
    "ExecuteTime": {
     "end_time": "2021-06-06T13:33:26.015056Z",
     "start_time": "2021-06-06T13:33:26.006623Z"
    }
   },
   "outputs": [],
   "source": [
    "def print_onissue(onissue_df, on_issue_name=\"\"):\n",
    "    '''\n",
    "    Args\n",
    "    \n",
    "    onissue_df - pandas.DataFrame for On-Issue articles\n",
    "    on_issue_name - String that summarizes the issue\n",
    "    \n",
    "    '''\n",
    "    print(\"[ Issue ]\\n\")\n",
    "    print(on_issue_name, end=\"\\n\\n\")\n",
    "\n",
    "    print(\"[ On-Issue Events]\\n\")\n",
    "    detailed_info_list = {}\n",
    "    for i, (idx, row) in enumerate(onissue_df.iterrows()):\n",
    "        detailed_info = defaultdict(list)\n",
    "        doc_summ = nlp(row[\" body\"])\n",
    "        print(row[\"title\"], end=\"  -->  \")\n",
    "        for ent in doc_summ.ents:\n",
    "            if ent.type == \"PERSON\":\n",
    "                detailed_info[\"Person\"].append(ent.text)\n",
    "            elif ent.type == \"ORG\":\n",
    "                detailed_info[\"Organization\"].append(ent.text)\n",
    "            elif ent.type == \"LOC\" or ent.type == \"GPE\":\n",
    "                detailed_info[\"Place\"].append(ent.text)\n",
    "\n",
    "        detailed_info_list[idx] = detailed_info\n",
    "\n",
    "    print(\"\\n\\n[ Detailed Information (per event)]\")\n",
    "    for doc_idx, detail_dict in detailed_info_list.items():\n",
    "        print(\"\\nEvent: {}\\n\".format(df.iloc[doc_idx][\"title\"]))\n",
    "        for ent_type, ent_list in detail_dict.items():\n",
    "            print(\"\\t- {} : \".format(ent_type), end=\" \")\n",
    "            for ent in set(ent_list):\n",
    "                print(ent, end=\", \")\n",
    "            print()"
   ]
  },
  {
   "cell_type": "code",
   "execution_count": 519,
   "metadata": {
    "ExecuteTime": {
     "end_time": "2021-06-06T13:33:27.090277Z",
     "start_time": "2021-06-06T13:33:26.235604Z"
    },
    "scrolled": true
   },
   "outputs": [
    {
     "name": "stdout",
     "output_type": "stream",
     "text": [
      "[ Issue ]\n",
      "\n",
      "U.N. Sanctions on North Korea\n",
      "\n",
      "[ On-Issue Events]\n",
      "\n",
      "Kerry to visit S. Korea next week: source  -->  N. Korea's missile test to be on agenda for Yun, Kerry talks  -->  Kerry due in Seoul for talks on N. Korea, alliance  -->  Kerry in South Korea to talk security, cyber issues  -->  Park meets with Kerry on N. Korea  -->  Kerry discusses N.K. nuclear test with Russian FM  -->  \n",
      "\n",
      "[ Detailed Information (per event)]\n",
      "\n",
      "Event: Kerry to visit S. Korea next week: source\n",
      "\n",
      "\t- Place :  Beijing, Japan, North Korea, Washington, the Korean Peninsula, South Korea, U.S., Seoul, Northeast Asia, \n",
      "\t- Organization :  State, \n",
      "\t- Person :  Barack Obama, Kerry, John Kerry, Yun Byung, Park Geun-hye's, Park, \n",
      "\n",
      "Event: N. Korea's missile test to be on agenda for Yun, Kerry talks\n",
      "\n",
      "\t- Person :  Kerry, Noh, John Kerry, Kim Jong-un, Yun, Noh Kwang, Park Geun-hye's, Park, Yun Byung-se, \n",
      "\t- Place :  Asia, Beijing, North Korea, North Korea's, South Korea, U.S., Seoul, \n",
      "\t- Organization :  U.N. Security Council, U.N., State, SLBM, \n",
      "\n",
      "Event: Kerry due in Seoul for talks on N. Korea, alliance\n",
      "\n",
      "\t- Place :  South, the United States, Beijing, North Korea, North Korea's, Washington, South Korea, U.S., Seoul, \n",
      "\t- Organization :  the Foreign Ministry, Korea University, the South Korea-U.S. Combined Forces Command, State, \n",
      "\t- Person :  Wang Yi, Kerry, John Kerry, Park Geun-hye, Hyon Yong, Kim Jong-un, Yun Byung, Yun, \n",
      "\n",
      "Event: Kerry in South Korea to talk security, cyber issues\n",
      "\n",
      "\t- Place :  Beijing, Pyongyang, South Korea's, North Korea, South Korea, U.S., Seoul, \n",
      "\t- Organization :  State, \n",
      "\t- Person :  John Kerry, Kim Jong-un, Kim, Kerry, \n",
      "\n",
      "Event: Park meets with Kerry on N. Korea\n",
      "\n",
      "\t- Person :  Barack Obama, Kerry, John Kerry, Park Geun-hye, Yun, Park, Yun Byung-se, \n",
      "\t- Place :  South, Yellow Sea, Beijing, Pyongyang, Iran, North Korea, Yongsan, Washington, U.S., Seoul, \n",
      "\t- Organization :  North, Korea University, State, \n",
      "\n",
      "Event: Kerry discusses N.K. nuclear test with Russian FM\n",
      "\n",
      "\t- Place :  North, Ukraine, Middle East, North Korea's, Russia, U.S., Syria, \n",
      "\t- Organization :  the U.N. Security Council, the State Department, State, \n",
      "\t- Person :  Sergei Lavrov, John Kerry, \n"
     ]
    }
   ],
   "source": [
    "print_onissue(on_issue_df, on_issue_name=\"U.S. and South Korea on North Korea Missile Test\")"
   ]
  },
  {
   "cell_type": "code",
   "execution_count": 517,
   "metadata": {
    "ExecuteTime": {
     "end_time": "2021-06-06T13:33:10.467848Z",
     "start_time": "2021-06-06T13:33:10.460089Z"
    }
   },
   "outputs": [],
   "source": [
    "def print_relissue(relissue_df, rel_issue_name=\"\"):\n",
    "    '''\n",
    "    Args\n",
    "    \n",
    "    relissue_df - pandas.DataFrame for Related-Issue articles\n",
    "    rel_issue_name - String that summarizes the issue\n",
    "    \n",
    "    '''\n",
    "    print(\"[ Issue ]\\n\")\n",
    "    print(rel_issue_name, end=\"\\n\\n\")\n",
    "\n",
    "    print(\"[ Related-Issue Events]\\n\")\n",
    "    detailed_info_list = {}\n",
    "    for i, (idx, row) in enumerate(relissue_df.iterrows()):\n",
    "        detailed_info = defaultdict(list)\n",
    "        doc_summ = nlp(row[\" body\"])\n",
    "        print(row[\"title\"], end=\" , \")\n",
    "        for ent in doc_summ.ents:\n",
    "            if ent.type == \"PERSON\":\n",
    "                detailed_info[\"Person\"].append(ent.text)\n",
    "            elif ent.type == \"ORG\":\n",
    "                detailed_info[\"Organization\"].append(ent.text)\n",
    "            elif ent.type == \"LOC\" or ent.type == \"GPE\":\n",
    "                detailed_info[\"Place\"].append(ent.text)\n",
    "\n",
    "        detailed_info_list[idx] = detailed_info\n",
    "\n",
    "    print(\"\\n\\n[ Detailed Information (per event)]\")\n",
    "    for doc_idx, detail_dict in detailed_info_list.items():\n",
    "        print(\"\\nEvent: {}\\n\".format(df.iloc[doc_idx][\"title\"]))\n",
    "        for ent_type, ent_list in detail_dict.items():\n",
    "            print(\"\\t- {} : \".format(ent_type), end=\" \")\n",
    "            for ent in set(ent_list):\n",
    "                print(ent, end=\", \")\n",
    "            print()"
   ]
  },
  {
   "cell_type": "code",
   "execution_count": 520,
   "metadata": {
    "ExecuteTime": {
     "end_time": "2021-06-06T13:33:51.525962Z",
     "start_time": "2021-06-06T13:33:47.734784Z"
    }
   },
   "outputs": [
    {
     "name": "stdout",
     "output_type": "stream",
     "text": [
      "[ Issue ]\n",
      "\n",
      "U.S. on North Korea\n",
      "\n",
      "[ Related-Issue Events]\n",
      "\n",
      "Kerry heads to India seeking economic gains , Kerry to visit S. Korea next week , N.K. missile test unacceptable: Kerry , Yun, Kerry reaffirm strong alliance against N. Korea , Kerry thanks lawmaker for helping U.S. ambassador during knife attack , Kerry's remark about THAAD meant 'internal U.S. discussions': State Department , Kerry has no plans to meet with N. Korean FM: State Department , Kerry to visit China for talks on N. Korea , FM Yun, Kerry reaffirm strong response to N. Korea's nuke test , Kerry: N.K. leader 'questionable in terms of judgment' , FM Yun, Kerry agree on closer coordination over N.K. sanctions , FM Yun, Kerry agree on closer coordination over N.K. sanctions , Kerry: U.S., Russia to meet Saturday on Syria ceasefire , Response to NK nuclear test key focus of trilateral talks: State Department , Top US, Chinese diplomats hold talks in New York , FM Yun, Kerry reaffirm strong alliance amid uncertainties , Ex-US Secretary of State Kerry joins Carnegie think tank , \n",
      "\n",
      "[ Detailed Information (per event)]\n",
      "\n",
      "Event: Kerry heads to India seeking economic gains\n",
      "\n",
      "\t- Place :  the United States, Geneva, Iran, India, Oman, Munich, Pakistan, Bhutan, Bulgaria, Ahmadabad, Gujarat, Germany, the Islamic Republic, U.S., US, \n",
      "\t- Organization :  Ford, AFP, State, State Department, \n",
      "\t- Person :  Barack Obama, Kerry, Modi, Jen Psaki, John Kerry, Psaki, Narendra Modi, Sultan Qaboos, Tshering Tobgay, \n",
      "\n",
      "Event: Kerry to visit S. Korea next week\n",
      "\n",
      "\t- Place :  the United States, Beijing, Japan, North Korea, Washington, the Korean Peninsula, South Korea, U.S., Seoul, Northeast Asia, \n",
      "\t- Organization :  the State Department, State, \n",
      "\t- Person :  Barack Obama, Kerry, John Kerry, Xi Jinping, Yun Byung, Park Geun-hye's, Park, \n",
      "\n",
      "Event: N.K. missile test unacceptable: Kerry\n",
      "\n",
      "\t- Place :  South, Beijing, Pyongyang, Seoul, North Korea, North, Seongnam, Washington, the East Sea, U.S., China, the West Sea, Gyeonggi Province, the Democratic People’s Republic of Korea, \n",
      "\t- Organization :  Workers’ Party, U.N. Security Council, DPRK, State, SLBM, \n",
      "\t- Person :  North, Barack Obama, Wang Yi, Kerry, John Kerry, Park Geun-hye, Mark Lippert, Shin Hyon-hee, Kim Jong-un, Yun Byung, \n",
      "\n",
      "Event: Yun, Kerry reaffirm strong alliance against N. Korea\n",
      "\n",
      "\t- Person :  North, Barack Obama, Kerry, John Kerry, Park Geun-hye, Abe, Hyon Yong-chol, Kim Jong-un, Obama, Yun, Park, Yun Byung-se, Shinzo, \n",
      "\t- Place :  Iran, North Korea, Yonhap, Tokyo, Yellow Sea, Beijing, North Korea's, Washington, Tehran, Seoul, South, North, Yongsan, South Korea, U.S., the United States, Japan, South Korea's, the Republic of Korea, \n",
      "\t- Organization :  Congress, State, Park, Korea University, U.N., \n",
      "\n",
      "Event: Kerry thanks lawmaker for helping U.S. ambassador during knife attack\n",
      "\n",
      "\t- Place :  North Korea's, South Korea, U.S., Seoul, Norway, \n",
      "\t- Organization :  Saenuri Party, State, \n",
      "\t- Person :  Mark W. Lippert, Kim Ki-jong, Barack Obama, Kerry, Chang, John Kerry, Park Geun-hye, Lippert, Mark Lippert, Chang Yoon-seok, Rep, \n",
      "\n",
      "Event: Kerry's remark about THAAD meant 'internal U.S. discussions': State Department\n",
      "\n",
      "\t- Place :  Pyongyang, North Korea, North Korea's, Washington, Russia, South Korea, U.S., Seoul, China, \n",
      "\t- Organization :  THAAD, Terminal High Altitude Area Defense, State Department, State, U.N., \n",
      "\t- Person :  North, Ban Ki-moon, Kerry, John Kerry, Kim Jong-un, Marie Harf, Harf, Ban, \n",
      "\n",
      "Event: Kerry has no plans to meet with N. Korean FM: State Department\n",
      "\n",
      "\t- Place :  Asia, North, Pyongyang, Iran, North Korea, Washington, Tehran, Malaysia, U.S., Singapore, Kuala Lumpur, \n",
      "\t- Organization :  North, the State Department, ARF, State Department, State, the Association of Southeast Asian Nations, the ASEAN Regional Forum, \n",
      "\t- Person :  North, Kerry, John Kerry, Ri Su-yong, Toner, Mark Toner, Ri, \n",
      "\n",
      "Event: Kerry to visit China for talks on N. Korea\n",
      "\n",
      "\t- Place :  Beijing, Pyongyang, North, North Korea, France, North Korea's, Washington, Russia, U.S., China, Britain, \n",
      "\t- Organization :  the State Department, the U.N. Security Council's, State, Communist Party, the Security Council, U.N., \n",
      "\t- Person :  John Kerry, North, Tony Blinken, Kerry, \n",
      "\n",
      "Event: FM Yun, Kerry reaffirm strong response to N. Korea's nuke test\n",
      "\n",
      "\t- Organization :  the U.N. Security Council\", U.N., State, SEOUL (Yonhap, \n",
      "\t- Person :  Kerry, John Kerry, Park Geun-hye, Yun-Kerry, Yun, Yun Byung-se, \n",
      "\t- Place :  North, Beijing, Japan, North Korea, Pyongyang, Russia, U.S., China, \n",
      "\n",
      "Event: Kerry: N.K. leader 'questionable in terms of judgment'\n",
      "\n",
      "\t- Place :  the United States, Beijing, North, Pyongyang, North Korea, North Korea's, Vientiane, U.S., China, \n",
      "\t- Organization :  U.N. Security Council, the U.N. Security Council, State, State Department, \n",
      "\t- Person :  John Kerry, Kim Jong-un, Kerry, \n",
      "\n",
      "Event: FM Yun, Kerry agree on closer coordination over N.K. sanctions\n",
      "\n",
      "\t- Place :  Beijing, North, North Korea, Korea, France, North Korea's, Washington, Russia, South Korea, U.S., China, Britain, \n",
      "\t- Organization :  the Foreign Ministry, the U.N. Security Council, U.N.Security Council, State, U.N., \n",
      "\t- Person :  Wang Yi, Kerry, John Kerry, Yun Byung, Yun, \n",
      "\n",
      "Event: FM Yun, Kerry agree on closer coordination over N.K. sanctions\n",
      "\n",
      "\t- Place :  Beijing, North, North Korea, Korea, France, North Korea's, Washington, Russia, South Korea, U.S., China, Britain, \n",
      "\t- Organization :  U.N. Security Council, U.N.sanctions, the Foreign Ministry, the U.N. Security Council, State, U.N., \n",
      "\t- Person :  Wang Yi, Kerry, John Kerry, Yun Byung, Yun, \n",
      "\n",
      "Event: Kerry: U.S., Russia to meet Saturday on Syria ceasefire\n",
      "\n",
      "\t- Place :  Geneva, KHALID MILITARY CITY, Russia, Amman, US, Saudi Arabia, \n",
      "\t- Organization :  State, AFP, \n",
      "\t- Person :  John Kerry, Kerry, Sergei) Lavrov, \n",
      "\n",
      "Event: Response to NK nuclear test key focus of trilateral talks: State Department\n",
      "\n",
      "\t- Place :  North, Pyongyang, Japan, North Korea's, Washington, D.C., China, WASHINGTON, US, New York, \n",
      "\t- Organization :  the UN Security Council, the UN General Assembly, the State Department, State, \n",
      "\t- Person :  John Kerry, Barack Obama, Fumio Kishida, Yun Byung, \n",
      "\n",
      "Event: Top US, Chinese diplomats hold talks in New York\n",
      "\n",
      "\t- Place :  North, North Korea, North Korea's, Yonhap, China, US, New York, \n",
      "\t- Person :  Yang Jiechi, John Kerry, Ned Price, Susan Rice, \n",
      "\t- Organization :  the White House, UN, State, UN Security Council, National Security Council, \n",
      "\n",
      "Event: FM Yun, Kerry reaffirm strong alliance amid uncertainties\n",
      "\n",
      "\t- Person :  Hwang Kyo-ahn, Kerry, John Kerry, Park Geun-hye, Choi Soon-sil, Yun, Park, Yun Byung-se, \n",
      "\t- Place :  Asia, South Korea's, North Korea, Seoul, US, \n",
      "\t- Organization :  National Assembly, The Constitutional Court, State, \n",
      "\n",
      "Event: Ex-US Secretary of State Kerry joins Carnegie think tank\n",
      "\n",
      "\t- Place :  US, \n",
      "\t- Organization :  the Carnegie Endowment for International Peace, Carnegie, the Carnegie Endowment, State, \n",
      "\t- Person :  John Kerry's, Kerry, John Kerry, Yonhap, William J. Burns, \n"
     ]
    }
   ],
   "source": [
    "print_relissue(related_issue_df, rel_issue_name=\"U.S. and South Korea on North Korea Missile Test\")"
   ]
  },
  {
   "cell_type": "markdown",
   "metadata": {
    "ExecuteTime": {
     "end_time": "2021-06-03T13:56:05.009308Z",
     "start_time": "2021-06-03T13:56:05.004029Z"
    }
   },
   "source": [
    "### Naive Summarization of each article using XLNet TextSummarizer\n",
    "- Without SRL-BERT and ARG0 <-> ARG1 switch analysis"
   ]
  },
  {
   "cell_type": "code",
   "execution_count": 186,
   "metadata": {
    "ExecuteTime": {
     "end_time": "2021-06-04T06:28:09.021714Z",
     "start_time": "2021-06-04T06:28:08.507972Z"
    }
   },
   "outputs": [
    {
     "name": "stderr",
     "output_type": "stream",
     "text": [
      "2021-06-04 06:28:08 INFO: Loading these models for language: en (English):\n",
      "=========================\n",
      "| Processor | Package   |\n",
      "-------------------------\n",
      "| tokenize  | combined  |\n",
      "| ner       | ontonotes |\n",
      "=========================\n",
      "\n",
      "2021-06-04 06:28:08 INFO: Use device: gpu\n",
      "2021-06-04 06:28:08 INFO: Loading: tokenize\n",
      "2021-06-04 06:28:08 INFO: Loading: ner\n",
      "2021-06-04 06:28:09 INFO: Done loading processors!\n"
     ]
    }
   ],
   "source": [
    "from summarizer import TransformerSummarizer\n",
    "nlp = stanza.Pipeline(lang='en', processors='tokenize,ner')  # Tokenize to retrieve sentence-level information"
   ]
  },
  {
   "cell_type": "markdown",
   "metadata": {},
   "source": [
    "### `TransformerSummarizer` for Text Summarization\n",
    "- `TransformerSummarizer` using XLNet-base model to produce a summarized version of the On-Issue and Related-Issue articles."
   ]
  },
  {
   "cell_type": "code",
   "execution_count": 133,
   "metadata": {
    "ExecuteTime": {
     "end_time": "2021-06-03T14:02:00.120163Z",
     "start_time": "2021-06-03T14:01:55.332049Z"
    },
    "scrolled": true
   },
   "outputs": [
    {
     "name": "stdout",
     "output_type": "stream",
     "text": [
      "North Korea criticized South Korea Tuesday for reaching a deal with Japan over Tokyo's wartime sex slavery, calling it a \"humiliating agreement\" that missed holding the Japanese state responsible for such atrocities.\n"
     ]
    }
   ],
   "source": [
    "summarizer_model = TransformerSummarizer(transformer_type=\"XLNet\",transformer_model_key=\"xlnet-base-cased\")\n",
    "# Example\n",
    "full = ''.join(summarizer_model(df.iloc[on_issue_sample1][\" body\"], min_length=60))\n",
    "print(full)"
   ]
  },
  {
   "cell_type": "code",
   "execution_count": null,
   "metadata": {
    "ExecuteTime": {
     "end_time": "2021-06-04T06:29:44.287368Z",
     "start_time": "2021-06-04T06:29:37.444711Z"
    },
    "scrolled": true
   },
   "outputs": [],
   "source": [
    "stop_iter = 10\n",
    "print(\"[ Issue ]\\n\")\n",
    "print(\"South Korea Comfort Women Issue regarding Japan's War Crimes\\n\")\n",
    "\n",
    "print(\"[ On-Issue Events]\\n\")\n",
    "detailed_info = defaultdict(list)\n",
    "detailed_info_list = {}\n",
    "for i, (idx, row) in enumerate(df_onissue.iterrows()):\n",
    "    text_summ = ''.join(summarizer_model(row[\" body\"]))\n",
    "    doc_summ = nlp(text_summ)\n",
    "    # first_sent = doc_summ.sentences[0].text\n",
    "    # print(first_sent, end=\"\\n --> \\n\")\n",
    "    print(row[\"title\"], end=\"\\n --> \\n\")\n",
    "    for ent in doc_summ.ents:\n",
    "        if ent.type == \"PERSON\":\n",
    "            detailed_info[\"Person\"].append(ent.text)\n",
    "        elif ent.type == \"ORG\":\n",
    "            detailed_info[\"Organization\"].append(ent.text)\n",
    "        elif ent.type == \"LOC\" or ent.type == \"GPE\":\n",
    "            detailed_info[\"Place\"].append(ent.text)\n",
    "    \n",
    "    detailed_info_list[idx] = detailed_info\n",
    "    \n",
    "    if i > stop_iter:\n",
    "        break\n",
    "\n",
    "print(\"[ Detailed Information (per event)]\")\n",
    "for doc_idx, detail_dict in detailed_info_list.items():\n",
    "    print(\"\\nEvent: {}\\n\".format(df.iloc[doc_idx][\"title\"]))\n",
    "    for ent_type, ent_list in detail_dict.items():\n",
    "        print(\"\\t- {} : {}\".format(ent_type, set(ent_list)))"
   ]
  },
  {
   "cell_type": "markdown",
   "metadata": {},
   "source": [
    "## Visualizing Topics\n",
    "- `topic_model.get_topic_info()` identifies the topics, count of documents that are associated with each topic, and the topic's name\n",
    "- `topic_model.get_topic(topic_id)` returns the word-wise probability for a given topic_id"
   ]
  },
  {
   "cell_type": "code",
   "execution_count": 60,
   "metadata": {
    "ExecuteTime": {
     "end_time": "2021-05-29T08:59:54.003230Z",
     "start_time": "2021-05-29T08:59:53.986183Z"
    }
   },
   "outputs": [
    {
     "name": "stdout",
     "output_type": "stream",
     "text": [
      "Number of topics:  268\n"
     ]
    },
    {
     "data": {
      "text/html": [
       "<div>\n",
       "<style scoped>\n",
       "    .dataframe tbody tr th:only-of-type {\n",
       "        vertical-align: middle;\n",
       "    }\n",
       "\n",
       "    .dataframe tbody tr th {\n",
       "        vertical-align: top;\n",
       "    }\n",
       "\n",
       "    .dataframe thead th {\n",
       "        text-align: right;\n",
       "    }\n",
       "</style>\n",
       "<table border=\"1\" class=\"dataframe\">\n",
       "  <thead>\n",
       "    <tr style=\"text-align: right;\">\n",
       "      <th></th>\n",
       "      <th>Topic</th>\n",
       "      <th>Count</th>\n",
       "      <th>Name</th>\n",
       "    </tr>\n",
       "  </thead>\n",
       "  <tbody>\n",
       "    <tr>\n",
       "      <th>0</th>\n",
       "      <td>-1</td>\n",
       "      <td>10753</td>\n",
       "      <td>-1_presidential_opposition_moon_political</td>\n",
       "    </tr>\n",
       "    <tr>\n",
       "      <th>1</th>\n",
       "      <td>57</td>\n",
       "      <td>821</td>\n",
       "      <td>57_japanese_japan_japans_tokyo</td>\n",
       "    </tr>\n",
       "    <tr>\n",
       "      <th>2</th>\n",
       "      <td>170</td>\n",
       "      <td>663</td>\n",
       "      <td>170_talks_meeting_discuss_beijing</td>\n",
       "    </tr>\n",
       "    <tr>\n",
       "      <th>3</th>\n",
       "      <td>265</td>\n",
       "      <td>617</td>\n",
       "      <td>265_prosecutors_choi_prosecution_scandal</td>\n",
       "    </tr>\n",
       "    <tr>\n",
       "      <th>4</th>\n",
       "      <td>194</td>\n",
       "      <td>561</td>\n",
       "      <td>194_victim_suspect_sexual_murder</td>\n",
       "    </tr>\n",
       "    <tr>\n",
       "      <th>...</th>\n",
       "      <td>...</td>\n",
       "      <td>...</td>\n",
       "      <td>...</td>\n",
       "    </tr>\n",
       "    <tr>\n",
       "      <th>263</th>\n",
       "      <td>160</td>\n",
       "      <td>10</td>\n",
       "      <td>160_dinner_melania_trump_chopsticks</td>\n",
       "    </tr>\n",
       "    <tr>\n",
       "      <th>264</th>\n",
       "      <td>89</td>\n",
       "      <td>10</td>\n",
       "      <td>89_train_rajin_railway_coal</td>\n",
       "    </tr>\n",
       "    <tr>\n",
       "      <th>265</th>\n",
       "      <td>103</td>\n",
       "      <td>10</td>\n",
       "      <td>103_care_patients_centers_sex</td>\n",
       "    </tr>\n",
       "    <tr>\n",
       "      <th>266</th>\n",
       "      <td>75</td>\n",
       "      <td>10</td>\n",
       "      <td>75_universiade_gymnastics_unification_secretar...</td>\n",
       "    </tr>\n",
       "    <tr>\n",
       "      <th>267</th>\n",
       "      <td>49</td>\n",
       "      <td>10</td>\n",
       "      <td>49_intelligence_cia_terrorist_espionage</td>\n",
       "    </tr>\n",
       "  </tbody>\n",
       "</table>\n",
       "<p>268 rows × 3 columns</p>\n",
       "</div>"
      ],
      "text/plain": [
       "     Topic  Count                                               Name\n",
       "0       -1  10753          -1_presidential_opposition_moon_political\n",
       "1       57    821                     57_japanese_japan_japans_tokyo\n",
       "2      170    663                  170_talks_meeting_discuss_beijing\n",
       "3      265    617           265_prosecutors_choi_prosecution_scandal\n",
       "4      194    561                   194_victim_suspect_sexual_murder\n",
       "..     ...    ...                                                ...\n",
       "263    160     10                160_dinner_melania_trump_chopsticks\n",
       "264     89     10                        89_train_rajin_railway_coal\n",
       "265    103     10                      103_care_patients_centers_sex\n",
       "266     75     10  75_universiade_gymnastics_unification_secretar...\n",
       "267     49     10            49_intelligence_cia_terrorist_espionage\n",
       "\n",
       "[268 rows x 3 columns]"
      ]
     },
     "execution_count": 60,
     "metadata": {},
     "output_type": "execute_result"
    }
   ],
   "source": [
    "freq = topic_model.get_topic_info()\n",
    "print(\"Number of topics: \", len(freq[\"Topic\"].unique()))\n",
    "freq"
   ]
  },
  {
   "cell_type": "code",
   "execution_count": 63,
   "metadata": {
    "ExecuteTime": {
     "end_time": "2021-05-29T09:00:14.832550Z",
     "start_time": "2021-05-29T09:00:14.826182Z"
    }
   },
   "outputs": [
    {
     "data": {
      "text/plain": [
       "[('ballistic', 0.013203544875101546),\n",
       " ('missile', 0.013021940785550155),\n",
       " ('missiles', 0.011689697625838059),\n",
       " ('launch', 0.01121248576969845),\n",
       " ('rocket', 0.010134248867486694),\n",
       " ('icbm', 0.006965266830722244),\n",
       " ('intercontinental', 0.0050852210293444305),\n",
       " ('launches', 0.004922212570814694),\n",
       " ('flew', 0.0047412265128027155),\n",
       " ('pyongyang', 0.0038268246850366996)]"
      ]
     },
     "execution_count": 63,
     "metadata": {},
     "output_type": "execute_result"
    }
   ],
   "source": [
    "topic_model.get_topic(freq.iloc[10][\"Topic\"])"
   ]
  },
  {
   "cell_type": "code",
   "execution_count": 64,
   "metadata": {
    "ExecuteTime": {
     "end_time": "2021-05-29T09:00:30.556237Z",
     "start_time": "2021-05-29T09:00:30.548964Z"
    }
   },
   "outputs": [],
   "source": [
    "vis_topic_path = \"./topic_korea_herald.html\"\n",
    "if not os.path.exists(vis_topic_path):\n",
    "    fig = topic_model.visualize_topics()\n",
    "    fig.write_html(vis_topic_path)"
   ]
  },
  {
   "cell_type": "markdown",
   "metadata": {
    "ExecuteTime": {
     "end_time": "2021-05-22T07:57:25.655301Z",
     "start_time": "2021-05-22T07:57:25.649031Z"
    }
   },
   "source": [
    "# Visualizing probabilities of a topic found in a document\n",
    "- Need to set `calculate_probabilities` to **True** in `BERTopic` (computationally expensive).\n",
    "- This step visualizes the probability of an article being assigned to the topic."
   ]
  },
  {
   "cell_type": "code",
   "execution_count": 570,
   "metadata": {
    "ExecuteTime": {
     "end_time": "2021-06-06T13:56:11.346475Z",
     "start_time": "2021-06-06T13:56:11.311023Z"
    },
    "scrolled": true
   },
   "outputs": [
    {
     "name": "stdout",
     "output_type": "stream",
     "text": [
      "\n",
      "[ Topic Number ]:  228\n",
      "\n",
      "[ Words in topic] :  [('deployment', 0.008912433461129935), ('armament', 0.007390715914431122), ('defense', 0.006806755180168765), ('tactical', 0.00581316304826488), ('nuclear', 0.005508305437870392), ('missile', 0.004542051017076492), ('terminal', 0.004320222663567678), ('nukes', 0.003861616867407047), ('deploy', 0.0036770829583211016), ('allies', 0.002893668542359177)]\n",
      "\n",
      "[ Description] :  North Koreans are feeling insecure about infrastructure damage caused by the reclusive country's latest nuclear test but remain indifferent to its outcome, U.S.-based media Radio Free Asia said Sunday, citing Japanese media outlet Asia Press.A resident in Ryanggang Province bordering China told Asia Press that a number of apartments located some 150 kilometers away from the Punggye-ri nuclear test site in the country...\n",
      "\n",
      "[ Topic probability (sample_idx) ] : 0.9637397343767966\n"
     ]
    },
    {
     "data": {
      "application/vnd.plotly.v1+json": {
       "config": {
        "plotlyServerURL": "https://plot.ly"
       },
       "data": [
        {
         "marker": {
          "color": "#C8D2D7",
          "line": {
           "color": "#6E8484",
           "width": 1
          }
         },
         "orientation": "h",
         "type": "bar",
         "x": [
          0.9637397343767966
         ],
         "y": [
          "<b>Topic 228</b>: deployment_armament_de..."
         ]
        }
       ],
       "layout": {
        "hoverlabel": {
         "bgcolor": "white",
         "font": {
          "family": "Rockwell",
          "size": 16
         }
        },
        "template": {
         "data": {
          "bar": [
           {
            "error_x": {
             "color": "rgb(36,36,36)"
            },
            "error_y": {
             "color": "rgb(36,36,36)"
            },
            "marker": {
             "line": {
              "color": "white",
              "width": 0.5
             }
            },
            "type": "bar"
           }
          ],
          "barpolar": [
           {
            "marker": {
             "line": {
              "color": "white",
              "width": 0.5
             }
            },
            "type": "barpolar"
           }
          ],
          "carpet": [
           {
            "aaxis": {
             "endlinecolor": "rgb(36,36,36)",
             "gridcolor": "white",
             "linecolor": "white",
             "minorgridcolor": "white",
             "startlinecolor": "rgb(36,36,36)"
            },
            "baxis": {
             "endlinecolor": "rgb(36,36,36)",
             "gridcolor": "white",
             "linecolor": "white",
             "minorgridcolor": "white",
             "startlinecolor": "rgb(36,36,36)"
            },
            "type": "carpet"
           }
          ],
          "choropleth": [
           {
            "colorbar": {
             "outlinewidth": 1,
             "tickcolor": "rgb(36,36,36)",
             "ticks": "outside"
            },
            "type": "choropleth"
           }
          ],
          "contour": [
           {
            "colorbar": {
             "outlinewidth": 1,
             "tickcolor": "rgb(36,36,36)",
             "ticks": "outside"
            },
            "colorscale": [
             [
              0,
              "#440154"
             ],
             [
              0.1111111111111111,
              "#482878"
             ],
             [
              0.2222222222222222,
              "#3e4989"
             ],
             [
              0.3333333333333333,
              "#31688e"
             ],
             [
              0.4444444444444444,
              "#26828e"
             ],
             [
              0.5555555555555556,
              "#1f9e89"
             ],
             [
              0.6666666666666666,
              "#35b779"
             ],
             [
              0.7777777777777778,
              "#6ece58"
             ],
             [
              0.8888888888888888,
              "#b5de2b"
             ],
             [
              1,
              "#fde725"
             ]
            ],
            "type": "contour"
           }
          ],
          "contourcarpet": [
           {
            "colorbar": {
             "outlinewidth": 1,
             "tickcolor": "rgb(36,36,36)",
             "ticks": "outside"
            },
            "type": "contourcarpet"
           }
          ],
          "heatmap": [
           {
            "colorbar": {
             "outlinewidth": 1,
             "tickcolor": "rgb(36,36,36)",
             "ticks": "outside"
            },
            "colorscale": [
             [
              0,
              "#440154"
             ],
             [
              0.1111111111111111,
              "#482878"
             ],
             [
              0.2222222222222222,
              "#3e4989"
             ],
             [
              0.3333333333333333,
              "#31688e"
             ],
             [
              0.4444444444444444,
              "#26828e"
             ],
             [
              0.5555555555555556,
              "#1f9e89"
             ],
             [
              0.6666666666666666,
              "#35b779"
             ],
             [
              0.7777777777777778,
              "#6ece58"
             ],
             [
              0.8888888888888888,
              "#b5de2b"
             ],
             [
              1,
              "#fde725"
             ]
            ],
            "type": "heatmap"
           }
          ],
          "heatmapgl": [
           {
            "colorbar": {
             "outlinewidth": 1,
             "tickcolor": "rgb(36,36,36)",
             "ticks": "outside"
            },
            "colorscale": [
             [
              0,
              "#440154"
             ],
             [
              0.1111111111111111,
              "#482878"
             ],
             [
              0.2222222222222222,
              "#3e4989"
             ],
             [
              0.3333333333333333,
              "#31688e"
             ],
             [
              0.4444444444444444,
              "#26828e"
             ],
             [
              0.5555555555555556,
              "#1f9e89"
             ],
             [
              0.6666666666666666,
              "#35b779"
             ],
             [
              0.7777777777777778,
              "#6ece58"
             ],
             [
              0.8888888888888888,
              "#b5de2b"
             ],
             [
              1,
              "#fde725"
             ]
            ],
            "type": "heatmapgl"
           }
          ],
          "histogram": [
           {
            "marker": {
             "line": {
              "color": "white",
              "width": 0.6
             }
            },
            "type": "histogram"
           }
          ],
          "histogram2d": [
           {
            "colorbar": {
             "outlinewidth": 1,
             "tickcolor": "rgb(36,36,36)",
             "ticks": "outside"
            },
            "colorscale": [
             [
              0,
              "#440154"
             ],
             [
              0.1111111111111111,
              "#482878"
             ],
             [
              0.2222222222222222,
              "#3e4989"
             ],
             [
              0.3333333333333333,
              "#31688e"
             ],
             [
              0.4444444444444444,
              "#26828e"
             ],
             [
              0.5555555555555556,
              "#1f9e89"
             ],
             [
              0.6666666666666666,
              "#35b779"
             ],
             [
              0.7777777777777778,
              "#6ece58"
             ],
             [
              0.8888888888888888,
              "#b5de2b"
             ],
             [
              1,
              "#fde725"
             ]
            ],
            "type": "histogram2d"
           }
          ],
          "histogram2dcontour": [
           {
            "colorbar": {
             "outlinewidth": 1,
             "tickcolor": "rgb(36,36,36)",
             "ticks": "outside"
            },
            "colorscale": [
             [
              0,
              "#440154"
             ],
             [
              0.1111111111111111,
              "#482878"
             ],
             [
              0.2222222222222222,
              "#3e4989"
             ],
             [
              0.3333333333333333,
              "#31688e"
             ],
             [
              0.4444444444444444,
              "#26828e"
             ],
             [
              0.5555555555555556,
              "#1f9e89"
             ],
             [
              0.6666666666666666,
              "#35b779"
             ],
             [
              0.7777777777777778,
              "#6ece58"
             ],
             [
              0.8888888888888888,
              "#b5de2b"
             ],
             [
              1,
              "#fde725"
             ]
            ],
            "type": "histogram2dcontour"
           }
          ],
          "mesh3d": [
           {
            "colorbar": {
             "outlinewidth": 1,
             "tickcolor": "rgb(36,36,36)",
             "ticks": "outside"
            },
            "type": "mesh3d"
           }
          ],
          "parcoords": [
           {
            "line": {
             "colorbar": {
              "outlinewidth": 1,
              "tickcolor": "rgb(36,36,36)",
              "ticks": "outside"
             }
            },
            "type": "parcoords"
           }
          ],
          "pie": [
           {
            "automargin": true,
            "type": "pie"
           }
          ],
          "scatter": [
           {
            "marker": {
             "colorbar": {
              "outlinewidth": 1,
              "tickcolor": "rgb(36,36,36)",
              "ticks": "outside"
             }
            },
            "type": "scatter"
           }
          ],
          "scatter3d": [
           {
            "line": {
             "colorbar": {
              "outlinewidth": 1,
              "tickcolor": "rgb(36,36,36)",
              "ticks": "outside"
             }
            },
            "marker": {
             "colorbar": {
              "outlinewidth": 1,
              "tickcolor": "rgb(36,36,36)",
              "ticks": "outside"
             }
            },
            "type": "scatter3d"
           }
          ],
          "scattercarpet": [
           {
            "marker": {
             "colorbar": {
              "outlinewidth": 1,
              "tickcolor": "rgb(36,36,36)",
              "ticks": "outside"
             }
            },
            "type": "scattercarpet"
           }
          ],
          "scattergeo": [
           {
            "marker": {
             "colorbar": {
              "outlinewidth": 1,
              "tickcolor": "rgb(36,36,36)",
              "ticks": "outside"
             }
            },
            "type": "scattergeo"
           }
          ],
          "scattergl": [
           {
            "marker": {
             "colorbar": {
              "outlinewidth": 1,
              "tickcolor": "rgb(36,36,36)",
              "ticks": "outside"
             }
            },
            "type": "scattergl"
           }
          ],
          "scattermapbox": [
           {
            "marker": {
             "colorbar": {
              "outlinewidth": 1,
              "tickcolor": "rgb(36,36,36)",
              "ticks": "outside"
             }
            },
            "type": "scattermapbox"
           }
          ],
          "scatterpolar": [
           {
            "marker": {
             "colorbar": {
              "outlinewidth": 1,
              "tickcolor": "rgb(36,36,36)",
              "ticks": "outside"
             }
            },
            "type": "scatterpolar"
           }
          ],
          "scatterpolargl": [
           {
            "marker": {
             "colorbar": {
              "outlinewidth": 1,
              "tickcolor": "rgb(36,36,36)",
              "ticks": "outside"
             }
            },
            "type": "scatterpolargl"
           }
          ],
          "scatterternary": [
           {
            "marker": {
             "colorbar": {
              "outlinewidth": 1,
              "tickcolor": "rgb(36,36,36)",
              "ticks": "outside"
             }
            },
            "type": "scatterternary"
           }
          ],
          "surface": [
           {
            "colorbar": {
             "outlinewidth": 1,
             "tickcolor": "rgb(36,36,36)",
             "ticks": "outside"
            },
            "colorscale": [
             [
              0,
              "#440154"
             ],
             [
              0.1111111111111111,
              "#482878"
             ],
             [
              0.2222222222222222,
              "#3e4989"
             ],
             [
              0.3333333333333333,
              "#31688e"
             ],
             [
              0.4444444444444444,
              "#26828e"
             ],
             [
              0.5555555555555556,
              "#1f9e89"
             ],
             [
              0.6666666666666666,
              "#35b779"
             ],
             [
              0.7777777777777778,
              "#6ece58"
             ],
             [
              0.8888888888888888,
              "#b5de2b"
             ],
             [
              1,
              "#fde725"
             ]
            ],
            "type": "surface"
           }
          ],
          "table": [
           {
            "cells": {
             "fill": {
              "color": "rgb(237,237,237)"
             },
             "line": {
              "color": "white"
             }
            },
            "header": {
             "fill": {
              "color": "rgb(217,217,217)"
             },
             "line": {
              "color": "white"
             }
            },
            "type": "table"
           }
          ]
         },
         "layout": {
          "annotationdefaults": {
           "arrowhead": 0,
           "arrowwidth": 1
          },
          "coloraxis": {
           "colorbar": {
            "outlinewidth": 1,
            "tickcolor": "rgb(36,36,36)",
            "ticks": "outside"
           }
          },
          "colorscale": {
           "diverging": [
            [
             0,
             "rgb(103,0,31)"
            ],
            [
             0.1,
             "rgb(178,24,43)"
            ],
            [
             0.2,
             "rgb(214,96,77)"
            ],
            [
             0.3,
             "rgb(244,165,130)"
            ],
            [
             0.4,
             "rgb(253,219,199)"
            ],
            [
             0.5,
             "rgb(247,247,247)"
            ],
            [
             0.6,
             "rgb(209,229,240)"
            ],
            [
             0.7,
             "rgb(146,197,222)"
            ],
            [
             0.8,
             "rgb(67,147,195)"
            ],
            [
             0.9,
             "rgb(33,102,172)"
            ],
            [
             1,
             "rgb(5,48,97)"
            ]
           ],
           "sequential": [
            [
             0,
             "#440154"
            ],
            [
             0.1111111111111111,
             "#482878"
            ],
            [
             0.2222222222222222,
             "#3e4989"
            ],
            [
             0.3333333333333333,
             "#31688e"
            ],
            [
             0.4444444444444444,
             "#26828e"
            ],
            [
             0.5555555555555556,
             "#1f9e89"
            ],
            [
             0.6666666666666666,
             "#35b779"
            ],
            [
             0.7777777777777778,
             "#6ece58"
            ],
            [
             0.8888888888888888,
             "#b5de2b"
            ],
            [
             1,
             "#fde725"
            ]
           ],
           "sequentialminus": [
            [
             0,
             "#440154"
            ],
            [
             0.1111111111111111,
             "#482878"
            ],
            [
             0.2222222222222222,
             "#3e4989"
            ],
            [
             0.3333333333333333,
             "#31688e"
            ],
            [
             0.4444444444444444,
             "#26828e"
            ],
            [
             0.5555555555555556,
             "#1f9e89"
            ],
            [
             0.6666666666666666,
             "#35b779"
            ],
            [
             0.7777777777777778,
             "#6ece58"
            ],
            [
             0.8888888888888888,
             "#b5de2b"
            ],
            [
             1,
             "#fde725"
            ]
           ]
          },
          "colorway": [
           "#1F77B4",
           "#FF7F0E",
           "#2CA02C",
           "#D62728",
           "#9467BD",
           "#8C564B",
           "#E377C2",
           "#7F7F7F",
           "#BCBD22",
           "#17BECF"
          ],
          "font": {
           "color": "rgb(36,36,36)"
          },
          "geo": {
           "bgcolor": "white",
           "lakecolor": "white",
           "landcolor": "white",
           "showlakes": true,
           "showland": true,
           "subunitcolor": "white"
          },
          "hoverlabel": {
           "align": "left"
          },
          "hovermode": "closest",
          "mapbox": {
           "style": "light"
          },
          "paper_bgcolor": "white",
          "plot_bgcolor": "white",
          "polar": {
           "angularaxis": {
            "gridcolor": "rgb(232,232,232)",
            "linecolor": "rgb(36,36,36)",
            "showgrid": false,
            "showline": true,
            "ticks": "outside"
           },
           "bgcolor": "white",
           "radialaxis": {
            "gridcolor": "rgb(232,232,232)",
            "linecolor": "rgb(36,36,36)",
            "showgrid": false,
            "showline": true,
            "ticks": "outside"
           }
          },
          "scene": {
           "xaxis": {
            "backgroundcolor": "white",
            "gridcolor": "rgb(232,232,232)",
            "gridwidth": 2,
            "linecolor": "rgb(36,36,36)",
            "showbackground": true,
            "showgrid": false,
            "showline": true,
            "ticks": "outside",
            "zeroline": false,
            "zerolinecolor": "rgb(36,36,36)"
           },
           "yaxis": {
            "backgroundcolor": "white",
            "gridcolor": "rgb(232,232,232)",
            "gridwidth": 2,
            "linecolor": "rgb(36,36,36)",
            "showbackground": true,
            "showgrid": false,
            "showline": true,
            "ticks": "outside",
            "zeroline": false,
            "zerolinecolor": "rgb(36,36,36)"
           },
           "zaxis": {
            "backgroundcolor": "white",
            "gridcolor": "rgb(232,232,232)",
            "gridwidth": 2,
            "linecolor": "rgb(36,36,36)",
            "showbackground": true,
            "showgrid": false,
            "showline": true,
            "ticks": "outside",
            "zeroline": false,
            "zerolinecolor": "rgb(36,36,36)"
           }
          },
          "shapedefaults": {
           "fillcolor": "black",
           "line": {
            "width": 0
           },
           "opacity": 0.3
          },
          "ternary": {
           "aaxis": {
            "gridcolor": "rgb(232,232,232)",
            "linecolor": "rgb(36,36,36)",
            "showgrid": false,
            "showline": true,
            "ticks": "outside"
           },
           "baxis": {
            "gridcolor": "rgb(232,232,232)",
            "linecolor": "rgb(36,36,36)",
            "showgrid": false,
            "showline": true,
            "ticks": "outside"
           },
           "bgcolor": "white",
           "caxis": {
            "gridcolor": "rgb(232,232,232)",
            "linecolor": "rgb(36,36,36)",
            "showgrid": false,
            "showline": true,
            "ticks": "outside"
           }
          },
          "title": {
           "x": 0.05
          },
          "xaxis": {
           "automargin": true,
           "gridcolor": "rgb(232,232,232)",
           "linecolor": "rgb(36,36,36)",
           "showgrid": false,
           "showline": true,
           "ticks": "outside",
           "title": {
            "standoff": 15
           },
           "zeroline": false,
           "zerolinecolor": "rgb(36,36,36)"
          },
          "yaxis": {
           "automargin": true,
           "gridcolor": "rgb(232,232,232)",
           "linecolor": "rgb(36,36,36)",
           "showgrid": false,
           "showline": true,
           "ticks": "outside",
           "title": {
            "standoff": 15
           },
           "zeroline": false,
           "zerolinecolor": "rgb(36,36,36)"
          }
         }
        },
        "title": {
         "font": {
          "color": "Black",
          "size": 22
         },
         "text": "<b>Topic Probability Distribution",
         "x": 0.5,
         "xanchor": "center",
         "y": 0.95,
         "yanchor": "top"
        },
        "xaxis": {
         "title": {
          "text": "Probability"
         }
        }
       }
      },
      "text/html": [
       "<div>                            <div id=\"befca16d-d7ba-4da5-b914-82caefc83726\" class=\"plotly-graph-div\" style=\"height:525px; width:100%;\"></div>            <script type=\"text/javascript\">                require([\"plotly\"], function(Plotly) {                    window.PLOTLYENV=window.PLOTLYENV || {};                                    if (document.getElementById(\"befca16d-d7ba-4da5-b914-82caefc83726\")) {                    Plotly.newPlot(                        \"befca16d-d7ba-4da5-b914-82caefc83726\",                        [{\"marker\": {\"color\": \"#C8D2D7\", \"line\": {\"color\": \"#6E8484\", \"width\": 1}}, \"orientation\": \"h\", \"type\": \"bar\", \"x\": [0.9637397343767966], \"y\": [\"<b>Topic 228</b>: deployment_armament_de...\"]}],                        {\"hoverlabel\": {\"bgcolor\": \"white\", \"font\": {\"family\": \"Rockwell\", \"size\": 16}}, \"template\": {\"data\": {\"bar\": [{\"error_x\": {\"color\": \"rgb(36,36,36)\"}, \"error_y\": {\"color\": \"rgb(36,36,36)\"}, \"marker\": {\"line\": {\"color\": \"white\", \"width\": 0.5}}, \"type\": \"bar\"}], \"barpolar\": [{\"marker\": {\"line\": {\"color\": \"white\", \"width\": 0.5}}, \"type\": \"barpolar\"}], \"carpet\": [{\"aaxis\": {\"endlinecolor\": \"rgb(36,36,36)\", \"gridcolor\": \"white\", \"linecolor\": \"white\", \"minorgridcolor\": \"white\", \"startlinecolor\": \"rgb(36,36,36)\"}, \"baxis\": {\"endlinecolor\": \"rgb(36,36,36)\", \"gridcolor\": \"white\", \"linecolor\": \"white\", \"minorgridcolor\": \"white\", \"startlinecolor\": \"rgb(36,36,36)\"}, \"type\": \"carpet\"}], \"choropleth\": [{\"colorbar\": {\"outlinewidth\": 1, \"tickcolor\": \"rgb(36,36,36)\", \"ticks\": \"outside\"}, \"type\": \"choropleth\"}], \"contour\": [{\"colorbar\": {\"outlinewidth\": 1, \"tickcolor\": \"rgb(36,36,36)\", \"ticks\": \"outside\"}, \"colorscale\": [[0.0, \"#440154\"], [0.1111111111111111, \"#482878\"], [0.2222222222222222, \"#3e4989\"], [0.3333333333333333, \"#31688e\"], [0.4444444444444444, \"#26828e\"], [0.5555555555555556, \"#1f9e89\"], [0.6666666666666666, \"#35b779\"], [0.7777777777777778, \"#6ece58\"], [0.8888888888888888, \"#b5de2b\"], [1.0, \"#fde725\"]], \"type\": \"contour\"}], \"contourcarpet\": [{\"colorbar\": {\"outlinewidth\": 1, \"tickcolor\": \"rgb(36,36,36)\", \"ticks\": \"outside\"}, \"type\": \"contourcarpet\"}], \"heatmap\": [{\"colorbar\": {\"outlinewidth\": 1, \"tickcolor\": \"rgb(36,36,36)\", \"ticks\": \"outside\"}, \"colorscale\": [[0.0, \"#440154\"], [0.1111111111111111, \"#482878\"], [0.2222222222222222, \"#3e4989\"], [0.3333333333333333, \"#31688e\"], [0.4444444444444444, \"#26828e\"], [0.5555555555555556, \"#1f9e89\"], [0.6666666666666666, \"#35b779\"], [0.7777777777777778, \"#6ece58\"], [0.8888888888888888, \"#b5de2b\"], [1.0, \"#fde725\"]], \"type\": \"heatmap\"}], \"heatmapgl\": [{\"colorbar\": {\"outlinewidth\": 1, \"tickcolor\": \"rgb(36,36,36)\", \"ticks\": \"outside\"}, \"colorscale\": [[0.0, \"#440154\"], [0.1111111111111111, \"#482878\"], [0.2222222222222222, \"#3e4989\"], [0.3333333333333333, \"#31688e\"], [0.4444444444444444, \"#26828e\"], [0.5555555555555556, \"#1f9e89\"], [0.6666666666666666, \"#35b779\"], [0.7777777777777778, \"#6ece58\"], [0.8888888888888888, \"#b5de2b\"], [1.0, \"#fde725\"]], \"type\": \"heatmapgl\"}], \"histogram\": [{\"marker\": {\"line\": {\"color\": \"white\", \"width\": 0.6}}, \"type\": \"histogram\"}], \"histogram2d\": [{\"colorbar\": {\"outlinewidth\": 1, \"tickcolor\": \"rgb(36,36,36)\", \"ticks\": \"outside\"}, \"colorscale\": [[0.0, \"#440154\"], [0.1111111111111111, \"#482878\"], [0.2222222222222222, \"#3e4989\"], [0.3333333333333333, \"#31688e\"], [0.4444444444444444, \"#26828e\"], [0.5555555555555556, \"#1f9e89\"], [0.6666666666666666, \"#35b779\"], [0.7777777777777778, \"#6ece58\"], [0.8888888888888888, \"#b5de2b\"], [1.0, \"#fde725\"]], \"type\": \"histogram2d\"}], \"histogram2dcontour\": [{\"colorbar\": {\"outlinewidth\": 1, \"tickcolor\": \"rgb(36,36,36)\", \"ticks\": \"outside\"}, \"colorscale\": [[0.0, \"#440154\"], [0.1111111111111111, \"#482878\"], [0.2222222222222222, \"#3e4989\"], [0.3333333333333333, \"#31688e\"], [0.4444444444444444, \"#26828e\"], [0.5555555555555556, \"#1f9e89\"], [0.6666666666666666, \"#35b779\"], [0.7777777777777778, \"#6ece58\"], [0.8888888888888888, \"#b5de2b\"], [1.0, \"#fde725\"]], \"type\": \"histogram2dcontour\"}], \"mesh3d\": [{\"colorbar\": {\"outlinewidth\": 1, \"tickcolor\": \"rgb(36,36,36)\", \"ticks\": \"outside\"}, \"type\": \"mesh3d\"}], \"parcoords\": [{\"line\": {\"colorbar\": {\"outlinewidth\": 1, \"tickcolor\": \"rgb(36,36,36)\", \"ticks\": \"outside\"}}, \"type\": \"parcoords\"}], \"pie\": [{\"automargin\": true, \"type\": \"pie\"}], \"scatter\": [{\"marker\": {\"colorbar\": {\"outlinewidth\": 1, \"tickcolor\": \"rgb(36,36,36)\", \"ticks\": \"outside\"}}, \"type\": \"scatter\"}], \"scatter3d\": [{\"line\": {\"colorbar\": {\"outlinewidth\": 1, \"tickcolor\": \"rgb(36,36,36)\", \"ticks\": \"outside\"}}, \"marker\": {\"colorbar\": {\"outlinewidth\": 1, \"tickcolor\": \"rgb(36,36,36)\", \"ticks\": \"outside\"}}, \"type\": \"scatter3d\"}], \"scattercarpet\": [{\"marker\": {\"colorbar\": {\"outlinewidth\": 1, \"tickcolor\": \"rgb(36,36,36)\", \"ticks\": \"outside\"}}, \"type\": \"scattercarpet\"}], \"scattergeo\": [{\"marker\": {\"colorbar\": {\"outlinewidth\": 1, \"tickcolor\": \"rgb(36,36,36)\", \"ticks\": \"outside\"}}, \"type\": \"scattergeo\"}], \"scattergl\": [{\"marker\": {\"colorbar\": {\"outlinewidth\": 1, \"tickcolor\": \"rgb(36,36,36)\", \"ticks\": \"outside\"}}, \"type\": \"scattergl\"}], \"scattermapbox\": [{\"marker\": {\"colorbar\": {\"outlinewidth\": 1, \"tickcolor\": \"rgb(36,36,36)\", \"ticks\": \"outside\"}}, \"type\": \"scattermapbox\"}], \"scatterpolar\": [{\"marker\": {\"colorbar\": {\"outlinewidth\": 1, \"tickcolor\": \"rgb(36,36,36)\", \"ticks\": \"outside\"}}, \"type\": \"scatterpolar\"}], \"scatterpolargl\": [{\"marker\": {\"colorbar\": {\"outlinewidth\": 1, \"tickcolor\": \"rgb(36,36,36)\", \"ticks\": \"outside\"}}, \"type\": \"scatterpolargl\"}], \"scatterternary\": [{\"marker\": {\"colorbar\": {\"outlinewidth\": 1, \"tickcolor\": \"rgb(36,36,36)\", \"ticks\": \"outside\"}}, \"type\": \"scatterternary\"}], \"surface\": [{\"colorbar\": {\"outlinewidth\": 1, \"tickcolor\": \"rgb(36,36,36)\", \"ticks\": \"outside\"}, \"colorscale\": [[0.0, \"#440154\"], [0.1111111111111111, \"#482878\"], [0.2222222222222222, \"#3e4989\"], [0.3333333333333333, \"#31688e\"], [0.4444444444444444, \"#26828e\"], [0.5555555555555556, \"#1f9e89\"], [0.6666666666666666, \"#35b779\"], [0.7777777777777778, \"#6ece58\"], [0.8888888888888888, \"#b5de2b\"], [1.0, \"#fde725\"]], \"type\": \"surface\"}], \"table\": [{\"cells\": {\"fill\": {\"color\": \"rgb(237,237,237)\"}, \"line\": {\"color\": \"white\"}}, \"header\": {\"fill\": {\"color\": \"rgb(217,217,217)\"}, \"line\": {\"color\": \"white\"}}, \"type\": \"table\"}]}, \"layout\": {\"annotationdefaults\": {\"arrowhead\": 0, \"arrowwidth\": 1}, \"coloraxis\": {\"colorbar\": {\"outlinewidth\": 1, \"tickcolor\": \"rgb(36,36,36)\", \"ticks\": \"outside\"}}, \"colorscale\": {\"diverging\": [[0.0, \"rgb(103,0,31)\"], [0.1, \"rgb(178,24,43)\"], [0.2, \"rgb(214,96,77)\"], [0.3, \"rgb(244,165,130)\"], [0.4, \"rgb(253,219,199)\"], [0.5, \"rgb(247,247,247)\"], [0.6, \"rgb(209,229,240)\"], [0.7, \"rgb(146,197,222)\"], [0.8, \"rgb(67,147,195)\"], [0.9, \"rgb(33,102,172)\"], [1.0, \"rgb(5,48,97)\"]], \"sequential\": [[0.0, \"#440154\"], [0.1111111111111111, \"#482878\"], [0.2222222222222222, \"#3e4989\"], [0.3333333333333333, \"#31688e\"], [0.4444444444444444, \"#26828e\"], [0.5555555555555556, \"#1f9e89\"], [0.6666666666666666, \"#35b779\"], [0.7777777777777778, \"#6ece58\"], [0.8888888888888888, \"#b5de2b\"], [1.0, \"#fde725\"]], \"sequentialminus\": [[0.0, \"#440154\"], [0.1111111111111111, \"#482878\"], [0.2222222222222222, \"#3e4989\"], [0.3333333333333333, \"#31688e\"], [0.4444444444444444, \"#26828e\"], [0.5555555555555556, \"#1f9e89\"], [0.6666666666666666, \"#35b779\"], [0.7777777777777778, \"#6ece58\"], [0.8888888888888888, \"#b5de2b\"], [1.0, \"#fde725\"]]}, \"colorway\": [\"#1F77B4\", \"#FF7F0E\", \"#2CA02C\", \"#D62728\", \"#9467BD\", \"#8C564B\", \"#E377C2\", \"#7F7F7F\", \"#BCBD22\", \"#17BECF\"], \"font\": {\"color\": \"rgb(36,36,36)\"}, \"geo\": {\"bgcolor\": \"white\", \"lakecolor\": \"white\", \"landcolor\": \"white\", \"showlakes\": true, \"showland\": true, \"subunitcolor\": \"white\"}, \"hoverlabel\": {\"align\": \"left\"}, \"hovermode\": \"closest\", \"mapbox\": {\"style\": \"light\"}, \"paper_bgcolor\": \"white\", \"plot_bgcolor\": \"white\", \"polar\": {\"angularaxis\": {\"gridcolor\": \"rgb(232,232,232)\", \"linecolor\": \"rgb(36,36,36)\", \"showgrid\": false, \"showline\": true, \"ticks\": \"outside\"}, \"bgcolor\": \"white\", \"radialaxis\": {\"gridcolor\": \"rgb(232,232,232)\", \"linecolor\": \"rgb(36,36,36)\", \"showgrid\": false, \"showline\": true, \"ticks\": \"outside\"}}, \"scene\": {\"xaxis\": {\"backgroundcolor\": \"white\", \"gridcolor\": \"rgb(232,232,232)\", \"gridwidth\": 2, \"linecolor\": \"rgb(36,36,36)\", \"showbackground\": true, \"showgrid\": false, \"showline\": true, \"ticks\": \"outside\", \"zeroline\": false, \"zerolinecolor\": \"rgb(36,36,36)\"}, \"yaxis\": {\"backgroundcolor\": \"white\", \"gridcolor\": \"rgb(232,232,232)\", \"gridwidth\": 2, \"linecolor\": \"rgb(36,36,36)\", \"showbackground\": true, \"showgrid\": false, \"showline\": true, \"ticks\": \"outside\", \"zeroline\": false, \"zerolinecolor\": \"rgb(36,36,36)\"}, \"zaxis\": {\"backgroundcolor\": \"white\", \"gridcolor\": \"rgb(232,232,232)\", \"gridwidth\": 2, \"linecolor\": \"rgb(36,36,36)\", \"showbackground\": true, \"showgrid\": false, \"showline\": true, \"ticks\": \"outside\", \"zeroline\": false, \"zerolinecolor\": \"rgb(36,36,36)\"}}, \"shapedefaults\": {\"fillcolor\": \"black\", \"line\": {\"width\": 0}, \"opacity\": 0.3}, \"ternary\": {\"aaxis\": {\"gridcolor\": \"rgb(232,232,232)\", \"linecolor\": \"rgb(36,36,36)\", \"showgrid\": false, \"showline\": true, \"ticks\": \"outside\"}, \"baxis\": {\"gridcolor\": \"rgb(232,232,232)\", \"linecolor\": \"rgb(36,36,36)\", \"showgrid\": false, \"showline\": true, \"ticks\": \"outside\"}, \"bgcolor\": \"white\", \"caxis\": {\"gridcolor\": \"rgb(232,232,232)\", \"linecolor\": \"rgb(36,36,36)\", \"showgrid\": false, \"showline\": true, \"ticks\": \"outside\"}}, \"title\": {\"x\": 0.05}, \"xaxis\": {\"automargin\": true, \"gridcolor\": \"rgb(232,232,232)\", \"linecolor\": \"rgb(36,36,36)\", \"showgrid\": false, \"showline\": true, \"ticks\": \"outside\", \"title\": {\"standoff\": 15}, \"zeroline\": false, \"zerolinecolor\": \"rgb(36,36,36)\"}, \"yaxis\": {\"automargin\": true, \"gridcolor\": \"rgb(232,232,232)\", \"linecolor\": \"rgb(36,36,36)\", \"showgrid\": false, \"showline\": true, \"ticks\": \"outside\", \"title\": {\"standoff\": 15}, \"zeroline\": false, \"zerolinecolor\": \"rgb(36,36,36)\"}}}, \"title\": {\"font\": {\"color\": \"Black\", \"size\": 22}, \"text\": \"<b>Topic Probability Distribution\", \"x\": 0.5, \"xanchor\": \"center\", \"y\": 0.95, \"yanchor\": \"top\"}, \"xaxis\": {\"title\": {\"text\": \"Probability\"}}},                        {\"responsive\": true}                    ).then(function(){\n",
       "                            \n",
       "var gd = document.getElementById('befca16d-d7ba-4da5-b914-82caefc83726');\n",
       "var x = new MutationObserver(function (mutations, observer) {{\n",
       "        var display = window.getComputedStyle(gd).display;\n",
       "        if (!display || display === 'none') {{\n",
       "            console.log([gd, 'removed!']);\n",
       "            Plotly.purge(gd);\n",
       "            observer.disconnect();\n",
       "        }}\n",
       "}});\n",
       "\n",
       "// Listen for the removal of the full notebook cells\n",
       "var notebookContainer = gd.closest('#notebook-container');\n",
       "if (notebookContainer) {{\n",
       "    x.observe(notebookContainer, {childList: true});\n",
       "}}\n",
       "\n",
       "// Listen for the clearing of the current output cell\n",
       "var outputEl = gd.closest('.output');\n",
       "if (outputEl) {{\n",
       "    x.observe(outputEl, {childList: true});\n",
       "}}\n",
       "\n",
       "                        })                };                });            </script>        </div>"
      ]
     },
     "metadata": {},
     "output_type": "display_data"
    }
   ],
   "source": [
    "sample_idx = np.random.randint(df.shape[0])\n",
    "print(\"\\n[ Topic Number ]: \", topics[sample_idx])\n",
    "topic_num = topics[sample_idx]\n",
    "print(\"\\n[ Words in topic] : \", topic_model.get_topic(topic_num))\n",
    "print(\"\\n[ Description] : \", df.iloc[sample_idx][\" description\"])\n",
    "print(\"\\n[ Topic probability (sample_idx) ] :\", max(topic_prob[sample_idx]))\n",
    "topic_model.visualize_distribution(topic_prob[sample_idx])"
   ]
  },
  {
   "cell_type": "code",
   "execution_count": 123,
   "metadata": {
    "ExecuteTime": {
     "end_time": "2021-05-22T14:52:53.145838Z",
     "start_time": "2021-05-22T14:52:53.129398Z"
    }
   },
   "outputs": [
    {
     "name": "stderr",
     "output_type": "stream",
     "text": [
      "/opt/conda/lib/python3.8/site-packages/ipykernel/ipkernel.py:283: DeprecationWarning:\n",
      "\n",
      "`should_run_async` will not call `transform_cell` automatically in the future. Please pass the result to `transformed_cell` argument and any exception that happen during thetransform in `preprocessing_exc_tuple` in IPython 7.17 and above.\n",
      "\n"
     ]
    },
    {
     "data": {
      "text/html": [
       "<div>\n",
       "<style scoped>\n",
       "    .dataframe tbody tr th:only-of-type {\n",
       "        vertical-align: middle;\n",
       "    }\n",
       "\n",
       "    .dataframe tbody tr th {\n",
       "        vertical-align: top;\n",
       "    }\n",
       "\n",
       "    .dataframe thead th {\n",
       "        text-align: right;\n",
       "    }\n",
       "</style>\n",
       "<table border=\"1\" class=\"dataframe\">\n",
       "  <thead>\n",
       "    <tr style=\"text-align: right;\">\n",
       "      <th></th>\n",
       "      <th>Topic</th>\n",
       "      <th>Words</th>\n",
       "      <th>Frequency</th>\n",
       "      <th>Timestamp</th>\n",
       "      <th>Name</th>\n",
       "    </tr>\n",
       "  </thead>\n",
       "  <tbody>\n",
       "    <tr>\n",
       "      <th>0</th>\n",
       "      <td>-1</td>\n",
       "      <td>year, years, saenuri, political, presidential</td>\n",
       "      <td>532</td>\n",
       "      <td>2014-12-30 21:41:45.600</td>\n",
       "      <td>-1_presidential_opposition_moon_politica...</td>\n",
       "    </tr>\n",
       "    <tr>\n",
       "      <th>1</th>\n",
       "      <td>0</td>\n",
       "      <td>evacuees, evacuations, evacuationhe, evacuatio...</td>\n",
       "      <td>1</td>\n",
       "      <td>2014-12-30 21:41:45.600</td>\n",
       "      <td>0_evacuees_evacuations_evacuationhe_evac...</td>\n",
       "    </tr>\n",
       "    <tr>\n",
       "      <th>2</th>\n",
       "      <td>2</td>\n",
       "      <td>australia, australian, australias, australians...</td>\n",
       "      <td>2</td>\n",
       "      <td>2014-12-30 21:41:45.600</td>\n",
       "      <td>2_australian_australia_australias_julie</td>\n",
       "    </tr>\n",
       "    <tr>\n",
       "      <th>3</th>\n",
       "      <td>7</td>\n",
       "      <td>germany, german, munich, berlin, unification</td>\n",
       "      <td>11</td>\n",
       "      <td>2014-12-30 21:41:45.600</td>\n",
       "      <td>7_german_germany_berlin_hamburg</td>\n",
       "    </tr>\n",
       "    <tr>\n",
       "      <th>4</th>\n",
       "      <td>8</td>\n",
       "      <td>lunar, realmeterthose, weekrealmeter, poll, ho...</td>\n",
       "      <td>1</td>\n",
       "      <td>2014-12-30 21:41:45.600</td>\n",
       "      <td>8_percentage_rating_poll_polling</td>\n",
       "    </tr>\n",
       "    <tr>\n",
       "      <th>...</th>\n",
       "      <td>...</td>\n",
       "      <td>...</td>\n",
       "      <td>...</td>\n",
       "      <td>...</td>\n",
       "      <td>...</td>\n",
       "    </tr>\n",
       "    <tr>\n",
       "      <th>2994</th>\n",
       "      <td>248</td>\n",
       "      <td>ice, kma, kilju, earthquake, freezing</td>\n",
       "      <td>2</td>\n",
       "      <td>2017-11-07 04:48:00.000</td>\n",
       "      <td>248_punggyeri_tunnel_magnitude_bomb</td>\n",
       "    </tr>\n",
       "    <tr>\n",
       "      <th>2995</th>\n",
       "      <td>249</td>\n",
       "      <td>professors, choi, influencepeddling, jaemok, h...</td>\n",
       "      <td>1</td>\n",
       "      <td>2017-11-07 04:48:00.000</td>\n",
       "      <td>249_chung_daughter_choi_kyunghee</td>\n",
       "    </tr>\n",
       "    <tr>\n",
       "      <th>2996</th>\n",
       "      <td>255</td>\n",
       "      <td>bill, budget, bills, revision, referendum</td>\n",
       "      <td>7</td>\n",
       "      <td>2017-11-07 04:48:00.000</td>\n",
       "      <td>255_bill_bills_parties_budget</td>\n",
       "    </tr>\n",
       "    <tr>\n",
       "      <th>2997</th>\n",
       "      <td>262</td>\n",
       "      <td>hosseinioun, trial, detention, lawyers, gaddafi</td>\n",
       "      <td>1</td>\n",
       "      <td>2017-11-07 04:48:00.000</td>\n",
       "      <td>262_court_justices_constitutional_justic...</td>\n",
       "    </tr>\n",
       "    <tr>\n",
       "      <th>2998</th>\n",
       "      <td>265</td>\n",
       "      <td>prosecutors, choi, bribery, won, bribes</td>\n",
       "      <td>22</td>\n",
       "      <td>2017-11-07 04:48:00.000</td>\n",
       "      <td>265_prosecutors_choi_prosecution_scandal</td>\n",
       "    </tr>\n",
       "  </tbody>\n",
       "</table>\n",
       "<p>2999 rows × 5 columns</p>\n",
       "</div>"
      ],
      "text/plain": [
       "      Topic                                              Words  Frequency  \\\n",
       "0        -1      year, years, saenuri, political, presidential        532   \n",
       "1         0  evacuees, evacuations, evacuationhe, evacuatio...          1   \n",
       "2         2  australia, australian, australias, australians...          2   \n",
       "3         7       germany, german, munich, berlin, unification         11   \n",
       "4         8  lunar, realmeterthose, weekrealmeter, poll, ho...          1   \n",
       "...     ...                                                ...        ...   \n",
       "2994    248              ice, kma, kilju, earthquake, freezing          2   \n",
       "2995    249  professors, choi, influencepeddling, jaemok, h...          1   \n",
       "2996    255          bill, budget, bills, revision, referendum          7   \n",
       "2997    262    hosseinioun, trial, detention, lawyers, gaddafi          1   \n",
       "2998    265            prosecutors, choi, bribery, won, bribes         22   \n",
       "\n",
       "                   Timestamp                                         Name  \n",
       "0    2014-12-30 21:41:45.600  -1_presidential_opposition_moon_politica...  \n",
       "1    2014-12-30 21:41:45.600  0_evacuees_evacuations_evacuationhe_evac...  \n",
       "2    2014-12-30 21:41:45.600      2_australian_australia_australias_julie  \n",
       "3    2014-12-30 21:41:45.600              7_german_germany_berlin_hamburg  \n",
       "4    2014-12-30 21:41:45.600             8_percentage_rating_poll_polling  \n",
       "...                      ...                                          ...  \n",
       "2994 2017-11-07 04:48:00.000          248_punggyeri_tunnel_magnitude_bomb  \n",
       "2995 2017-11-07 04:48:00.000             249_chung_daughter_choi_kyunghee  \n",
       "2996 2017-11-07 04:48:00.000                255_bill_bills_parties_budget  \n",
       "2997 2017-11-07 04:48:00.000  262_court_justices_constitutional_justic...  \n",
       "2998 2017-11-07 04:48:00.000     265_prosecutors_choi_prosecution_scandal  \n",
       "\n",
       "[2999 rows x 5 columns]"
      ]
     },
     "execution_count": 123,
     "metadata": {},
     "output_type": "execute_result"
    }
   ],
   "source": [
    "timestamps = df_month[\" time\"].tolist()\n",
    "topics_over_time = topic_model.topics_over_time(body, topics, timestamps, nr_bins=20)\n",
    "topics_over_time"
   ]
  },
  {
   "cell_type": "code",
   "execution_count": 122,
   "metadata": {
    "ExecuteTime": {
     "end_time": "2021-05-22T14:47:45.539140Z",
     "start_time": "2021-05-22T14:47:45.429200Z"
    },
    "scrolled": true
   },
   "outputs": [
    {
     "name": "stderr",
     "output_type": "stream",
     "text": [
      "/opt/conda/lib/python3.8/site-packages/ipykernel/ipkernel.py:283: DeprecationWarning:\n",
      "\n",
      "`should_run_async` will not call `transform_cell` automatically in the future. Please pass the result to `transformed_cell` argument and any exception that happen during thetransform in `preprocessing_exc_tuple` in IPython 7.17 and above.\n",
      "\n"
     ]
    },
    {
     "data": {
      "application/vnd.plotly.v1+json": {
       "config": {
        "plotlyServerURL": "https://plot.ly"
       },
       "data": [
        {
         "hoverinfo": "text",
         "hovertext": [
          "<b>Topic 57</b><br>Words: japanese, japan, japans, slavery, sexual",
          "<b>Topic 57</b><br>Words: japanese, japan, japans, slavery, sexual",
          "<b>Topic 57</b><br>Words: japanese, japan, japans, tokyo, sexual",
          "<b>Topic 57</b><br>Words: japanese, japan, japans, apology, sexual",
          "<b>Topic 57</b><br>Words: japanese, japan, japans, abe, tokyo",
          "<b>Topic 57</b><br>Words: japanese, japan, japans, comfort, tokyo",
          "<b>Topic 57</b><br>Words: japanese, japan, japans, slavery, tokyo",
          "<b>Topic 57</b><br>Words: japanese, japan, slavery, japans, sexual",
          "<b>Topic 57</b><br>Words: japanese, hiroshima, japans, japan, tokyo",
          "<b>Topic 57</b><br>Words: victims, japanese, japan, sexual, japans",
          "<b>Topic 57</b><br>Words: japanese, japans, japan, tokyo, sexual",
          "<b>Topic 57</b><br>Words: japanese, japan, hiroshima, japans, tokyo",
          "<b>Topic 57</b><br>Words: japan, japanese, tokyo, japans, pact",
          "<b>Topic 57</b><br>Words: japanese, japan, japans, tokyo, sexual",
          "<b>Topic 57</b><br>Words: japanese, japans, japan, women, tokyo",
          "<b>Topic 57</b><br>Words: japanese, japan, slavery, sexual, japans",
          "<b>Topic 57</b><br>Words: japanese, japan, japans, slavery, sexual",
          "<b>Topic 57</b><br>Words: japanese, japans, japan, slavery, tokyo",
          "<b>Topic 57</b><br>Words: japanese, victims, japan, sexual, japans",
          "<b>Topic 57</b><br>Words: victims, japan, japanese, japans, sexual"
         ],
         "marker": {
          "color": "#E69F00"
         },
         "mode": "lines",
         "name": "57_japanese_japan_japans_tokyo",
         "type": "scatter",
         "x": [
          "2014-12-30T21:41:45.600000",
          "2015-02-24T19:12:00",
          "2015-04-20T14:24:00",
          "2015-06-14T09:36:00",
          "2015-08-08T04:48:00",
          "2015-10-02T00:00:00",
          "2015-11-25T19:12:00",
          "2016-01-19T14:24:00",
          "2016-03-14T09:36:00",
          "2016-05-08T04:48:00",
          "2016-07-02T00:00:00",
          "2016-08-25T19:12:00",
          "2016-10-19T14:24:00",
          "2016-12-13T09:36:00",
          "2017-02-06T04:48:00",
          "2017-04-02T00:00:00",
          "2017-05-26T19:12:00",
          "2017-07-20T14:24:00",
          "2017-09-13T09:36:00",
          "2017-11-07T04:48:00"
         ],
         "y": [
          58,
          85,
          82,
          60,
          61,
          33,
          90,
          29,
          52,
          21,
          21,
          16,
          28,
          37,
          22,
          14,
          33,
          33,
          20,
          26
         ]
        },
        {
         "hoverinfo": "text",
         "hovertext": [
          "<b>Topic 86</b><br>Words: measles, disease, virus, tick, infected",
          "<b>Topic 86</b><br>Words: ebola, medical, wrapping, nurses, liberiayonhap",
          "<b>Topic 86</b><br>Words: mers, disease, patient, patients, hospitals",
          "<b>Topic 86</b><br>Words: mers, respiratory, hospitals, patients, patient",
          "<b>Topic 86</b><br>Words: patient, virus, hospitals, hospital, medical",
          "<b>Topic 86</b><br>Words: smoking, virus, disease, respiratory, smokers",
          "<b>Topic 86</b><br>Words: disease, virus, respiratory, infected, infectious",
          "<b>Topic 86</b><br>Words: tb, disease, patients, treatment, hospitals",
          "<b>Topic 86</b><br>Words: wastewater, medical, hospitals, mers, disease",
          "<b>Topic 86</b><br>Words: mers, gas, virus, heatstroke, odor",
          "<b>Topic 86</b><br>Words: heatrelated, ozone, hepatitis, gonorrhea, syphilis",
          "<b>Topic 86</b><br>Words: mupirocin, disease, ointment, hospitals, antibiotics",
          "<b>Topic 86</b><br>Words: dust, reduce, micrograms, sanghyug, expertssong",
          "<b>Topic 86</b><br>Words: smc, disease, respiratory, virus, hospitals",
          "<b>Topic 86</b><br>Words: glucose, sweatbased, kcdc, diabetes, bloodwithdrawal",
          "<b>Topic 86</b><br>Words: fever, scarlet, coughing, infection, streptococcal",
          "<b>Topic 86</b><br>Words: nosmoking, smoking, inpatients, firefighters, tobacco",
          "<b>Topic 86</b><br>Words: ferocity, unexplainable, zombie, measles, mers",
          "<b>Topic 86</b><br>Words: hospital, brain, segawa, palsy, daegu"
         ],
         "marker": {
          "color": "#56B4E9"
         },
         "mode": "lines",
         "name": "86_disease_patient_virus_hospitals",
         "type": "scatter",
         "x": [
          "2014-12-30T21:41:45.600000",
          "2015-02-24T19:12:00",
          "2015-04-20T14:24:00",
          "2015-06-14T09:36:00",
          "2015-08-08T04:48:00",
          "2015-10-02T00:00:00",
          "2015-11-25T19:12:00",
          "2016-01-19T14:24:00",
          "2016-03-14T09:36:00",
          "2016-05-08T04:48:00",
          "2016-07-02T00:00:00",
          "2016-08-25T19:12:00",
          "2016-10-19T14:24:00",
          "2016-12-13T09:36:00",
          "2017-02-06T04:48:00",
          "2017-04-02T00:00:00",
          "2017-05-26T19:12:00",
          "2017-09-13T09:36:00",
          "2017-11-07T04:48:00"
         ],
         "y": [
          4,
          1,
          161,
          53,
          13,
          3,
          5,
          2,
          8,
          5,
          5,
          4,
          1,
          5,
          2,
          1,
          3,
          2,
          1
         ]
        },
        {
         "hoverinfo": "text",
         "hovertext": [
          "<b>Topic 125</b><br>Words: women, than, teachers, households, study",
          "<b>Topic 125</b><br>Words: women, disabled, elderly, sleep, diabetes",
          "<b>Topic 125</b><br>Words: drivers, obesity, women, elderly, overweight",
          "<b>Topic 125</b><br>Words: smoking, women, than, smoke, koreans",
          "<b>Topic 125</b><br>Words: income, cancer, men, study, colorectal",
          "<b>Topic 125</b><br>Words: trials, koreans, study, clinical, children",
          "<b>Topic 125</b><br>Words: income, depression, social, koreans, women",
          "<b>Topic 125</b><br>Words: women, study, households, social, koreans",
          "<b>Topic 125</b><br>Words: children, parents, study, koreans, less",
          "<b>Topic 125</b><br>Words: women, children, gender, men, parents",
          "<b>Topic 125</b><br>Words: discrimination, married, physicians, hours, disabled",
          "<b>Topic 125</b><br>Words: women, men, respondents, income, employment",
          "<b>Topic 125</b><br>Words: poverty, grandchildren, elderly, aged, grandparents",
          "<b>Topic 125</b><br>Words: respondents, women, married, study, dust",
          "<b>Topic 125</b><br>Words: women, ranked, social, smoking, depression",
          "<b>Topic 125</b><br>Words: obesity, prevalence, children, women, study",
          "<b>Topic 125</b><br>Words: women, workers, study, households, migrant",
          "<b>Topic 125</b><br>Words: women, female, doctors, gender, social",
          "<b>Topic 125</b><br>Words: cancer, adhd, deaths, gender, drugs",
          "<b>Topic 125</b><br>Words: elderly, officers, social, brackets, solitary"
         ],
         "marker": {
          "color": "#009E73"
         },
         "mode": "lines",
         "name": "125_women_men_children_than",
         "type": "scatter",
         "x": [
          "2014-12-30T21:41:45.600000",
          "2015-02-24T19:12:00",
          "2015-04-20T14:24:00",
          "2015-06-14T09:36:00",
          "2015-08-08T04:48:00",
          "2015-10-02T00:00:00",
          "2015-11-25T19:12:00",
          "2016-01-19T14:24:00",
          "2016-03-14T09:36:00",
          "2016-05-08T04:48:00",
          "2016-07-02T00:00:00",
          "2016-08-25T19:12:00",
          "2016-10-19T14:24:00",
          "2016-12-13T09:36:00",
          "2017-02-06T04:48:00",
          "2017-04-02T00:00:00",
          "2017-05-26T19:12:00",
          "2017-07-20T14:24:00",
          "2017-09-13T09:36:00",
          "2017-11-07T04:48:00"
         ],
         "y": [
          23,
          17,
          8,
          12,
          19,
          8,
          19,
          23,
          19,
          24,
          9,
          18,
          7,
          12,
          22,
          14,
          17,
          7,
          13,
          7
         ]
        },
        {
         "hoverinfo": "text",
         "hovertext": [
          "<b>Topic 138</b><br>Words: china, beijing, beijings, hong, kong",
          "<b>Topic 138</b><br>Words: chinas, china, beijing, chinese, liu",
          "<b>Topic 138</b><br>Words: china, chinas, beijing, chinese, sea",
          "<b>Topic 138</b><br>Words: cynical, longrange, rocket, warvoicing, 2010china",
          "<b>Topic 138</b><br>Words: china, chinas, beijing, chinese, sea",
          "<b>Topic 138</b><br>Words: china, chinas, beijing, chinese, uschina",
          "<b>Topic 138</b><br>Words: china, chinas, beijing, sanctions, beijings",
          "<b>Topic 138</b><br>Words: china, chinas, chinese, beijing, rocket",
          "<b>Topic 138</b><br>Words: china, chinas, beijing, chinese, sea",
          "<b>Topic 138</b><br>Words: china, chinas, beijing, chinese, strategic",
          "<b>Topic 138</b><br>Words: yantai, china, chinese, chinas, beijing",
          "<b>Topic 138</b><br>Words: china, chinas, beijing, chinese, xi",
          "<b>Topic 138</b><br>Words: china, beijing, chinese, chinas, tourism",
          "<b>Topic 138</b><br>Words: china, beijing, chinese, chinas, wang",
          "<b>Topic 138</b><br>Words: china, chinas, chinese, beijing, retaliatory",
          "<b>Topic 138</b><br>Words: china, chinas, beijing, chinese, fang",
          "<b>Topic 138</b><br>Words: sanctions, xi, missile, beijings, haass",
          "<b>Topic 138</b><br>Words: china, beijing, chinas, oil, sanctions",
          "<b>Topic 138</b><br>Words: china, beijing, chinas, chinese, indopacific",
          "<b>Topic 138</b><br>Words: chinese, journalists, beijing, china, chinas"
         ],
         "marker": {
          "color": "#F0E442"
         },
         "mode": "lines",
         "name": "138_china_chinas_beijing_chinese",
         "type": "scatter",
         "x": [
          "2014-12-30T21:41:45.600000",
          "2015-02-24T19:12:00",
          "2015-04-20T14:24:00",
          "2015-06-14T09:36:00",
          "2015-08-08T04:48:00",
          "2015-10-02T00:00:00",
          "2015-11-25T19:12:00",
          "2016-01-19T14:24:00",
          "2016-03-14T09:36:00",
          "2016-05-08T04:48:00",
          "2016-07-02T00:00:00",
          "2016-08-25T19:12:00",
          "2016-10-19T14:24:00",
          "2016-12-13T09:36:00",
          "2017-02-06T04:48:00",
          "2017-04-02T00:00:00",
          "2017-05-26T19:12:00",
          "2017-07-20T14:24:00",
          "2017-09-13T09:36:00",
          "2017-11-07T04:48:00"
         ],
         "y": [
          11,
          14,
          8,
          4,
          13,
          5,
          17,
          39,
          11,
          19,
          14,
          13,
          6,
          11,
          37,
          8,
          12,
          12,
          9,
          4
         ]
        },
        {
         "hoverinfo": "text",
         "hovertext": [
          "<b>Topic 162</b><br>Words: russia, usrussia, enemy, unfavorable, negativeamericans",
          "<b>Topic 162</b><br>Words: trump, mad, crazy, republican, warseoul",
          "<b>Topic 162</b><br>Words: trump, republican, upkeep, fiveparty, trumps",
          "<b>Topic 162</b><br>Words: turkey, turkish, turkeys, trump, unluhisarcikli",
          "<b>Topic 162</b><br>Words: trump, republican, donald, unfounded, dumbest",
          "<b>Topic 162</b><br>Words: trump, republican, trumps, donald, armament",
          "<b>Topic 162</b><br>Words: trump, trumps, republican, donald, american",
          "<b>Topic 162</b><br>Words: trump, deal, allies, trumps, deals",
          "<b>Topic 162</b><br>Words: trump, deal, shearer, obama, donald",
          "<b>Topic 162</b><br>Words: trump, clinton, deals, donald, deal",
          "<b>Topic 162</b><br>Words: trump, donald, trumps, clinton, presidentelect",
          "<b>Topic 162</b><br>Words: trump, donald, trumps, freeze, pyongyang",
          "<b>Topic 162</b><br>Words: trump, donald, trumps, china, washington",
          "<b>Topic 162</b><br>Words: trump, donald, trumps, honored, mcmaster",
          "<b>Topic 162</b><br>Words: trump, donald, trumps, moon, american",
          "<b>Topic 162</b><br>Words: trump, donald, trumps, tillerson, washington",
          "<b>Topic 162</b><br>Words: trump, donald, trumps, washington, totally",
          "<b>Topic 162</b><br>Words: trump, donald, weapons, trumps, sanctions"
         ],
         "marker": {
          "color": "#D55E00"
         },
         "mode": "lines",
         "name": "162_trump_donald_trumps_republican",
         "type": "scatter",
         "x": [
          "2014-12-30T21:41:45.600000",
          "2015-06-14T09:36:00",
          "2015-08-08T04:48:00",
          "2015-10-02T00:00:00",
          "2015-11-25T19:12:00",
          "2016-01-19T14:24:00",
          "2016-03-14T09:36:00",
          "2016-05-08T04:48:00",
          "2016-07-02T00:00:00",
          "2016-08-25T19:12:00",
          "2016-10-19T14:24:00",
          "2016-12-13T09:36:00",
          "2017-02-06T04:48:00",
          "2017-04-02T00:00:00",
          "2017-05-26T19:12:00",
          "2017-07-20T14:24:00",
          "2017-09-13T09:36:00",
          "2017-11-07T04:48:00"
         ],
         "y": [
          1,
          2,
          4,
          2,
          4,
          4,
          22,
          13,
          8,
          8,
          15,
          19,
          45,
          30,
          19,
          51,
          56,
          8
         ]
        },
        {
         "hoverinfo": "text",
         "hovertext": [
          "<b>Topic 170</b><br>Words: talks, sixparty, envoy, discuss, meeting",
          "<b>Topic 170</b><br>Words: talks, carter, discuss, bilateral, meeting",
          "<b>Topic 170</b><br>Words: talks, meeting, discuss, china, beijing",
          "<b>Topic 170</b><br>Words: talks, meeting, beijing, meetings, meet",
          "<b>Topic 170</b><br>Words: talks, meeting, cooperation, counterpart, discuss",
          "<b>Topic 170</b><br>Words: talks, discuss, meeting, cooperation, iran",
          "<b>Topic 170</b><br>Words: talks, meeting, meet, discuss, cooperation",
          "<b>Topic 170</b><br>Words: talks, xi, beijing, obama, discuss",
          "<b>Topic 170</b><br>Words: talks, beijing, meeting, discuss, cooperation",
          "<b>Topic 170</b><br>Words: talks, beijing, forum, meeting, china",
          "<b>Topic 170</b><br>Words: talks, china, meeting, beijing, chinese",
          "<b>Topic 170</b><br>Words: discuss, talks, foreign, japan, meeting",
          "<b>Topic 170</b><br>Words: meeting, talks, yun, discuss, tracktwo",
          "<b>Topic 170</b><br>Words: talks, meeting, foreign, discuss, diplomatic",
          "<b>Topic 170</b><br>Words: yun, talks, tillerson, meeting, discuss",
          "<b>Topic 170</b><br>Words: envoy, beijing, talks, delegation, meet",
          "<b>Topic 170</b><br>Words: meeting, talks, washington, discuss, cooperation",
          "<b>Topic 170</b><br>Words: foreign, talks, meeting, discuss, minister",
          "<b>Topic 170</b><br>Words: talks, meeting, discuss, bilateral, envoy",
          "<b>Topic 170</b><br>Words: moon, chongqing, cooperation, bilateral, jinping"
         ],
         "marker": {
          "color": "#0072B2"
         },
         "mode": "lines",
         "name": "170_talks_meeting_discuss_beijing",
         "type": "scatter",
         "x": [
          "2014-12-30T21:41:45.600000",
          "2015-02-24T19:12:00",
          "2015-04-20T14:24:00",
          "2015-06-14T09:36:00",
          "2015-08-08T04:48:00",
          "2015-10-02T00:00:00",
          "2015-11-25T19:12:00",
          "2016-01-19T14:24:00",
          "2016-03-14T09:36:00",
          "2016-05-08T04:48:00",
          "2016-07-02T00:00:00",
          "2016-08-25T19:12:00",
          "2016-10-19T14:24:00",
          "2016-12-13T09:36:00",
          "2017-02-06T04:48:00",
          "2017-04-02T00:00:00",
          "2017-05-26T19:12:00",
          "2017-07-20T14:24:00",
          "2017-09-13T09:36:00",
          "2017-11-07T04:48:00"
         ],
         "y": [
          47,
          50,
          31,
          34,
          42,
          14,
          30,
          24,
          25,
          31,
          16,
          25,
          17,
          25,
          45,
          25,
          54,
          40,
          56,
          32
         ]
        },
        {
         "hoverinfo": "text",
         "hovertext": [
          "<b>Topic 194</b><br>Words: victim, wife, sexual, woman, sex",
          "<b>Topic 194</b><br>Words: sexual, sex, rape, victim, victims",
          "<b>Topic 194</b><br>Words: shooting, sexual, suicide, victim, lgbt",
          "<b>Topic 194</b><br>Words: victim, teacher, school, sexual, teachers",
          "<b>Topic 194</b><br>Words: grenade, victim, handgun, cats, murder",
          "<b>Topic 194</b><br>Words: smoe, snu, student, sexual, schools",
          "<b>Topic 194</b><br>Words: shrine, father, restroom, school, jeon",
          "<b>Topic 194</b><br>Words: victim, suspect, abuse, father, rape",
          "<b>Topic 194</b><br>Words: victim, jeongyeo, kaylalimheraldcorpcom, lim, murder",
          "<b>Topic 194</b><br>Words: victim, jeongyeo, kaylalimheraldcorpcom, suspect, accused",
          "<b>Topic 194</b><br>Words: victim, death, kaylalimheraldcorpcom, husband, dead",
          "<b>Topic 194</b><br>Words: victim, suspect, death, kaylalimheraldcorpcom, nagasaki",
          "<b>Topic 194</b><br>Words: gunpowder, victim, mattner, offender, 45yearold",
          "<b>Topic 194</b><br>Words: monk, guorui, shrine, jeju, chon",
          "<b>Topic 194</b><br>Words: victim, cult, murder, 8yearold, accomplice",
          "<b>Topic 194</b><br>Words: gay, victim, men, sexual, gangnam",
          "<b>Topic 194</b><br>Words: suspect, victim, murder, paigeshin2019heraldcorpcom, paige",
          "<b>Topic 194</b><br>Words: suspect, victim, setia, murder, bouncer",
          "<b>Topic 194</b><br>Words: suspect, victim, daughter, murder, wife",
          "<b>Topic 194</b><br>Words: victim, suspect, sexual, offenders, victims"
         ],
         "marker": {
          "color": "#CC79A7"
         },
         "mode": "lines",
         "name": "194_victim_suspect_sexual_murder",
         "type": "scatter",
         "x": [
          "2014-12-30T21:41:45.600000",
          "2015-02-24T19:12:00",
          "2015-04-20T14:24:00",
          "2015-06-14T09:36:00",
          "2015-08-08T04:48:00",
          "2015-10-02T00:00:00",
          "2015-11-25T19:12:00",
          "2016-01-19T14:24:00",
          "2016-03-14T09:36:00",
          "2016-05-08T04:48:00",
          "2016-07-02T00:00:00",
          "2016-08-25T19:12:00",
          "2016-10-19T14:24:00",
          "2016-12-13T09:36:00",
          "2017-02-06T04:48:00",
          "2017-04-02T00:00:00",
          "2017-05-26T19:12:00",
          "2017-07-20T14:24:00",
          "2017-09-13T09:36:00",
          "2017-11-07T04:48:00"
         ],
         "y": [
          39,
          29,
          19,
          16,
          23,
          4,
          14,
          32,
          72,
          65,
          24,
          39,
          5,
          4,
          11,
          9,
          31,
          34,
          62,
          29
         ]
        },
        {
         "hoverinfo": "text",
         "hovertext": [
          "<b>Topic 238</b><br>Words: drills, proposal, dialogue, halt, talks",
          "<b>Topic 238</b><br>Words: sixparty, talks, nuclear, dialogue, negotiations",
          "<b>Topic 238</b><br>Words: exploratory, hwang, talks, negotiationsexploratory, 2008since",
          "<b>Topic 238</b><br>Words: exercises, drills, interkorean, talks, artillery",
          "<b>Topic 238</b><br>Words: treaty, peace, denuclearization, talks, sixparty",
          "<b>Topic 238</b><br>Words: talks, sixparty, negotiations, talk, saidkim",
          "<b>Topic 238</b><br>Words: iaea, think, peace, irans, iran",
          "<b>Topic 238</b><br>Words: denuclearization, treaty, sanctions, proposal, nuclear",
          "<b>Topic 238</b><br>Words: denuclearization, talks, nuclear, sanctions, treaty",
          "<b>Topic 238</b><br>Words: pyongyang, peace, sanctions, denuclearization, treaty",
          "<b>Topic 238</b><br>Words: wish, unification, concernstension, welllast, jongunkims",
          "<b>Topic 238</b><br>Words: denuclearization, treaty, pyongyang, nuclear, sanctions",
          "<b>Topic 238</b><br>Words: cia, toothache, saidbeijing, obliterate, maliciously",
          "<b>Topic 238</b><br>Words: denuclearization, freeze, interkorean, talks, nuclear",
          "<b>Topic 238</b><br>Words: patience, policy, denuclearization, sanctions, haass",
          "<b>Topic 238</b><br>Words: haley, denuclearization, sanctions, dialogue, iran",
          "<b>Topic 238</b><br>Words: dialogue, peace, sanctions, talks, freeze",
          "<b>Topic 238</b><br>Words: kuwait, sanctions, dialogue, sudan, talks",
          "<b>Topic 238</b><br>Words: denuclearization, dialogue, talks, sanctions, provocations",
          "<b>Topic 238</b><br>Words: olympics, exercises, proposal, drills, olympic"
         ],
         "marker": {
          "color": "#E69F00"
         },
         "mode": "lines",
         "name": "238_denuclearization_talks_peace_treaty",
         "type": "scatter",
         "x": [
          "2014-12-30T21:41:45.600000",
          "2015-02-24T19:12:00",
          "2015-04-20T14:24:00",
          "2015-06-14T09:36:00",
          "2015-08-08T04:48:00",
          "2015-10-02T00:00:00",
          "2015-11-25T19:12:00",
          "2016-01-19T14:24:00",
          "2016-03-14T09:36:00",
          "2016-05-08T04:48:00",
          "2016-07-02T00:00:00",
          "2016-08-25T19:12:00",
          "2016-10-19T14:24:00",
          "2016-12-13T09:36:00",
          "2017-02-06T04:48:00",
          "2017-04-02T00:00:00",
          "2017-05-26T19:12:00",
          "2017-07-20T14:24:00",
          "2017-09-13T09:36:00",
          "2017-11-07T04:48:00"
         ],
         "y": [
          21,
          6,
          1,
          14,
          9,
          4,
          5,
          10,
          19,
          11,
          2,
          10,
          1,
          3,
          11,
          6,
          23,
          13,
          11,
          11
         ]
        },
        {
         "hoverinfo": "text",
         "hovertext": [
          "<b>Topic 246</b><br>Words: rocket, testfiring, ultraprecision, developed, missile",
          "<b>Topic 246</b><br>Words: missiles, shortrange, launch, rocket, groundtoair",
          "<b>Topic 246</b><br>Words: ballistic, missiles, missile, missiledefense, slbm",
          "<b>Topic 246</b><br>Words: loudspeakers, rocketat, attackat, broadcaststhe, trajectory",
          "<b>Topic 246</b><br>Words: kn08, rocket, missiles, ballistic, missile",
          "<b>Topic 246</b><br>Words: rocket, space, kari, kslv2, engine",
          "<b>Topic 246</b><br>Words: rocket, missiles, missile, space, orbit",
          "<b>Topic 246</b><br>Words: ballistic, missile, icbm, missiles, launch",
          "<b>Topic 246</b><br>Words: jupiter, spacecraft, jupiters, missile, nasa",
          "<b>Topic 246</b><br>Words: missiles, ballistic, missile, launch, launches",
          "<b>Topic 246</b><br>Words: rocket, launch, missiles, missile, satellite",
          "<b>Topic 246</b><br>Words: missile, ballistic, launch, missiles, pukguksong2",
          "<b>Topic 246</b><br>Words: missiles, ballistic, missile, launch, rocket",
          "<b>Topic 246</b><br>Words: missile, ballistic, launch, missiles, pukguksong2",
          "<b>Topic 246</b><br>Words: missile, icbm, ballistic, missiles, launch",
          "<b>Topic 246</b><br>Words: ballistic, missile, missiles, launch, launches",
          "<b>Topic 246</b><br>Words: icbm, missile, launch, hwasong15, hwasong14",
          "<b>Topic 246</b><br>Words: hwasong15, missile, icbm, space, launch"
         ],
         "marker": {
          "color": "#56B4E9"
         },
         "mode": "lines",
         "name": "246_ballistic_missile_missiles_launch",
         "type": "scatter",
         "x": [
          "2014-12-30T21:41:45.600000",
          "2015-02-24T19:12:00",
          "2015-04-20T14:24:00",
          "2015-06-14T09:36:00",
          "2015-08-08T04:48:00",
          "2015-11-25T19:12:00",
          "2016-01-19T14:24:00",
          "2016-03-14T09:36:00",
          "2016-05-08T04:48:00",
          "2016-07-02T00:00:00",
          "2016-08-25T19:12:00",
          "2016-12-13T09:36:00",
          "2017-02-06T04:48:00",
          "2017-04-02T00:00:00",
          "2017-05-26T19:12:00",
          "2017-07-20T14:24:00",
          "2017-09-13T09:36:00",
          "2017-11-07T04:48:00"
         ],
         "y": [
          3,
          4,
          4,
          1,
          5,
          1,
          31,
          5,
          9,
          7,
          10,
          11,
          10,
          20,
          28,
          14,
          7,
          7
         ]
        },
        {
         "hoverinfo": "text",
         "hovertext": [
          "<b>Topic 265</b><br>Words: prosecutors, judge, bribes, won, choi",
          "<b>Topic 265</b><br>Words: sung, prosecutors, lee, prosecution, million",
          "<b>Topic 265</b><br>Words: sung, prosecutors, funds, money, bribery",
          "<b>Topic 265</b><br>Words: prosecutors, won, money, han, prosecution",
          "<b>Topic 265</b><br>Words: prosecutors, cho, company, heepal, pianists",
          "<b>Topic 265</b><br>Words: prosecutors, million, kickbacks, bribes, forfeit",
          "<b>Topic 265</b><br>Words: prosecutors, won, sung, bribes, million",
          "<b>Topic 265</b><br>Words: prosecutors, school, money, million, choi",
          "<b>Topic 265</b><br>Words: prosecutors, jung, gambling, court, indicted",
          "<b>Topic 265</b><br>Words: jin, prosecutors, prosecution, bribes, wealth",
          "<b>Topic 265</b><br>Words: prosecutors, woo, geunryoung, prosecution, lee",
          "<b>Topic 265</b><br>Words: choi, prosecutors, mir, ksports, scandal",
          "<b>Topic 265</b><br>Words: choi, prosecutors, scandal, prosecution, chois",
          "<b>Topic 265</b><br>Words: choi, samsung, counsel, prosecutors, parks",
          "<b>Topic 265</b><br>Words: prosecutors, choi, prosecution, scandal, bribery",
          "<b>Topic 265</b><br>Words: choi, court, prosecutors, scandal, courtroom",
          "<b>Topic 265</b><br>Words: prosecution, prosecutors, court, samsung, lee",
          "<b>Topic 265</b><br>Words: prosecutors, samsung, choi, bribery, prosecution",
          "<b>Topic 265</b><br>Words: prosecutors, prosecution, choi, bribery, lee",
          "<b>Topic 265</b><br>Words: prosecutors, choi, bribery, won, bribes"
         ],
         "marker": {
          "color": "#009E73"
         },
         "mode": "lines",
         "name": "265_prosecutors_choi_prosecution_scandal",
         "type": "scatter",
         "x": [
          "2014-12-30T21:41:45.600000",
          "2015-02-24T19:12:00",
          "2015-04-20T14:24:00",
          "2015-06-14T09:36:00",
          "2015-08-08T04:48:00",
          "2015-10-02T00:00:00",
          "2015-11-25T19:12:00",
          "2016-01-19T14:24:00",
          "2016-03-14T09:36:00",
          "2016-05-08T04:48:00",
          "2016-07-02T00:00:00",
          "2016-08-25T19:12:00",
          "2016-10-19T14:24:00",
          "2016-12-13T09:36:00",
          "2017-02-06T04:48:00",
          "2017-04-02T00:00:00",
          "2017-05-26T19:12:00",
          "2017-07-20T14:24:00",
          "2017-09-13T09:36:00",
          "2017-11-07T04:48:00"
         ],
         "y": [
          34,
          30,
          41,
          22,
          12,
          9,
          12,
          12,
          16,
          22,
          11,
          29,
          70,
          75,
          56,
          19,
          29,
          27,
          69,
          22
         ]
        }
       ],
       "layout": {
        "height": 450,
        "hoverlabel": {
         "bgcolor": "white",
         "font": {
          "family": "Rockwell",
          "size": 16
         }
        },
        "legend": {
         "title": {
          "text": "<b>Global Topic Representation"
         }
        },
        "template": {
         "data": {
          "bar": [
           {
            "error_x": {
             "color": "rgb(36,36,36)"
            },
            "error_y": {
             "color": "rgb(36,36,36)"
            },
            "marker": {
             "line": {
              "color": "white",
              "width": 0.5
             }
            },
            "type": "bar"
           }
          ],
          "barpolar": [
           {
            "marker": {
             "line": {
              "color": "white",
              "width": 0.5
             }
            },
            "type": "barpolar"
           }
          ],
          "carpet": [
           {
            "aaxis": {
             "endlinecolor": "rgb(36,36,36)",
             "gridcolor": "white",
             "linecolor": "white",
             "minorgridcolor": "white",
             "startlinecolor": "rgb(36,36,36)"
            },
            "baxis": {
             "endlinecolor": "rgb(36,36,36)",
             "gridcolor": "white",
             "linecolor": "white",
             "minorgridcolor": "white",
             "startlinecolor": "rgb(36,36,36)"
            },
            "type": "carpet"
           }
          ],
          "choropleth": [
           {
            "colorbar": {
             "outlinewidth": 1,
             "tickcolor": "rgb(36,36,36)",
             "ticks": "outside"
            },
            "type": "choropleth"
           }
          ],
          "contour": [
           {
            "colorbar": {
             "outlinewidth": 1,
             "tickcolor": "rgb(36,36,36)",
             "ticks": "outside"
            },
            "colorscale": [
             [
              0,
              "#440154"
             ],
             [
              0.1111111111111111,
              "#482878"
             ],
             [
              0.2222222222222222,
              "#3e4989"
             ],
             [
              0.3333333333333333,
              "#31688e"
             ],
             [
              0.4444444444444444,
              "#26828e"
             ],
             [
              0.5555555555555556,
              "#1f9e89"
             ],
             [
              0.6666666666666666,
              "#35b779"
             ],
             [
              0.7777777777777778,
              "#6ece58"
             ],
             [
              0.8888888888888888,
              "#b5de2b"
             ],
             [
              1,
              "#fde725"
             ]
            ],
            "type": "contour"
           }
          ],
          "contourcarpet": [
           {
            "colorbar": {
             "outlinewidth": 1,
             "tickcolor": "rgb(36,36,36)",
             "ticks": "outside"
            },
            "type": "contourcarpet"
           }
          ],
          "heatmap": [
           {
            "colorbar": {
             "outlinewidth": 1,
             "tickcolor": "rgb(36,36,36)",
             "ticks": "outside"
            },
            "colorscale": [
             [
              0,
              "#440154"
             ],
             [
              0.1111111111111111,
              "#482878"
             ],
             [
              0.2222222222222222,
              "#3e4989"
             ],
             [
              0.3333333333333333,
              "#31688e"
             ],
             [
              0.4444444444444444,
              "#26828e"
             ],
             [
              0.5555555555555556,
              "#1f9e89"
             ],
             [
              0.6666666666666666,
              "#35b779"
             ],
             [
              0.7777777777777778,
              "#6ece58"
             ],
             [
              0.8888888888888888,
              "#b5de2b"
             ],
             [
              1,
              "#fde725"
             ]
            ],
            "type": "heatmap"
           }
          ],
          "heatmapgl": [
           {
            "colorbar": {
             "outlinewidth": 1,
             "tickcolor": "rgb(36,36,36)",
             "ticks": "outside"
            },
            "colorscale": [
             [
              0,
              "#440154"
             ],
             [
              0.1111111111111111,
              "#482878"
             ],
             [
              0.2222222222222222,
              "#3e4989"
             ],
             [
              0.3333333333333333,
              "#31688e"
             ],
             [
              0.4444444444444444,
              "#26828e"
             ],
             [
              0.5555555555555556,
              "#1f9e89"
             ],
             [
              0.6666666666666666,
              "#35b779"
             ],
             [
              0.7777777777777778,
              "#6ece58"
             ],
             [
              0.8888888888888888,
              "#b5de2b"
             ],
             [
              1,
              "#fde725"
             ]
            ],
            "type": "heatmapgl"
           }
          ],
          "histogram": [
           {
            "marker": {
             "line": {
              "color": "white",
              "width": 0.6
             }
            },
            "type": "histogram"
           }
          ],
          "histogram2d": [
           {
            "colorbar": {
             "outlinewidth": 1,
             "tickcolor": "rgb(36,36,36)",
             "ticks": "outside"
            },
            "colorscale": [
             [
              0,
              "#440154"
             ],
             [
              0.1111111111111111,
              "#482878"
             ],
             [
              0.2222222222222222,
              "#3e4989"
             ],
             [
              0.3333333333333333,
              "#31688e"
             ],
             [
              0.4444444444444444,
              "#26828e"
             ],
             [
              0.5555555555555556,
              "#1f9e89"
             ],
             [
              0.6666666666666666,
              "#35b779"
             ],
             [
              0.7777777777777778,
              "#6ece58"
             ],
             [
              0.8888888888888888,
              "#b5de2b"
             ],
             [
              1,
              "#fde725"
             ]
            ],
            "type": "histogram2d"
           }
          ],
          "histogram2dcontour": [
           {
            "colorbar": {
             "outlinewidth": 1,
             "tickcolor": "rgb(36,36,36)",
             "ticks": "outside"
            },
            "colorscale": [
             [
              0,
              "#440154"
             ],
             [
              0.1111111111111111,
              "#482878"
             ],
             [
              0.2222222222222222,
              "#3e4989"
             ],
             [
              0.3333333333333333,
              "#31688e"
             ],
             [
              0.4444444444444444,
              "#26828e"
             ],
             [
              0.5555555555555556,
              "#1f9e89"
             ],
             [
              0.6666666666666666,
              "#35b779"
             ],
             [
              0.7777777777777778,
              "#6ece58"
             ],
             [
              0.8888888888888888,
              "#b5de2b"
             ],
             [
              1,
              "#fde725"
             ]
            ],
            "type": "histogram2dcontour"
           }
          ],
          "mesh3d": [
           {
            "colorbar": {
             "outlinewidth": 1,
             "tickcolor": "rgb(36,36,36)",
             "ticks": "outside"
            },
            "type": "mesh3d"
           }
          ],
          "parcoords": [
           {
            "line": {
             "colorbar": {
              "outlinewidth": 1,
              "tickcolor": "rgb(36,36,36)",
              "ticks": "outside"
             }
            },
            "type": "parcoords"
           }
          ],
          "pie": [
           {
            "automargin": true,
            "type": "pie"
           }
          ],
          "scatter": [
           {
            "marker": {
             "colorbar": {
              "outlinewidth": 1,
              "tickcolor": "rgb(36,36,36)",
              "ticks": "outside"
             }
            },
            "type": "scatter"
           }
          ],
          "scatter3d": [
           {
            "line": {
             "colorbar": {
              "outlinewidth": 1,
              "tickcolor": "rgb(36,36,36)",
              "ticks": "outside"
             }
            },
            "marker": {
             "colorbar": {
              "outlinewidth": 1,
              "tickcolor": "rgb(36,36,36)",
              "ticks": "outside"
             }
            },
            "type": "scatter3d"
           }
          ],
          "scattercarpet": [
           {
            "marker": {
             "colorbar": {
              "outlinewidth": 1,
              "tickcolor": "rgb(36,36,36)",
              "ticks": "outside"
             }
            },
            "type": "scattercarpet"
           }
          ],
          "scattergeo": [
           {
            "marker": {
             "colorbar": {
              "outlinewidth": 1,
              "tickcolor": "rgb(36,36,36)",
              "ticks": "outside"
             }
            },
            "type": "scattergeo"
           }
          ],
          "scattergl": [
           {
            "marker": {
             "colorbar": {
              "outlinewidth": 1,
              "tickcolor": "rgb(36,36,36)",
              "ticks": "outside"
             }
            },
            "type": "scattergl"
           }
          ],
          "scattermapbox": [
           {
            "marker": {
             "colorbar": {
              "outlinewidth": 1,
              "tickcolor": "rgb(36,36,36)",
              "ticks": "outside"
             }
            },
            "type": "scattermapbox"
           }
          ],
          "scatterpolar": [
           {
            "marker": {
             "colorbar": {
              "outlinewidth": 1,
              "tickcolor": "rgb(36,36,36)",
              "ticks": "outside"
             }
            },
            "type": "scatterpolar"
           }
          ],
          "scatterpolargl": [
           {
            "marker": {
             "colorbar": {
              "outlinewidth": 1,
              "tickcolor": "rgb(36,36,36)",
              "ticks": "outside"
             }
            },
            "type": "scatterpolargl"
           }
          ],
          "scatterternary": [
           {
            "marker": {
             "colorbar": {
              "outlinewidth": 1,
              "tickcolor": "rgb(36,36,36)",
              "ticks": "outside"
             }
            },
            "type": "scatterternary"
           }
          ],
          "surface": [
           {
            "colorbar": {
             "outlinewidth": 1,
             "tickcolor": "rgb(36,36,36)",
             "ticks": "outside"
            },
            "colorscale": [
             [
              0,
              "#440154"
             ],
             [
              0.1111111111111111,
              "#482878"
             ],
             [
              0.2222222222222222,
              "#3e4989"
             ],
             [
              0.3333333333333333,
              "#31688e"
             ],
             [
              0.4444444444444444,
              "#26828e"
             ],
             [
              0.5555555555555556,
              "#1f9e89"
             ],
             [
              0.6666666666666666,
              "#35b779"
             ],
             [
              0.7777777777777778,
              "#6ece58"
             ],
             [
              0.8888888888888888,
              "#b5de2b"
             ],
             [
              1,
              "#fde725"
             ]
            ],
            "type": "surface"
           }
          ],
          "table": [
           {
            "cells": {
             "fill": {
              "color": "rgb(237,237,237)"
             },
             "line": {
              "color": "white"
             }
            },
            "header": {
             "fill": {
              "color": "rgb(217,217,217)"
             },
             "line": {
              "color": "white"
             }
            },
            "type": "table"
           }
          ]
         },
         "layout": {
          "annotationdefaults": {
           "arrowhead": 0,
           "arrowwidth": 1
          },
          "coloraxis": {
           "colorbar": {
            "outlinewidth": 1,
            "tickcolor": "rgb(36,36,36)",
            "ticks": "outside"
           }
          },
          "colorscale": {
           "diverging": [
            [
             0,
             "rgb(103,0,31)"
            ],
            [
             0.1,
             "rgb(178,24,43)"
            ],
            [
             0.2,
             "rgb(214,96,77)"
            ],
            [
             0.3,
             "rgb(244,165,130)"
            ],
            [
             0.4,
             "rgb(253,219,199)"
            ],
            [
             0.5,
             "rgb(247,247,247)"
            ],
            [
             0.6,
             "rgb(209,229,240)"
            ],
            [
             0.7,
             "rgb(146,197,222)"
            ],
            [
             0.8,
             "rgb(67,147,195)"
            ],
            [
             0.9,
             "rgb(33,102,172)"
            ],
            [
             1,
             "rgb(5,48,97)"
            ]
           ],
           "sequential": [
            [
             0,
             "#440154"
            ],
            [
             0.1111111111111111,
             "#482878"
            ],
            [
             0.2222222222222222,
             "#3e4989"
            ],
            [
             0.3333333333333333,
             "#31688e"
            ],
            [
             0.4444444444444444,
             "#26828e"
            ],
            [
             0.5555555555555556,
             "#1f9e89"
            ],
            [
             0.6666666666666666,
             "#35b779"
            ],
            [
             0.7777777777777778,
             "#6ece58"
            ],
            [
             0.8888888888888888,
             "#b5de2b"
            ],
            [
             1,
             "#fde725"
            ]
           ],
           "sequentialminus": [
            [
             0,
             "#440154"
            ],
            [
             0.1111111111111111,
             "#482878"
            ],
            [
             0.2222222222222222,
             "#3e4989"
            ],
            [
             0.3333333333333333,
             "#31688e"
            ],
            [
             0.4444444444444444,
             "#26828e"
            ],
            [
             0.5555555555555556,
             "#1f9e89"
            ],
            [
             0.6666666666666666,
             "#35b779"
            ],
            [
             0.7777777777777778,
             "#6ece58"
            ],
            [
             0.8888888888888888,
             "#b5de2b"
            ],
            [
             1,
             "#fde725"
            ]
           ]
          },
          "colorway": [
           "#1F77B4",
           "#FF7F0E",
           "#2CA02C",
           "#D62728",
           "#9467BD",
           "#8C564B",
           "#E377C2",
           "#7F7F7F",
           "#BCBD22",
           "#17BECF"
          ],
          "font": {
           "color": "rgb(36,36,36)"
          },
          "geo": {
           "bgcolor": "white",
           "lakecolor": "white",
           "landcolor": "white",
           "showlakes": true,
           "showland": true,
           "subunitcolor": "white"
          },
          "hoverlabel": {
           "align": "left"
          },
          "hovermode": "closest",
          "mapbox": {
           "style": "light"
          },
          "paper_bgcolor": "white",
          "plot_bgcolor": "white",
          "polar": {
           "angularaxis": {
            "gridcolor": "rgb(232,232,232)",
            "linecolor": "rgb(36,36,36)",
            "showgrid": false,
            "showline": true,
            "ticks": "outside"
           },
           "bgcolor": "white",
           "radialaxis": {
            "gridcolor": "rgb(232,232,232)",
            "linecolor": "rgb(36,36,36)",
            "showgrid": false,
            "showline": true,
            "ticks": "outside"
           }
          },
          "scene": {
           "xaxis": {
            "backgroundcolor": "white",
            "gridcolor": "rgb(232,232,232)",
            "gridwidth": 2,
            "linecolor": "rgb(36,36,36)",
            "showbackground": true,
            "showgrid": false,
            "showline": true,
            "ticks": "outside",
            "zeroline": false,
            "zerolinecolor": "rgb(36,36,36)"
           },
           "yaxis": {
            "backgroundcolor": "white",
            "gridcolor": "rgb(232,232,232)",
            "gridwidth": 2,
            "linecolor": "rgb(36,36,36)",
            "showbackground": true,
            "showgrid": false,
            "showline": true,
            "ticks": "outside",
            "zeroline": false,
            "zerolinecolor": "rgb(36,36,36)"
           },
           "zaxis": {
            "backgroundcolor": "white",
            "gridcolor": "rgb(232,232,232)",
            "gridwidth": 2,
            "linecolor": "rgb(36,36,36)",
            "showbackground": true,
            "showgrid": false,
            "showline": true,
            "ticks": "outside",
            "zeroline": false,
            "zerolinecolor": "rgb(36,36,36)"
           }
          },
          "shapedefaults": {
           "fillcolor": "black",
           "line": {
            "width": 0
           },
           "opacity": 0.3
          },
          "ternary": {
           "aaxis": {
            "gridcolor": "rgb(232,232,232)",
            "linecolor": "rgb(36,36,36)",
            "showgrid": false,
            "showline": true,
            "ticks": "outside"
           },
           "baxis": {
            "gridcolor": "rgb(232,232,232)",
            "linecolor": "rgb(36,36,36)",
            "showgrid": false,
            "showline": true,
            "ticks": "outside"
           },
           "bgcolor": "white",
           "caxis": {
            "gridcolor": "rgb(232,232,232)",
            "linecolor": "rgb(36,36,36)",
            "showgrid": false,
            "showline": true,
            "ticks": "outside"
           }
          },
          "title": {
           "x": 0.05
          },
          "xaxis": {
           "automargin": true,
           "gridcolor": "rgb(232,232,232)",
           "linecolor": "rgb(36,36,36)",
           "showgrid": false,
           "showline": true,
           "ticks": "outside",
           "title": {
            "standoff": 15
           },
           "zeroline": false,
           "zerolinecolor": "rgb(36,36,36)"
          },
          "yaxis": {
           "automargin": true,
           "gridcolor": "rgb(232,232,232)",
           "linecolor": "rgb(36,36,36)",
           "showgrid": false,
           "showline": true,
           "ticks": "outside",
           "title": {
            "standoff": 15
           },
           "zeroline": false,
           "zerolinecolor": "rgb(36,36,36)"
          }
         }
        },
        "title": {
         "font": {
          "color": "Black",
          "size": 22
         },
         "text": "<b>Topics over Time",
         "x": 0.4,
         "xanchor": "center",
         "y": 0.95,
         "yanchor": "top"
        },
        "width": 1250,
        "xaxis": {
         "showgrid": true
        },
        "yaxis": {
         "showgrid": true,
         "title": {
          "text": "Frequency"
         }
        }
       }
      },
      "text/html": [
       "<div>                            <div id=\"f8cef8f9-95b1-478d-a58a-e5411f27a268\" class=\"plotly-graph-div\" style=\"height:450px; width:1250px;\"></div>            <script type=\"text/javascript\">                require([\"plotly\"], function(Plotly) {                    window.PLOTLYENV=window.PLOTLYENV || {};                                    if (document.getElementById(\"f8cef8f9-95b1-478d-a58a-e5411f27a268\")) {                    Plotly.newPlot(                        \"f8cef8f9-95b1-478d-a58a-e5411f27a268\",                        [{\"hoverinfo\": \"text\", \"hovertext\": [\"<b>Topic 57</b><br>Words: japanese, japan, japans, slavery, sexual\", \"<b>Topic 57</b><br>Words: japanese, japan, japans, slavery, sexual\", \"<b>Topic 57</b><br>Words: japanese, japan, japans, tokyo, sexual\", \"<b>Topic 57</b><br>Words: japanese, japan, japans, apology, sexual\", \"<b>Topic 57</b><br>Words: japanese, japan, japans, abe, tokyo\", \"<b>Topic 57</b><br>Words: japanese, japan, japans, comfort, tokyo\", \"<b>Topic 57</b><br>Words: japanese, japan, japans, slavery, tokyo\", \"<b>Topic 57</b><br>Words: japanese, japan, slavery, japans, sexual\", \"<b>Topic 57</b><br>Words: japanese, hiroshima, japans, japan, tokyo\", \"<b>Topic 57</b><br>Words: victims, japanese, japan, sexual, japans\", \"<b>Topic 57</b><br>Words: japanese, japans, japan, tokyo, sexual\", \"<b>Topic 57</b><br>Words: japanese, japan, hiroshima, japans, tokyo\", \"<b>Topic 57</b><br>Words: japan, japanese, tokyo, japans, pact\", \"<b>Topic 57</b><br>Words: japanese, japan, japans, tokyo, sexual\", \"<b>Topic 57</b><br>Words: japanese, japans, japan, women, tokyo\", \"<b>Topic 57</b><br>Words: japanese, japan, slavery, sexual, japans\", \"<b>Topic 57</b><br>Words: japanese, japan, japans, slavery, sexual\", \"<b>Topic 57</b><br>Words: japanese, japans, japan, slavery, tokyo\", \"<b>Topic 57</b><br>Words: japanese, victims, japan, sexual, japans\", \"<b>Topic 57</b><br>Words: victims, japan, japanese, japans, sexual\"], \"marker\": {\"color\": \"#E69F00\"}, \"mode\": \"lines\", \"name\": \"57_japanese_japan_japans_tokyo\", \"type\": \"scatter\", \"x\": [\"2014-12-30T21:41:45.600000\", \"2015-02-24T19:12:00\", \"2015-04-20T14:24:00\", \"2015-06-14T09:36:00\", \"2015-08-08T04:48:00\", \"2015-10-02T00:00:00\", \"2015-11-25T19:12:00\", \"2016-01-19T14:24:00\", \"2016-03-14T09:36:00\", \"2016-05-08T04:48:00\", \"2016-07-02T00:00:00\", \"2016-08-25T19:12:00\", \"2016-10-19T14:24:00\", \"2016-12-13T09:36:00\", \"2017-02-06T04:48:00\", \"2017-04-02T00:00:00\", \"2017-05-26T19:12:00\", \"2017-07-20T14:24:00\", \"2017-09-13T09:36:00\", \"2017-11-07T04:48:00\"], \"y\": [58, 85, 82, 60, 61, 33, 90, 29, 52, 21, 21, 16, 28, 37, 22, 14, 33, 33, 20, 26]}, {\"hoverinfo\": \"text\", \"hovertext\": [\"<b>Topic 86</b><br>Words: measles, disease, virus, tick, infected\", \"<b>Topic 86</b><br>Words: ebola, medical, wrapping, nurses, liberiayonhap\", \"<b>Topic 86</b><br>Words: mers, disease, patient, patients, hospitals\", \"<b>Topic 86</b><br>Words: mers, respiratory, hospitals, patients, patient\", \"<b>Topic 86</b><br>Words: patient, virus, hospitals, hospital, medical\", \"<b>Topic 86</b><br>Words: smoking, virus, disease, respiratory, smokers\", \"<b>Topic 86</b><br>Words: disease, virus, respiratory, infected, infectious\", \"<b>Topic 86</b><br>Words: tb, disease, patients, treatment, hospitals\", \"<b>Topic 86</b><br>Words: wastewater, medical, hospitals, mers, disease\", \"<b>Topic 86</b><br>Words: mers, gas, virus, heatstroke, odor\", \"<b>Topic 86</b><br>Words: heatrelated, ozone, hepatitis, gonorrhea, syphilis\", \"<b>Topic 86</b><br>Words: mupirocin, disease, ointment, hospitals, antibiotics\", \"<b>Topic 86</b><br>Words: dust, reduce, micrograms, sanghyug, expertssong\", \"<b>Topic 86</b><br>Words: smc, disease, respiratory, virus, hospitals\", \"<b>Topic 86</b><br>Words: glucose, sweatbased, kcdc, diabetes, bloodwithdrawal\", \"<b>Topic 86</b><br>Words: fever, scarlet, coughing, infection, streptococcal\", \"<b>Topic 86</b><br>Words: nosmoking, smoking, inpatients, firefighters, tobacco\", \"<b>Topic 86</b><br>Words: ferocity, unexplainable, zombie, measles, mers\", \"<b>Topic 86</b><br>Words: hospital, brain, segawa, palsy, daegu\"], \"marker\": {\"color\": \"#56B4E9\"}, \"mode\": \"lines\", \"name\": \"86_disease_patient_virus_hospitals\", \"type\": \"scatter\", \"x\": [\"2014-12-30T21:41:45.600000\", \"2015-02-24T19:12:00\", \"2015-04-20T14:24:00\", \"2015-06-14T09:36:00\", \"2015-08-08T04:48:00\", \"2015-10-02T00:00:00\", \"2015-11-25T19:12:00\", \"2016-01-19T14:24:00\", \"2016-03-14T09:36:00\", \"2016-05-08T04:48:00\", \"2016-07-02T00:00:00\", \"2016-08-25T19:12:00\", \"2016-10-19T14:24:00\", \"2016-12-13T09:36:00\", \"2017-02-06T04:48:00\", \"2017-04-02T00:00:00\", \"2017-05-26T19:12:00\", \"2017-09-13T09:36:00\", \"2017-11-07T04:48:00\"], \"y\": [4, 1, 161, 53, 13, 3, 5, 2, 8, 5, 5, 4, 1, 5, 2, 1, 3, 2, 1]}, {\"hoverinfo\": \"text\", \"hovertext\": [\"<b>Topic 125</b><br>Words: women, than, teachers, households, study\", \"<b>Topic 125</b><br>Words: women, disabled, elderly, sleep, diabetes\", \"<b>Topic 125</b><br>Words: drivers, obesity, women, elderly, overweight\", \"<b>Topic 125</b><br>Words: smoking, women, than, smoke, koreans\", \"<b>Topic 125</b><br>Words: income, cancer, men, study, colorectal\", \"<b>Topic 125</b><br>Words: trials, koreans, study, clinical, children\", \"<b>Topic 125</b><br>Words: income, depression, social, koreans, women\", \"<b>Topic 125</b><br>Words: women, study, households, social, koreans\", \"<b>Topic 125</b><br>Words: children, parents, study, koreans, less\", \"<b>Topic 125</b><br>Words: women, children, gender, men, parents\", \"<b>Topic 125</b><br>Words: discrimination, married, physicians, hours, disabled\", \"<b>Topic 125</b><br>Words: women, men, respondents, income, employment\", \"<b>Topic 125</b><br>Words: poverty, grandchildren, elderly, aged, grandparents\", \"<b>Topic 125</b><br>Words: respondents, women, married, study, dust\", \"<b>Topic 125</b><br>Words: women, ranked, social, smoking, depression\", \"<b>Topic 125</b><br>Words: obesity, prevalence, children, women, study\", \"<b>Topic 125</b><br>Words: women, workers, study, households, migrant\", \"<b>Topic 125</b><br>Words: women, female, doctors, gender, social\", \"<b>Topic 125</b><br>Words: cancer, adhd, deaths, gender, drugs\", \"<b>Topic 125</b><br>Words: elderly, officers, social, brackets, solitary\"], \"marker\": {\"color\": \"#009E73\"}, \"mode\": \"lines\", \"name\": \"125_women_men_children_than\", \"type\": \"scatter\", \"x\": [\"2014-12-30T21:41:45.600000\", \"2015-02-24T19:12:00\", \"2015-04-20T14:24:00\", \"2015-06-14T09:36:00\", \"2015-08-08T04:48:00\", \"2015-10-02T00:00:00\", \"2015-11-25T19:12:00\", \"2016-01-19T14:24:00\", \"2016-03-14T09:36:00\", \"2016-05-08T04:48:00\", \"2016-07-02T00:00:00\", \"2016-08-25T19:12:00\", \"2016-10-19T14:24:00\", \"2016-12-13T09:36:00\", \"2017-02-06T04:48:00\", \"2017-04-02T00:00:00\", \"2017-05-26T19:12:00\", \"2017-07-20T14:24:00\", \"2017-09-13T09:36:00\", \"2017-11-07T04:48:00\"], \"y\": [23, 17, 8, 12, 19, 8, 19, 23, 19, 24, 9, 18, 7, 12, 22, 14, 17, 7, 13, 7]}, {\"hoverinfo\": \"text\", \"hovertext\": [\"<b>Topic 138</b><br>Words: china, beijing, beijings, hong, kong\", \"<b>Topic 138</b><br>Words: chinas, china, beijing, chinese, liu\", \"<b>Topic 138</b><br>Words: china, chinas, beijing, chinese, sea\", \"<b>Topic 138</b><br>Words: cynical, longrange, rocket, warvoicing, 2010china\", \"<b>Topic 138</b><br>Words: china, chinas, beijing, chinese, sea\", \"<b>Topic 138</b><br>Words: china, chinas, beijing, chinese, uschina\", \"<b>Topic 138</b><br>Words: china, chinas, beijing, sanctions, beijings\", \"<b>Topic 138</b><br>Words: china, chinas, chinese, beijing, rocket\", \"<b>Topic 138</b><br>Words: china, chinas, beijing, chinese, sea\", \"<b>Topic 138</b><br>Words: china, chinas, beijing, chinese, strategic\", \"<b>Topic 138</b><br>Words: yantai, china, chinese, chinas, beijing\", \"<b>Topic 138</b><br>Words: china, chinas, beijing, chinese, xi\", \"<b>Topic 138</b><br>Words: china, beijing, chinese, chinas, tourism\", \"<b>Topic 138</b><br>Words: china, beijing, chinese, chinas, wang\", \"<b>Topic 138</b><br>Words: china, chinas, chinese, beijing, retaliatory\", \"<b>Topic 138</b><br>Words: china, chinas, beijing, chinese, fang\", \"<b>Topic 138</b><br>Words: sanctions, xi, missile, beijings, haass\", \"<b>Topic 138</b><br>Words: china, beijing, chinas, oil, sanctions\", \"<b>Topic 138</b><br>Words: china, beijing, chinas, chinese, indopacific\", \"<b>Topic 138</b><br>Words: chinese, journalists, beijing, china, chinas\"], \"marker\": {\"color\": \"#F0E442\"}, \"mode\": \"lines\", \"name\": \"138_china_chinas_beijing_chinese\", \"type\": \"scatter\", \"x\": [\"2014-12-30T21:41:45.600000\", \"2015-02-24T19:12:00\", \"2015-04-20T14:24:00\", \"2015-06-14T09:36:00\", \"2015-08-08T04:48:00\", \"2015-10-02T00:00:00\", \"2015-11-25T19:12:00\", \"2016-01-19T14:24:00\", \"2016-03-14T09:36:00\", \"2016-05-08T04:48:00\", \"2016-07-02T00:00:00\", \"2016-08-25T19:12:00\", \"2016-10-19T14:24:00\", \"2016-12-13T09:36:00\", \"2017-02-06T04:48:00\", \"2017-04-02T00:00:00\", \"2017-05-26T19:12:00\", \"2017-07-20T14:24:00\", \"2017-09-13T09:36:00\", \"2017-11-07T04:48:00\"], \"y\": [11, 14, 8, 4, 13, 5, 17, 39, 11, 19, 14, 13, 6, 11, 37, 8, 12, 12, 9, 4]}, {\"hoverinfo\": \"text\", \"hovertext\": [\"<b>Topic 162</b><br>Words: russia, usrussia, enemy, unfavorable, negativeamericans\", \"<b>Topic 162</b><br>Words: trump, mad, crazy, republican, warseoul\", \"<b>Topic 162</b><br>Words: trump, republican, upkeep, fiveparty, trumps\", \"<b>Topic 162</b><br>Words: turkey, turkish, turkeys, trump, unluhisarcikli\", \"<b>Topic 162</b><br>Words: trump, republican, donald, unfounded, dumbest\", \"<b>Topic 162</b><br>Words: trump, republican, trumps, donald, armament\", \"<b>Topic 162</b><br>Words: trump, trumps, republican, donald, american\", \"<b>Topic 162</b><br>Words: trump, deal, allies, trumps, deals\", \"<b>Topic 162</b><br>Words: trump, deal, shearer, obama, donald\", \"<b>Topic 162</b><br>Words: trump, clinton, deals, donald, deal\", \"<b>Topic 162</b><br>Words: trump, donald, trumps, clinton, presidentelect\", \"<b>Topic 162</b><br>Words: trump, donald, trumps, freeze, pyongyang\", \"<b>Topic 162</b><br>Words: trump, donald, trumps, china, washington\", \"<b>Topic 162</b><br>Words: trump, donald, trumps, honored, mcmaster\", \"<b>Topic 162</b><br>Words: trump, donald, trumps, moon, american\", \"<b>Topic 162</b><br>Words: trump, donald, trumps, tillerson, washington\", \"<b>Topic 162</b><br>Words: trump, donald, trumps, washington, totally\", \"<b>Topic 162</b><br>Words: trump, donald, weapons, trumps, sanctions\"], \"marker\": {\"color\": \"#D55E00\"}, \"mode\": \"lines\", \"name\": \"162_trump_donald_trumps_republican\", \"type\": \"scatter\", \"x\": [\"2014-12-30T21:41:45.600000\", \"2015-06-14T09:36:00\", \"2015-08-08T04:48:00\", \"2015-10-02T00:00:00\", \"2015-11-25T19:12:00\", \"2016-01-19T14:24:00\", \"2016-03-14T09:36:00\", \"2016-05-08T04:48:00\", \"2016-07-02T00:00:00\", \"2016-08-25T19:12:00\", \"2016-10-19T14:24:00\", \"2016-12-13T09:36:00\", \"2017-02-06T04:48:00\", \"2017-04-02T00:00:00\", \"2017-05-26T19:12:00\", \"2017-07-20T14:24:00\", \"2017-09-13T09:36:00\", \"2017-11-07T04:48:00\"], \"y\": [1, 2, 4, 2, 4, 4, 22, 13, 8, 8, 15, 19, 45, 30, 19, 51, 56, 8]}, {\"hoverinfo\": \"text\", \"hovertext\": [\"<b>Topic 170</b><br>Words: talks, sixparty, envoy, discuss, meeting\", \"<b>Topic 170</b><br>Words: talks, carter, discuss, bilateral, meeting\", \"<b>Topic 170</b><br>Words: talks, meeting, discuss, china, beijing\", \"<b>Topic 170</b><br>Words: talks, meeting, beijing, meetings, meet\", \"<b>Topic 170</b><br>Words: talks, meeting, cooperation, counterpart, discuss\", \"<b>Topic 170</b><br>Words: talks, discuss, meeting, cooperation, iran\", \"<b>Topic 170</b><br>Words: talks, meeting, meet, discuss, cooperation\", \"<b>Topic 170</b><br>Words: talks, xi, beijing, obama, discuss\", \"<b>Topic 170</b><br>Words: talks, beijing, meeting, discuss, cooperation\", \"<b>Topic 170</b><br>Words: talks, beijing, forum, meeting, china\", \"<b>Topic 170</b><br>Words: talks, china, meeting, beijing, chinese\", \"<b>Topic 170</b><br>Words: discuss, talks, foreign, japan, meeting\", \"<b>Topic 170</b><br>Words: meeting, talks, yun, discuss, tracktwo\", \"<b>Topic 170</b><br>Words: talks, meeting, foreign, discuss, diplomatic\", \"<b>Topic 170</b><br>Words: yun, talks, tillerson, meeting, discuss\", \"<b>Topic 170</b><br>Words: envoy, beijing, talks, delegation, meet\", \"<b>Topic 170</b><br>Words: meeting, talks, washington, discuss, cooperation\", \"<b>Topic 170</b><br>Words: foreign, talks, meeting, discuss, minister\", \"<b>Topic 170</b><br>Words: talks, meeting, discuss, bilateral, envoy\", \"<b>Topic 170</b><br>Words: moon, chongqing, cooperation, bilateral, jinping\"], \"marker\": {\"color\": \"#0072B2\"}, \"mode\": \"lines\", \"name\": \"170_talks_meeting_discuss_beijing\", \"type\": \"scatter\", \"x\": [\"2014-12-30T21:41:45.600000\", \"2015-02-24T19:12:00\", \"2015-04-20T14:24:00\", \"2015-06-14T09:36:00\", \"2015-08-08T04:48:00\", \"2015-10-02T00:00:00\", \"2015-11-25T19:12:00\", \"2016-01-19T14:24:00\", \"2016-03-14T09:36:00\", \"2016-05-08T04:48:00\", \"2016-07-02T00:00:00\", \"2016-08-25T19:12:00\", \"2016-10-19T14:24:00\", \"2016-12-13T09:36:00\", \"2017-02-06T04:48:00\", \"2017-04-02T00:00:00\", \"2017-05-26T19:12:00\", \"2017-07-20T14:24:00\", \"2017-09-13T09:36:00\", \"2017-11-07T04:48:00\"], \"y\": [47, 50, 31, 34, 42, 14, 30, 24, 25, 31, 16, 25, 17, 25, 45, 25, 54, 40, 56, 32]}, {\"hoverinfo\": \"text\", \"hovertext\": [\"<b>Topic 194</b><br>Words: victim, wife, sexual, woman, sex\", \"<b>Topic 194</b><br>Words: sexual, sex, rape, victim, victims\", \"<b>Topic 194</b><br>Words: shooting, sexual, suicide, victim, lgbt\", \"<b>Topic 194</b><br>Words: victim, teacher, school, sexual, teachers\", \"<b>Topic 194</b><br>Words: grenade, victim, handgun, cats, murder\", \"<b>Topic 194</b><br>Words: smoe, snu, student, sexual, schools\", \"<b>Topic 194</b><br>Words: shrine, father, restroom, school, jeon\", \"<b>Topic 194</b><br>Words: victim, suspect, abuse, father, rape\", \"<b>Topic 194</b><br>Words: victim, jeongyeo, kaylalimheraldcorpcom, lim, murder\", \"<b>Topic 194</b><br>Words: victim, jeongyeo, kaylalimheraldcorpcom, suspect, accused\", \"<b>Topic 194</b><br>Words: victim, death, kaylalimheraldcorpcom, husband, dead\", \"<b>Topic 194</b><br>Words: victim, suspect, death, kaylalimheraldcorpcom, nagasaki\", \"<b>Topic 194</b><br>Words: gunpowder, victim, mattner, offender, 45yearold\", \"<b>Topic 194</b><br>Words: monk, guorui, shrine, jeju, chon\", \"<b>Topic 194</b><br>Words: victim, cult, murder, 8yearold, accomplice\", \"<b>Topic 194</b><br>Words: gay, victim, men, sexual, gangnam\", \"<b>Topic 194</b><br>Words: suspect, victim, murder, paigeshin2019heraldcorpcom, paige\", \"<b>Topic 194</b><br>Words: suspect, victim, setia, murder, bouncer\", \"<b>Topic 194</b><br>Words: suspect, victim, daughter, murder, wife\", \"<b>Topic 194</b><br>Words: victim, suspect, sexual, offenders, victims\"], \"marker\": {\"color\": \"#CC79A7\"}, \"mode\": \"lines\", \"name\": \"194_victim_suspect_sexual_murder\", \"type\": \"scatter\", \"x\": [\"2014-12-30T21:41:45.600000\", \"2015-02-24T19:12:00\", \"2015-04-20T14:24:00\", \"2015-06-14T09:36:00\", \"2015-08-08T04:48:00\", \"2015-10-02T00:00:00\", \"2015-11-25T19:12:00\", \"2016-01-19T14:24:00\", \"2016-03-14T09:36:00\", \"2016-05-08T04:48:00\", \"2016-07-02T00:00:00\", \"2016-08-25T19:12:00\", \"2016-10-19T14:24:00\", \"2016-12-13T09:36:00\", \"2017-02-06T04:48:00\", \"2017-04-02T00:00:00\", \"2017-05-26T19:12:00\", \"2017-07-20T14:24:00\", \"2017-09-13T09:36:00\", \"2017-11-07T04:48:00\"], \"y\": [39, 29, 19, 16, 23, 4, 14, 32, 72, 65, 24, 39, 5, 4, 11, 9, 31, 34, 62, 29]}, {\"hoverinfo\": \"text\", \"hovertext\": [\"<b>Topic 238</b><br>Words: drills, proposal, dialogue, halt, talks\", \"<b>Topic 238</b><br>Words: sixparty, talks, nuclear, dialogue, negotiations\", \"<b>Topic 238</b><br>Words: exploratory, hwang, talks, negotiationsexploratory, 2008since\", \"<b>Topic 238</b><br>Words: exercises, drills, interkorean, talks, artillery\", \"<b>Topic 238</b><br>Words: treaty, peace, denuclearization, talks, sixparty\", \"<b>Topic 238</b><br>Words: talks, sixparty, negotiations, talk, saidkim\", \"<b>Topic 238</b><br>Words: iaea, think, peace, irans, iran\", \"<b>Topic 238</b><br>Words: denuclearization, treaty, sanctions, proposal, nuclear\", \"<b>Topic 238</b><br>Words: denuclearization, talks, nuclear, sanctions, treaty\", \"<b>Topic 238</b><br>Words: pyongyang, peace, sanctions, denuclearization, treaty\", \"<b>Topic 238</b><br>Words: wish, unification, concernstension, welllast, jongunkims\", \"<b>Topic 238</b><br>Words: denuclearization, treaty, pyongyang, nuclear, sanctions\", \"<b>Topic 238</b><br>Words: cia, toothache, saidbeijing, obliterate, maliciously\", \"<b>Topic 238</b><br>Words: denuclearization, freeze, interkorean, talks, nuclear\", \"<b>Topic 238</b><br>Words: patience, policy, denuclearization, sanctions, haass\", \"<b>Topic 238</b><br>Words: haley, denuclearization, sanctions, dialogue, iran\", \"<b>Topic 238</b><br>Words: dialogue, peace, sanctions, talks, freeze\", \"<b>Topic 238</b><br>Words: kuwait, sanctions, dialogue, sudan, talks\", \"<b>Topic 238</b><br>Words: denuclearization, dialogue, talks, sanctions, provocations\", \"<b>Topic 238</b><br>Words: olympics, exercises, proposal, drills, olympic\"], \"marker\": {\"color\": \"#E69F00\"}, \"mode\": \"lines\", \"name\": \"238_denuclearization_talks_peace_treaty\", \"type\": \"scatter\", \"x\": [\"2014-12-30T21:41:45.600000\", \"2015-02-24T19:12:00\", \"2015-04-20T14:24:00\", \"2015-06-14T09:36:00\", \"2015-08-08T04:48:00\", \"2015-10-02T00:00:00\", \"2015-11-25T19:12:00\", \"2016-01-19T14:24:00\", \"2016-03-14T09:36:00\", \"2016-05-08T04:48:00\", \"2016-07-02T00:00:00\", \"2016-08-25T19:12:00\", \"2016-10-19T14:24:00\", \"2016-12-13T09:36:00\", \"2017-02-06T04:48:00\", \"2017-04-02T00:00:00\", \"2017-05-26T19:12:00\", \"2017-07-20T14:24:00\", \"2017-09-13T09:36:00\", \"2017-11-07T04:48:00\"], \"y\": [21, 6, 1, 14, 9, 4, 5, 10, 19, 11, 2, 10, 1, 3, 11, 6, 23, 13, 11, 11]}, {\"hoverinfo\": \"text\", \"hovertext\": [\"<b>Topic 246</b><br>Words: rocket, testfiring, ultraprecision, developed, missile\", \"<b>Topic 246</b><br>Words: missiles, shortrange, launch, rocket, groundtoair\", \"<b>Topic 246</b><br>Words: ballistic, missiles, missile, missiledefense, slbm\", \"<b>Topic 246</b><br>Words: loudspeakers, rocketat, attackat, broadcaststhe, trajectory\", \"<b>Topic 246</b><br>Words: kn08, rocket, missiles, ballistic, missile\", \"<b>Topic 246</b><br>Words: rocket, space, kari, kslv2, engine\", \"<b>Topic 246</b><br>Words: rocket, missiles, missile, space, orbit\", \"<b>Topic 246</b><br>Words: ballistic, missile, icbm, missiles, launch\", \"<b>Topic 246</b><br>Words: jupiter, spacecraft, jupiters, missile, nasa\", \"<b>Topic 246</b><br>Words: missiles, ballistic, missile, launch, launches\", \"<b>Topic 246</b><br>Words: rocket, launch, missiles, missile, satellite\", \"<b>Topic 246</b><br>Words: missile, ballistic, launch, missiles, pukguksong2\", \"<b>Topic 246</b><br>Words: missiles, ballistic, missile, launch, rocket\", \"<b>Topic 246</b><br>Words: missile, ballistic, launch, missiles, pukguksong2\", \"<b>Topic 246</b><br>Words: missile, icbm, ballistic, missiles, launch\", \"<b>Topic 246</b><br>Words: ballistic, missile, missiles, launch, launches\", \"<b>Topic 246</b><br>Words: icbm, missile, launch, hwasong15, hwasong14\", \"<b>Topic 246</b><br>Words: hwasong15, missile, icbm, space, launch\"], \"marker\": {\"color\": \"#56B4E9\"}, \"mode\": \"lines\", \"name\": \"246_ballistic_missile_missiles_launch\", \"type\": \"scatter\", \"x\": [\"2014-12-30T21:41:45.600000\", \"2015-02-24T19:12:00\", \"2015-04-20T14:24:00\", \"2015-06-14T09:36:00\", \"2015-08-08T04:48:00\", \"2015-11-25T19:12:00\", \"2016-01-19T14:24:00\", \"2016-03-14T09:36:00\", \"2016-05-08T04:48:00\", \"2016-07-02T00:00:00\", \"2016-08-25T19:12:00\", \"2016-12-13T09:36:00\", \"2017-02-06T04:48:00\", \"2017-04-02T00:00:00\", \"2017-05-26T19:12:00\", \"2017-07-20T14:24:00\", \"2017-09-13T09:36:00\", \"2017-11-07T04:48:00\"], \"y\": [3, 4, 4, 1, 5, 1, 31, 5, 9, 7, 10, 11, 10, 20, 28, 14, 7, 7]}, {\"hoverinfo\": \"text\", \"hovertext\": [\"<b>Topic 265</b><br>Words: prosecutors, judge, bribes, won, choi\", \"<b>Topic 265</b><br>Words: sung, prosecutors, lee, prosecution, million\", \"<b>Topic 265</b><br>Words: sung, prosecutors, funds, money, bribery\", \"<b>Topic 265</b><br>Words: prosecutors, won, money, han, prosecution\", \"<b>Topic 265</b><br>Words: prosecutors, cho, company, heepal, pianists\", \"<b>Topic 265</b><br>Words: prosecutors, million, kickbacks, bribes, forfeit\", \"<b>Topic 265</b><br>Words: prosecutors, won, sung, bribes, million\", \"<b>Topic 265</b><br>Words: prosecutors, school, money, million, choi\", \"<b>Topic 265</b><br>Words: prosecutors, jung, gambling, court, indicted\", \"<b>Topic 265</b><br>Words: jin, prosecutors, prosecution, bribes, wealth\", \"<b>Topic 265</b><br>Words: prosecutors, woo, geunryoung, prosecution, lee\", \"<b>Topic 265</b><br>Words: choi, prosecutors, mir, ksports, scandal\", \"<b>Topic 265</b><br>Words: choi, prosecutors, scandal, prosecution, chois\", \"<b>Topic 265</b><br>Words: choi, samsung, counsel, prosecutors, parks\", \"<b>Topic 265</b><br>Words: prosecutors, choi, prosecution, scandal, bribery\", \"<b>Topic 265</b><br>Words: choi, court, prosecutors, scandal, courtroom\", \"<b>Topic 265</b><br>Words: prosecution, prosecutors, court, samsung, lee\", \"<b>Topic 265</b><br>Words: prosecutors, samsung, choi, bribery, prosecution\", \"<b>Topic 265</b><br>Words: prosecutors, prosecution, choi, bribery, lee\", \"<b>Topic 265</b><br>Words: prosecutors, choi, bribery, won, bribes\"], \"marker\": {\"color\": \"#009E73\"}, \"mode\": \"lines\", \"name\": \"265_prosecutors_choi_prosecution_scandal\", \"type\": \"scatter\", \"x\": [\"2014-12-30T21:41:45.600000\", \"2015-02-24T19:12:00\", \"2015-04-20T14:24:00\", \"2015-06-14T09:36:00\", \"2015-08-08T04:48:00\", \"2015-10-02T00:00:00\", \"2015-11-25T19:12:00\", \"2016-01-19T14:24:00\", \"2016-03-14T09:36:00\", \"2016-05-08T04:48:00\", \"2016-07-02T00:00:00\", \"2016-08-25T19:12:00\", \"2016-10-19T14:24:00\", \"2016-12-13T09:36:00\", \"2017-02-06T04:48:00\", \"2017-04-02T00:00:00\", \"2017-05-26T19:12:00\", \"2017-07-20T14:24:00\", \"2017-09-13T09:36:00\", \"2017-11-07T04:48:00\"], \"y\": [34, 30, 41, 22, 12, 9, 12, 12, 16, 22, 11, 29, 70, 75, 56, 19, 29, 27, 69, 22]}],                        {\"height\": 450, \"hoverlabel\": {\"bgcolor\": \"white\", \"font\": {\"family\": \"Rockwell\", \"size\": 16}}, \"legend\": {\"title\": {\"text\": \"<b>Global Topic Representation\"}}, \"template\": {\"data\": {\"bar\": [{\"error_x\": {\"color\": \"rgb(36,36,36)\"}, \"error_y\": {\"color\": \"rgb(36,36,36)\"}, \"marker\": {\"line\": {\"color\": \"white\", \"width\": 0.5}}, \"type\": \"bar\"}], \"barpolar\": [{\"marker\": {\"line\": {\"color\": \"white\", \"width\": 0.5}}, \"type\": \"barpolar\"}], \"carpet\": [{\"aaxis\": {\"endlinecolor\": \"rgb(36,36,36)\", \"gridcolor\": \"white\", \"linecolor\": \"white\", \"minorgridcolor\": \"white\", \"startlinecolor\": \"rgb(36,36,36)\"}, \"baxis\": {\"endlinecolor\": \"rgb(36,36,36)\", \"gridcolor\": \"white\", \"linecolor\": \"white\", \"minorgridcolor\": \"white\", \"startlinecolor\": \"rgb(36,36,36)\"}, \"type\": \"carpet\"}], \"choropleth\": [{\"colorbar\": {\"outlinewidth\": 1, \"tickcolor\": \"rgb(36,36,36)\", \"ticks\": \"outside\"}, \"type\": \"choropleth\"}], \"contour\": [{\"colorbar\": {\"outlinewidth\": 1, \"tickcolor\": \"rgb(36,36,36)\", \"ticks\": \"outside\"}, \"colorscale\": [[0.0, \"#440154\"], [0.1111111111111111, \"#482878\"], [0.2222222222222222, \"#3e4989\"], [0.3333333333333333, \"#31688e\"], [0.4444444444444444, \"#26828e\"], [0.5555555555555556, \"#1f9e89\"], [0.6666666666666666, \"#35b779\"], [0.7777777777777778, \"#6ece58\"], [0.8888888888888888, \"#b5de2b\"], [1.0, \"#fde725\"]], \"type\": \"contour\"}], \"contourcarpet\": [{\"colorbar\": {\"outlinewidth\": 1, \"tickcolor\": \"rgb(36,36,36)\", \"ticks\": \"outside\"}, \"type\": \"contourcarpet\"}], \"heatmap\": [{\"colorbar\": {\"outlinewidth\": 1, \"tickcolor\": \"rgb(36,36,36)\", \"ticks\": \"outside\"}, \"colorscale\": [[0.0, \"#440154\"], [0.1111111111111111, \"#482878\"], [0.2222222222222222, \"#3e4989\"], [0.3333333333333333, \"#31688e\"], [0.4444444444444444, \"#26828e\"], [0.5555555555555556, \"#1f9e89\"], [0.6666666666666666, \"#35b779\"], [0.7777777777777778, \"#6ece58\"], [0.8888888888888888, \"#b5de2b\"], [1.0, \"#fde725\"]], \"type\": \"heatmap\"}], \"heatmapgl\": [{\"colorbar\": {\"outlinewidth\": 1, \"tickcolor\": \"rgb(36,36,36)\", \"ticks\": \"outside\"}, \"colorscale\": [[0.0, \"#440154\"], [0.1111111111111111, \"#482878\"], [0.2222222222222222, \"#3e4989\"], [0.3333333333333333, \"#31688e\"], [0.4444444444444444, \"#26828e\"], [0.5555555555555556, \"#1f9e89\"], [0.6666666666666666, \"#35b779\"], [0.7777777777777778, \"#6ece58\"], [0.8888888888888888, \"#b5de2b\"], [1.0, \"#fde725\"]], \"type\": \"heatmapgl\"}], \"histogram\": [{\"marker\": {\"line\": {\"color\": \"white\", \"width\": 0.6}}, \"type\": \"histogram\"}], \"histogram2d\": [{\"colorbar\": {\"outlinewidth\": 1, \"tickcolor\": \"rgb(36,36,36)\", \"ticks\": \"outside\"}, \"colorscale\": [[0.0, \"#440154\"], [0.1111111111111111, \"#482878\"], [0.2222222222222222, \"#3e4989\"], [0.3333333333333333, \"#31688e\"], [0.4444444444444444, \"#26828e\"], [0.5555555555555556, \"#1f9e89\"], [0.6666666666666666, \"#35b779\"], [0.7777777777777778, \"#6ece58\"], [0.8888888888888888, \"#b5de2b\"], [1.0, \"#fde725\"]], \"type\": \"histogram2d\"}], \"histogram2dcontour\": [{\"colorbar\": {\"outlinewidth\": 1, \"tickcolor\": \"rgb(36,36,36)\", \"ticks\": \"outside\"}, \"colorscale\": [[0.0, \"#440154\"], [0.1111111111111111, \"#482878\"], [0.2222222222222222, \"#3e4989\"], [0.3333333333333333, \"#31688e\"], [0.4444444444444444, \"#26828e\"], [0.5555555555555556, \"#1f9e89\"], [0.6666666666666666, \"#35b779\"], [0.7777777777777778, \"#6ece58\"], [0.8888888888888888, \"#b5de2b\"], [1.0, \"#fde725\"]], \"type\": \"histogram2dcontour\"}], \"mesh3d\": [{\"colorbar\": {\"outlinewidth\": 1, \"tickcolor\": \"rgb(36,36,36)\", \"ticks\": \"outside\"}, \"type\": \"mesh3d\"}], \"parcoords\": [{\"line\": {\"colorbar\": {\"outlinewidth\": 1, \"tickcolor\": \"rgb(36,36,36)\", \"ticks\": \"outside\"}}, \"type\": \"parcoords\"}], \"pie\": [{\"automargin\": true, \"type\": \"pie\"}], \"scatter\": [{\"marker\": {\"colorbar\": {\"outlinewidth\": 1, \"tickcolor\": \"rgb(36,36,36)\", \"ticks\": \"outside\"}}, \"type\": \"scatter\"}], \"scatter3d\": [{\"line\": {\"colorbar\": {\"outlinewidth\": 1, \"tickcolor\": \"rgb(36,36,36)\", \"ticks\": \"outside\"}}, \"marker\": {\"colorbar\": {\"outlinewidth\": 1, \"tickcolor\": \"rgb(36,36,36)\", \"ticks\": \"outside\"}}, \"type\": \"scatter3d\"}], \"scattercarpet\": [{\"marker\": {\"colorbar\": {\"outlinewidth\": 1, \"tickcolor\": \"rgb(36,36,36)\", \"ticks\": \"outside\"}}, \"type\": \"scattercarpet\"}], \"scattergeo\": [{\"marker\": {\"colorbar\": {\"outlinewidth\": 1, \"tickcolor\": \"rgb(36,36,36)\", \"ticks\": \"outside\"}}, \"type\": \"scattergeo\"}], \"scattergl\": [{\"marker\": {\"colorbar\": {\"outlinewidth\": 1, \"tickcolor\": \"rgb(36,36,36)\", \"ticks\": \"outside\"}}, \"type\": \"scattergl\"}], \"scattermapbox\": [{\"marker\": {\"colorbar\": {\"outlinewidth\": 1, \"tickcolor\": \"rgb(36,36,36)\", \"ticks\": \"outside\"}}, \"type\": \"scattermapbox\"}], \"scatterpolar\": [{\"marker\": {\"colorbar\": {\"outlinewidth\": 1, \"tickcolor\": \"rgb(36,36,36)\", \"ticks\": \"outside\"}}, \"type\": \"scatterpolar\"}], \"scatterpolargl\": [{\"marker\": {\"colorbar\": {\"outlinewidth\": 1, \"tickcolor\": \"rgb(36,36,36)\", \"ticks\": \"outside\"}}, \"type\": \"scatterpolargl\"}], \"scatterternary\": [{\"marker\": {\"colorbar\": {\"outlinewidth\": 1, \"tickcolor\": \"rgb(36,36,36)\", \"ticks\": \"outside\"}}, \"type\": \"scatterternary\"}], \"surface\": [{\"colorbar\": {\"outlinewidth\": 1, \"tickcolor\": \"rgb(36,36,36)\", \"ticks\": \"outside\"}, \"colorscale\": [[0.0, \"#440154\"], [0.1111111111111111, \"#482878\"], [0.2222222222222222, \"#3e4989\"], [0.3333333333333333, \"#31688e\"], [0.4444444444444444, \"#26828e\"], [0.5555555555555556, \"#1f9e89\"], [0.6666666666666666, \"#35b779\"], [0.7777777777777778, \"#6ece58\"], [0.8888888888888888, \"#b5de2b\"], [1.0, \"#fde725\"]], \"type\": \"surface\"}], \"table\": [{\"cells\": {\"fill\": {\"color\": \"rgb(237,237,237)\"}, \"line\": {\"color\": \"white\"}}, \"header\": {\"fill\": {\"color\": \"rgb(217,217,217)\"}, \"line\": {\"color\": \"white\"}}, \"type\": \"table\"}]}, \"layout\": {\"annotationdefaults\": {\"arrowhead\": 0, \"arrowwidth\": 1}, \"coloraxis\": {\"colorbar\": {\"outlinewidth\": 1, \"tickcolor\": \"rgb(36,36,36)\", \"ticks\": \"outside\"}}, \"colorscale\": {\"diverging\": [[0.0, \"rgb(103,0,31)\"], [0.1, \"rgb(178,24,43)\"], [0.2, \"rgb(214,96,77)\"], [0.3, \"rgb(244,165,130)\"], [0.4, \"rgb(253,219,199)\"], [0.5, \"rgb(247,247,247)\"], [0.6, \"rgb(209,229,240)\"], [0.7, \"rgb(146,197,222)\"], [0.8, \"rgb(67,147,195)\"], [0.9, \"rgb(33,102,172)\"], [1.0, \"rgb(5,48,97)\"]], \"sequential\": [[0.0, \"#440154\"], [0.1111111111111111, \"#482878\"], [0.2222222222222222, \"#3e4989\"], [0.3333333333333333, \"#31688e\"], [0.4444444444444444, \"#26828e\"], [0.5555555555555556, \"#1f9e89\"], [0.6666666666666666, \"#35b779\"], [0.7777777777777778, \"#6ece58\"], [0.8888888888888888, \"#b5de2b\"], [1.0, \"#fde725\"]], \"sequentialminus\": [[0.0, \"#440154\"], [0.1111111111111111, \"#482878\"], [0.2222222222222222, \"#3e4989\"], [0.3333333333333333, \"#31688e\"], [0.4444444444444444, \"#26828e\"], [0.5555555555555556, \"#1f9e89\"], [0.6666666666666666, \"#35b779\"], [0.7777777777777778, \"#6ece58\"], [0.8888888888888888, \"#b5de2b\"], [1.0, \"#fde725\"]]}, \"colorway\": [\"#1F77B4\", \"#FF7F0E\", \"#2CA02C\", \"#D62728\", \"#9467BD\", \"#8C564B\", \"#E377C2\", \"#7F7F7F\", \"#BCBD22\", \"#17BECF\"], \"font\": {\"color\": \"rgb(36,36,36)\"}, \"geo\": {\"bgcolor\": \"white\", \"lakecolor\": \"white\", \"landcolor\": \"white\", \"showlakes\": true, \"showland\": true, \"subunitcolor\": \"white\"}, \"hoverlabel\": {\"align\": \"left\"}, \"hovermode\": \"closest\", \"mapbox\": {\"style\": \"light\"}, \"paper_bgcolor\": \"white\", \"plot_bgcolor\": \"white\", \"polar\": {\"angularaxis\": {\"gridcolor\": \"rgb(232,232,232)\", \"linecolor\": \"rgb(36,36,36)\", \"showgrid\": false, \"showline\": true, \"ticks\": \"outside\"}, \"bgcolor\": \"white\", \"radialaxis\": {\"gridcolor\": \"rgb(232,232,232)\", \"linecolor\": \"rgb(36,36,36)\", \"showgrid\": false, \"showline\": true, \"ticks\": \"outside\"}}, \"scene\": {\"xaxis\": {\"backgroundcolor\": \"white\", \"gridcolor\": \"rgb(232,232,232)\", \"gridwidth\": 2, \"linecolor\": \"rgb(36,36,36)\", \"showbackground\": true, \"showgrid\": false, \"showline\": true, \"ticks\": \"outside\", \"zeroline\": false, \"zerolinecolor\": \"rgb(36,36,36)\"}, \"yaxis\": {\"backgroundcolor\": \"white\", \"gridcolor\": \"rgb(232,232,232)\", \"gridwidth\": 2, \"linecolor\": \"rgb(36,36,36)\", \"showbackground\": true, \"showgrid\": false, \"showline\": true, \"ticks\": \"outside\", \"zeroline\": false, \"zerolinecolor\": \"rgb(36,36,36)\"}, \"zaxis\": {\"backgroundcolor\": \"white\", \"gridcolor\": \"rgb(232,232,232)\", \"gridwidth\": 2, \"linecolor\": \"rgb(36,36,36)\", \"showbackground\": true, \"showgrid\": false, \"showline\": true, \"ticks\": \"outside\", \"zeroline\": false, \"zerolinecolor\": \"rgb(36,36,36)\"}}, \"shapedefaults\": {\"fillcolor\": \"black\", \"line\": {\"width\": 0}, \"opacity\": 0.3}, \"ternary\": {\"aaxis\": {\"gridcolor\": \"rgb(232,232,232)\", \"linecolor\": \"rgb(36,36,36)\", \"showgrid\": false, \"showline\": true, \"ticks\": \"outside\"}, \"baxis\": {\"gridcolor\": \"rgb(232,232,232)\", \"linecolor\": \"rgb(36,36,36)\", \"showgrid\": false, \"showline\": true, \"ticks\": \"outside\"}, \"bgcolor\": \"white\", \"caxis\": {\"gridcolor\": \"rgb(232,232,232)\", \"linecolor\": \"rgb(36,36,36)\", \"showgrid\": false, \"showline\": true, \"ticks\": \"outside\"}}, \"title\": {\"x\": 0.05}, \"xaxis\": {\"automargin\": true, \"gridcolor\": \"rgb(232,232,232)\", \"linecolor\": \"rgb(36,36,36)\", \"showgrid\": false, \"showline\": true, \"ticks\": \"outside\", \"title\": {\"standoff\": 15}, \"zeroline\": false, \"zerolinecolor\": \"rgb(36,36,36)\"}, \"yaxis\": {\"automargin\": true, \"gridcolor\": \"rgb(232,232,232)\", \"linecolor\": \"rgb(36,36,36)\", \"showgrid\": false, \"showline\": true, \"ticks\": \"outside\", \"title\": {\"standoff\": 15}, \"zeroline\": false, \"zerolinecolor\": \"rgb(36,36,36)\"}}}, \"title\": {\"font\": {\"color\": \"Black\", \"size\": 22}, \"text\": \"<b>Topics over Time\", \"x\": 0.4, \"xanchor\": \"center\", \"y\": 0.95, \"yanchor\": \"top\"}, \"width\": 1250, \"xaxis\": {\"showgrid\": true}, \"yaxis\": {\"showgrid\": true, \"title\": {\"text\": \"Frequency\"}}},                        {\"responsive\": true}                    ).then(function(){\n",
       "                            \n",
       "var gd = document.getElementById('f8cef8f9-95b1-478d-a58a-e5411f27a268');\n",
       "var x = new MutationObserver(function (mutations, observer) {{\n",
       "        var display = window.getComputedStyle(gd).display;\n",
       "        if (!display || display === 'none') {{\n",
       "            console.log([gd, 'removed!']);\n",
       "            Plotly.purge(gd);\n",
       "            observer.disconnect();\n",
       "        }}\n",
       "}});\n",
       "\n",
       "// Listen for the removal of the full notebook cells\n",
       "var notebookContainer = gd.closest('#notebook-container');\n",
       "if (notebookContainer) {{\n",
       "    x.observe(notebookContainer, {childList: true});\n",
       "}}\n",
       "\n",
       "// Listen for the clearing of the current output cell\n",
       "var outputEl = gd.closest('.output');\n",
       "if (outputEl) {{\n",
       "    x.observe(outputEl, {childList: true});\n",
       "}}\n",
       "\n",
       "                        })                };                });            </script>        </div>"
      ]
     },
     "metadata": {},
     "output_type": "display_data"
    }
   ],
   "source": [
    "topic_time_path = \"./topics_over_time_topic_top10.html\"\n",
    "if not os.path.exists(topic_time_path):\n",
    "    fig_time = topic_model.visualize_topics_over_time(topics_over_time, top_n=10)\n",
    "    fig_time.write_html(topic_time_path)\n",
    "fig_time"
   ]
  }
 ],
 "metadata": {
  "kernelspec": {
   "display_name": "Python 3.7.6 64-bit ('base': conda)",
   "language": "python",
   "name": "python37664bitbaseconda78a89ff0649c4c3296c624b2e7dd757c"
  },
  "language_info": {
   "codemirror_mode": {
    "name": "ipython",
    "version": 3
   },
   "file_extension": ".py",
   "mimetype": "text/x-python",
   "name": "python",
   "nbconvert_exporter": "python",
   "pygments_lexer": "ipython3",
   "version": "3.8.5"
  },
  "toc": {
   "base_numbering": 1,
   "nav_menu": {},
   "number_sections": false,
   "sideBar": true,
   "skip_h1_title": false,
   "title_cell": "Table of Contents",
   "title_sidebar": "Contents",
   "toc_cell": false,
   "toc_position": {},
   "toc_section_display": true,
   "toc_window_display": false
  }
 },
 "nbformat": 4,
 "nbformat_minor": 2
}
